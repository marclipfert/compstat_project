{
 "cells": [
  {
   "cell_type": "markdown",
   "metadata": {},
   "source": [
    "# Introduction to Dimensionality Reduction and Empirical Application\n",
    "\n",
    "### A Project by Marc Lipfert, Matriculation Number: 3220513\n",
    "\n",
    "### Computational Statistics (Summer Semester 2020)"
   ]
  },
  {
   "cell_type": "markdown",
   "metadata": {},
   "source": [
    "## Table of Contents\n",
    "\n",
    "[1.) Introduction](#introduction)\n",
    "\n",
    "2.) Dimensionality Reduction Using Principal Component Analysis (PCA)\n",
    "\n",
    "3.) Outline of the Empirical Setting\n",
    "\n",
    "4.) Comparison of PCA and Factor Analysis\n",
    "\n",
    "5.) Simulation Study\n",
    "\n",
    "6.) Empirical Application to Actual Survey Data\n",
    "\n",
    "7.) Conclusion"
   ]
  },
  {
   "cell_type": "markdown",
   "metadata": {},
   "source": [
    "<a id='introduction'></a>\n",
    "## 1.) Introduction"
   ]
  },
  {
   "cell_type": "markdown",
   "metadata": {},
   "source": [
    "<a id='pca'></a>\n",
    "## 2.) Dimensionality Reduction Using Principal Component Analysis (PCA)\n",
    "\n",
    "This section aims to introduce Principal Component Analysis (PCA) and thereby intends to answer the following questions: In which contexts is PCA a useful tool? And what are its properties and how is it conducted? \n",
    "\n",
    "*(a) In which contexts is PCA a useful tool?*\n",
    "\n",
    "PCA is essentially a dimensionality reduction method. In the case of a data set with many variables (\"high dimensionality\"), an empirical model based on an extensive set of variables is usually difficult to interpret. Further, the predictive performance of such a model may be poor due to overfitting. Therefore, the aim is often to create a small(er) set of new variables which captures most of the statistical information contained in the original variables. PCA intends to achieve exactly this, where those newly generated variables are called *Principal Components* and are linear combinations of the original variables. \n",
    "\n",
    "To illustrate in more detail what this means and why it is done, it is useful to fix ideas and draw on a formal framework. The set-up is intended to resemble a situation that is frequently encountered in microeconometrics. Assume that a survey is conducted among randomly selected individuals. The sample size is $N$ and the econometrician is interested in the relationship between the outcome $Y$ and a set of $P$ explanatory variables $X_1 , \\ldots , X_P$. The empirical model (structural equation) for an indivdidual $i$ is assumed to be as follows:\n",
    "\n",
    "$$ Y_i = \\beta_0 + \\beta_1 X_{1i} + \\ldots + \\beta_P X_{Pi} + \\epsilon_i \\text{,} $$\n",
    "\n",
    "where $\\epsilon$ denotes an error term that is assumed to have a conditional expectation of zero: $E[\\epsilon | X] = 0$. Using matrix notation, $ \\pmb Y$ and $\\pmb \\epsilon$ denote column vectors each of length $N$ and $\\pmb X$ is a $N \\times (P + 1)$ matrix. Then, the re-written structural equation reads: \n",
    "\n",
    "$$ Y = \\pmb X \\beta + \\epsilon \\text{ , where } \\pmb X = \\begin{pmatrix} 1 & X_{11} & X_{21} & \\dots & X_{P1} \\\\\n",
    "1 & X_{12} & X_{22} & \\dots & X_{P2} \\\\ \\vdots & \\vdots & \\vdots & \\vdots & \\vdots \\\\ 1 & X_{1N} & X_{2N} & \\dots & X_{PN} \\end{pmatrix} $$. \n",
    "\n",
    "The task of the econometrician is to find estimates $\\hat{\\beta}$ of the population parameters $\\beta$, usually obtained by minimizing the sum of squared residuals (i.e. OLS).  \n",
    "\n",
    "There are two problems that go along with high dimensional data, i.e. large $P$. First, when $N$ is only slightly larger than $P$, *overfitting* is likely to occur. In such a setting with a large number of explanatory variables relative to the sample size, the estimated coefficients of the explanatory variables might pick up on random noise rather than capturing the (\"true\") structural parameters. This can be viewed as an instance of the bias-variance trade-off: given standard assumptions, the numerous estimated coefficients would be unbiased but the variance of the obtained predictions would be large and thus highly dependent on the random sample that the model is fit on. Put differently, the estimated function $\\hat{f}$ with coefficients $ \\hat{\\beta}$ would yield poor predictions (or respectively, high prediction errors) when being applied to a different random sample of the population (\"test data set\").\n",
    "\n",
    "The second issue in the context of high dimensional data is the limited interpretability. Given the large number of explantory variables, a meaningful interpretation of the model may no longer be feasible. One might be inclined to interpret the estimated coefficients separately - but since high dimensionality can go along with large correlations among the explanatory variables, the issue of multicollinearity may render this approach useless as it cannot be pinned down which variable is truely predictive of the outcome.\n",
    "\n",
    "Dimensionality reduction can be employed to address those two issues. Principal Component Analysis (PCA) is probably the most common method to achieve this. As already stated, it entails finding linear combinations of the explanatory variables that encapsulate as much of the statistical information (\"variability\") contained in the original variables as possible. The actual procedure is outlined in the following.\n",
    "\n",
    "*(b) What are the properties of PCA and how is it conducted?*\n",
    "\n",
    "To begin with, it is common practice to centre (or \"demean\") the explanatory variables, which is done as follows: \n",
    "\n",
    "$$ \\tilde{x}_{ij} = x_{ij} - \\bar{x}_j \\text{,}$$\n",
    "\n",
    "where $\\bar{x}_j$ denotes the sample mean of the $j$th explanatory variable across the $N$ individuals. Importantly, this does not alter the solution besides centring it at zero. Note that when the units of measurement differ across the explanatory variables, e.g. height in cm and temperature in degree Celsius, it is advisable to go even further and standardise the variables to mean zero and standard deviation of 1. This is because of an undesirable feature that PCA has which is the sensitivity of the results to the units of measurement. A change in the units of measurement of a variable also affects its variance - and as the principal components are constructed such that they capture the greatest possible variability of the original variables, it follows that the principal components would change. This issue of standardisation will be picked up on in the following section.\n",
    "\n",
    "We are then interested in obtaining linear combinations $Z_1, \\dots, Z_M$ of the centred variables, where $M \\leq P$. Those linear combinations are referred to as prinicpal components and they are ordered according to their variance in a descending fashion, thus the first principal component $Z_1$ is the linear combination of the centred explanatory variables,\n",
    "\n",
    "$$ Z_1 = \\phi_{11} \\tilde{X}_1 + \\phi_{12} \\tilde{X}_2 + \\dots + \\phi_{1P} \\tilde{X}_P = \\sum_{j=1}^P \\phi_{1j} \\tilde{X}_j = \\tilde{\\pmb X} \\phi_1 \\, \\text{ ,}$$\n",
    "\n",
    "that yields the highest variance. The scalars $\\phi_{11}, \\phi_{12}, \\dots, \\phi_{1P}$ are referred to as *loadings* of the first principal component and $\\phi_1$ denotes the corresponding column vector $\\phi_1 = (\\phi_{11} \\, \\phi_{12}  \\, \\dots \\,  \\phi_{1P})^T$. \n",
    "\n",
    "To derive the actual loadings of the first principal component, we have to note that any such linear combination has its variance given by $Var(\\tilde{\\pmb X} \\phi)  = \\phi^T \\pmb S \\phi$, where $\\pmb S$ denotes the sample covariance matrix of the (centred) explanatory variables. Thus, the vector $\\phi_1$ must be obtained, which maximises the quadratic form $\\phi^T \\pmb S \\phi$. To ensure a well-defined solution to this problem, $\\phi$ is required to be a unit-norm vector, i.e. $\\phi^T \\phi = 1$. Put together, the constrained maximisation problem can be written as \n",
    "\n",
    "$$\\max_{\\phi} \\phi^T \\pmb S \\phi - \\lambda (\\phi^T \\phi -1) \\text{  .}$$\n",
    "\n",
    "Solving this problem yields:\n",
    "\n",
    "$$ \\pmb S \\phi - \\lambda \\phi = \\pmb 0 \\iff  \\pmb S \\phi = \\lambda \\phi \\text{  .}$$\n",
    "\n",
    "Thus, $\\phi$ is an eigenvector of the covariance matrix $\\pmb S$ and the scalar $\\lambda$ denotes the corresponding eigenvalue. Since we are interested in the linear combination with the largest variance  $Z_1$, the respective loadings vector $\\phi_1$ (i.e. the eigenvector) is identified by the largest eigenvalue $\\lambda_1$ as \n",
    "\n",
    "$$ Var(\\tilde{\\pmb X} \\phi)  = \\phi^T \\pmb S \\phi = \\lambda \\phi^T \\phi = \\lambda \\, \\text{ ,}$$\n",
    "\n",
    "using the solution of the maximisation problem. Note that this solution of the maximisation problem is unaffected if the eigenvectors $\\phi$ is multiplied by (-1), so the actual signs of the loadings are meaningless - merely their respective magnitudes as well as their sign patterns matter. \n",
    "\n",
    "As $\\pmb S$ is a symmetric $P \\times P$ matrix, a total number of $P$ eigenvalues can be obtained. The corresponding eigenvectors $\\phi_j$ with $j=1, \\dots, P$ can be required to be orthogonal to each other, which is ensured when they satify $\\phi_{j}^T \\phi_{j\\,'} = 1$ for $j=j\\,'$ and zero otherwise. It can be shown that the remaining $2, \\dots, P$ linear combinations can be found as solutions to the problem of successively maximizing the variance subject to the constraint of uncorrelatedness with previously obtained linear combinations.\n",
    "\n",
    "In consequence, we are able to obtain $P$ linear combinations, i.e. principal components, of the $P$ centred explanatory variables - and all of these linear combinations are uncorrelated. Further, they are arranged in descending order according to their variance, which implies that the variablility of the original variables is more concentrated within the first couple of principal components. Dimensionality reduction now means that not all of the principal components are used (otherwise no dimensionality reduction would have been achieved) but instead only the principal components up to $M < P$ are utilised. In a regression framework, this implies conducting Principal Component Regression (PCR): instead of regressing the outcome variable $Y$ on the original explanatory variables $\\pmb X$, we regress it on a number of principal components:\n",
    "\n",
    "$$ Y_i = \\gamma_0 + \\gamma_1 Z_{1i} + \\dots + \\gamma_M Z_{Mi} \\, \\text{ ,}$$\n",
    "\n",
    "The crucial assumption thereby is that the directions in which the (centred) original variables have the most variability are also the directions that are associated with the outcome variable $Y$. The word \"direction\" is used as the vectors of principal component loadings, $\\phi$, characterise a direction in a multi-dimensional space. Given that this assumption holds, using only $M$ linear combinations that contain most of the original statistical information improves upon the overfitting problem if $M << P$. Referring back to the variance-bias trade-off, we accept that a small part of the original statistical information is not used (i.e. introducting bias) while achieving a reduction of the variance of our predictions when being applied to a new random sample (test data set) which is likely to overcompensate for the introduced bias.  Further, interpretatibility of the model is increased as only a lower number of variables is included - which are also uncorrelated, so multicollinearity is no longer an issue.\n",
    "\n",
    "The questions remains, how many principal components should be included in the regression model. A helpful concept in this context is the *Proportion of Variance Explained* (PVE). As already stated, we intend to reduce the dimensionality of the data while preserving as much as possible of the original variability. So the PVE states how much of the total variance is captured by an individual principal component. As the explanatory variables are centred, the total variability is calculated as follows:\n",
    "\n",
    "$$ \\sum_{j=1}^{P} Var(\\tilde{X}_j) = \\sum_{j=1}^{P} \\frac{1}{N}\\sum_{i=1}^{N} \\tilde{x}_{ji}^2 \\text{ .}$$\n",
    "\n",
    "Further, the variance attributable to the $m$th principal component is \n",
    "\n",
    "$$ \\frac{1}{N} \\sum_{i=1}^{N} z_{mi}^2 = \\frac{1}{N} \\sum_{i=1}^{N} (\\sum_{j=1}^{P} \\phi_{mj} \\tilde{x}_{ji})^2 \\text{ .}$$\n",
    "\n",
    "Hence, the the proportion of total variance explained by the principal component $m$ is given by:\n",
    "\n",
    "$$ \\frac{\\sum_{i=1}^{N} (\\sum_{j=1}^{P} \\phi_{mj} \\tilde{x}_{ji})^2}{\\sum_{j=1}^{P} \\sum_{i=1}^{N} \\tilde{x}_{ji}^2} \\text{ .}$$\n",
    "\n",
    "Each PVE of the individual principal components is a positive number that lies between 0 and 1. In order to obtain the *cumulative PVE* up to prinipal component $M$, this would simply be the sum over the PVE of components $1, \\dots, M$. Both, the PVE and the cumulative are often visualized, where especially plotting the former against the number of principal components receives particular attention and is know as a \"Scree Plot\" (an example will be presented later).\n",
    "\n",
    "To pin down the number of principal components to include in a PCR, a number of rather *ad-hoc* decision rules have been proposed. For instance, choosing only as many principal components as to explain a sizeable fraction of the total variance has been suggested. While it is of course context-dependent, which actual cut-off with respect to the cumulative PVE is appropriate, requiring the principal components to explain at least 70-90\\% of the total variance can be seen as common practice (see Jolliffe, 112-113). A more visual approach would be to analyse the Scree Plot with the PVE on the y-axis and the number of principal components on the x-axis. By eyeballing one would identify the last principal component after which the PVE of the following ones drops off, which is sometimes referred to as an *elbow* (Hastie/Tibshirani, 384). A last example of those rather ad-hoc decision rules would be to keep those principal components with a corresponding eigenvalue $\\lambda$ that is larger than the average eigenvalue $\\bar{\\lambda}$, or only larger than $0.7 \\bar{\\lambda}$ (Jolliffe, 115).\n",
    "\n",
    "A more systematic and, as some would argue, more objective way to identify the number of principal components to include is to choose them via *Cross-Validation*. As already stated, our aim is to identify an empirical model which is able to explain $Y$ well. Thus, a well fitted model should be able to give good predictions of the outcome when being applied to different data that is likewise randomly drawn from the population. Overfitting is a potential issue which could lead to a situation in which the model is able to predict $Y$ well on a data set the model was trained on, but does poorly in predicting the outcome when using a test data set. One way to achieve good predictive performance on test data is to use Cross-Validation (CV). Then, the available data is randomly split into $k$ folds, commonly $k = 10$. Initially, the first fold is kept as a validation set, and the model is fit on the rest of the data, i.e. on the other $(k-1)$ folds. The quality of the estimated model $\\hat{f}$ is evaluated on the held-out fold and the corresponding prediction error is calculated as the mean squared error (MSE). This procedure is repeated $k$ times, always keeping another fold as the validation set. The $k$-fold Cross-Validation estimate of the MSE is then simply the average of the obtained measures of the prediction errors: $MSE_1, \\dots, MSE_k$. Referring back to the problem of selecting the appropriate number of principal components, the number would be chosen in order to achieve the lowest CV MSE."
   ]
  },
  {
   "cell_type": "markdown",
   "metadata": {},
   "source": [
    "## Lab 1\n",
    "### Visualisation of the General Approach\n"
   ]
  },
  {
   "cell_type": "markdown",
   "metadata": {},
   "source": [
    "The approach is best described when starting with low-dimensional data, such as $P = 2$, as this can easily be visualised. For this purpose, data is drawn from a bivariate normal distribution in which the data generating process features both variables to have differing variances. Further, they have a positive covariance. The centred data as well as the two principal components are presented in the following graph."
   ]
  },
  {
   "cell_type": "code",
   "execution_count": 1,
   "metadata": {},
   "outputs": [
    {
     "name": "stderr",
     "output_type": "stream",
     "text": [
      "Warning message:\n",
      "\"package 'mvtnorm' was built under R version 3.6.2\"Warning message:\n",
      "\"package 'ggplot2' was built under R version 3.6.3\"Warning message:\n",
      "\"package 'gridExtra' was built under R version 3.6.3\"Warning message:\n",
      "\"package 'cowplot' was built under R version 3.6.3\"\n",
      "********************************************************\n",
      "Note: As of version 1.0.0, cowplot does not change the\n",
      "  default ggplot2 theme anymore. To recover the previous\n",
      "  behavior, execute:\n",
      "  theme_set(theme_cowplot())\n",
      "********************************************************\n",
      "\n"
     ]
    }
   ],
   "source": [
    "library(mvtnorm)\n",
    "library(ggplot2)\n",
    "library(gridExtra)\n",
    "library(cowplot)\n",
    "\n",
    "#adjust size of graphs\n",
    "options(repr.plot.res = 80) \n",
    "# options(repr.plot.width=4, repr.plot.height=4.5)"
   ]
  },
  {
   "cell_type": "code",
   "execution_count": 2,
   "metadata": {},
   "outputs": [],
   "source": [
    "prco <- function(X) {\n",
    "    cov <- cov(X)\n",
    "    p <- dim(cov)[1]\n",
    "    \n",
    "    pca <- eigen(cov)\n",
    "    colnames(pca$vectors) <- paste(\"PC\", 1:p, sep=\"\")\n",
    "    rownames(pca$vectors) <- paste(\"X\", 1:p, sep=\"\")\n",
    "    \n",
    "    PVE <- pca$values / sum(apply(X, 2, var))\n",
    "    cPVE <- cumsum(PVE)\n",
    "    importance <- round(rbind(pca$values, PVE, cPVE), 4)\n",
    "    rownames(importance)[1] <- \"Var (Eigenval.)\"\n",
    "    colnames(importance) <- paste(\"PC\", 1:p, sep=\"\")\n",
    "    \n",
    "    vars <- cbind(paste(\"PC\", 1:p, sep=\"\"), pca$values)\n",
    "    colnames(vars) <- c(\"PC\", \"var\")\n",
    "    df_vars <- data.frame(vars)\n",
    "    df_vars$var <- as.numeric(as.character(df_vars$var))\n",
    "    \n",
    "    return(list(values=pca$values, vectors=pca$vectors, df_vars = df_vars, importance=importance))\n",
    "}"
   ]
  },
  {
   "cell_type": "code",
   "execution_count": 3,
   "metadata": {},
   "outputs": [
    {
     "data": {
      "image/png": "[encoded data removed]",
      "text/plain": [
       "plot without title"
      ]
     },
     "metadata": {},
     "output_type": "display_data"
    }
   ],
   "source": [
    "# Bivariate Normal Distribution\n",
    "\n",
    "set.seed(1234)\n",
    "\n",
    "N <- 200\n",
    "sigma <- matrix(c(5, 6, 6, 12), byrow = T, nrow = 2)\n",
    "mu <- c(5, 15)\n",
    "\n",
    "X <- rmvnorm(N, mean = mu, sigma = sigma)\n",
    "colnames(X) <- c(\"X1\", \"X2\")\n",
    "X_demeaned <- scale(X, center=T, scale = F)\n",
    "\n",
    "df_demeaned <- as.data.frame(X_demeaned)\n",
    "\n",
    "pca <- prco(X_demeaned)\n",
    "\n",
    "p1 <-   ggplot(df_demeaned, aes(X1, X2)) + \n",
    "        xlim(-10, 10) +\n",
    "        geom_point() + \n",
    "        geom_abline(aes(slope = pca$vectors[2, 1] / pca$vectors[1, 1], intercept = 0, colour=\"PC1\")) + \n",
    "        geom_abline(aes(slope = pca$vectors[2, 2] / pca$vectors[1, 2], intercept = 0, colour=\"PC2\")) +\n",
    "        theme(plot.title = element_text(hjust = 0.5)) +\n",
    "        labs(color = \"\") + xlab(\"X1 (demeaned)\") + ylab(\"X2 (demeaned)\") +\n",
    "        scale_color_manual(values = c(\"PC1\" = \"red\", \"PC2\" = \"blue\")) +\n",
    "        ggtitle(\"Visualisation of Principal Components\") +\n",
    "        coord_fixed()\n",
    "p1"
   ]
  },
  {
   "cell_type": "markdown",
   "metadata": {},
   "source": [
    "The positive covariance of the data can be spotted as the point cloud has an upward slope. Since the first principal component is by definition the linear combination of the two variables which captures as much of their variability as possible, it also has a positive slope, thereby capturing the co-movement. The first principal component, depicted in the graph by the red line, has the property that it is the line which minimises the sum of the squared perpendicular distances between the data points and the line. The second principal component (blue line), by construction, must be orthogonal to the first one. Thus, in the two-dimension space, it is perpendicular to the first one. As can already been seen from the graph, the variability in the direction of the first principal component is in this case distinctly larger than the one in the direction of the second one. \n",
    "\n",
    "The numerical values of the principal component loadings are presented below. The first principal component assigns more weight to the second variable X2 than to the first variable X1 (0.86 vs. 0.5), as the former is also the one with a higher variance (see sample covariance matrix below). And indeed, the first principal component captures far more of the total variability than the second one: about 92\\% of the total variability is explained by it and only around 8\\% by the second component."
   ]
  },
  {
   "cell_type": "code",
   "execution_count": 4,
   "metadata": {},
   "outputs": [
    {
     "name": "stdout",
     "output_type": "stream",
     "text": [
      "[1] \"Sample Covariance Matrix:\"\n"
     ]
    },
    {
     "data": {
      "text/html": [
       "<table>\n",
       "<thead><tr><th></th><th scope=col>X1</th><th scope=col>X2</th></tr></thead>\n",
       "<tbody>\n",
       "\t<tr><th scope=row>X1</th><td>5.3894 </td><td> 6.6935</td></tr>\n",
       "\t<tr><th scope=row>X2</th><td>6.6935 </td><td>13.0390</td></tr>\n",
       "</tbody>\n",
       "</table>\n"
      ],
      "text/latex": [
       "\\begin{tabular}{r|ll}\n",
       "  & X1 & X2\\\\\n",
       "\\hline\n",
       "\tX1 & 5.3894  &  6.6935\\\\\n",
       "\tX2 & 6.6935  & 13.0390\\\\\n",
       "\\end{tabular}\n"
      ],
      "text/markdown": [
       "\n",
       "| <!--/--> | X1 | X2 |\n",
       "|---|---|---|\n",
       "| X1 | 5.3894  |  6.6935 |\n",
       "| X2 | 6.6935  | 13.0390 |\n",
       "\n"
      ],
      "text/plain": [
       "   X1     X2     \n",
       "X1 5.3894  6.6935\n",
       "X2 6.6935 13.0390"
      ]
     },
     "metadata": {},
     "output_type": "display_data"
    },
    {
     "name": "stdout",
     "output_type": "stream",
     "text": [
      "[1] \"Principal Components:\"\n"
     ]
    },
    {
     "data": {
      "text/html": [
       "<table>\n",
       "<thead><tr><th></th><th scope=col>PC1</th><th scope=col>PC2</th></tr></thead>\n",
       "<tbody>\n",
       "\t<tr><th scope=row>X1</th><td>0.5019 </td><td>-0.8649</td></tr>\n",
       "\t<tr><th scope=row>X2</th><td>0.8649 </td><td> 0.5019</td></tr>\n",
       "</tbody>\n",
       "</table>\n"
      ],
      "text/latex": [
       "\\begin{tabular}{r|ll}\n",
       "  & PC1 & PC2\\\\\n",
       "\\hline\n",
       "\tX1 & 0.5019  & -0.8649\\\\\n",
       "\tX2 & 0.8649  &  0.5019\\\\\n",
       "\\end{tabular}\n"
      ],
      "text/markdown": [
       "\n",
       "| <!--/--> | PC1 | PC2 |\n",
       "|---|---|---|\n",
       "| X1 | 0.5019  | -0.8649 |\n",
       "| X2 | 0.8649  |  0.5019 |\n",
       "\n"
      ],
      "text/plain": [
       "   PC1    PC2    \n",
       "X1 0.5019 -0.8649\n",
       "X2 0.8649  0.5019"
      ]
     },
     "metadata": {},
     "output_type": "display_data"
    },
    {
     "name": "stdout",
     "output_type": "stream",
     "text": [
      "[1] \"Importance of Components:\"\n"
     ]
    },
    {
     "data": {
      "text/html": [
       "<table>\n",
       "<thead><tr><th></th><th scope=col>PC1</th><th scope=col>PC2</th></tr></thead>\n",
       "<tbody>\n",
       "\t<tr><th scope=row>Var (Eigenval.)</th><td>16.9235</td><td>1.5050 </td></tr>\n",
       "\t<tr><th scope=row>PVE</th><td> 0.9183</td><td>0.0817 </td></tr>\n",
       "\t<tr><th scope=row>cPVE</th><td> 0.9183</td><td>1.0000 </td></tr>\n",
       "</tbody>\n",
       "</table>\n"
      ],
      "text/latex": [
       "\\begin{tabular}{r|ll}\n",
       "  & PC1 & PC2\\\\\n",
       "\\hline\n",
       "\tVar (Eigenval.) & 16.9235 & 1.5050 \\\\\n",
       "\tPVE &  0.9183 & 0.0817 \\\\\n",
       "\tcPVE &  0.9183 & 1.0000 \\\\\n",
       "\\end{tabular}\n"
      ],
      "text/markdown": [
       "\n",
       "| <!--/--> | PC1 | PC2 |\n",
       "|---|---|---|\n",
       "| Var (Eigenval.) | 16.9235 | 1.5050  |\n",
       "| PVE |  0.9183 | 0.0817  |\n",
       "| cPVE |  0.9183 | 1.0000  |\n",
       "\n"
      ],
      "text/plain": [
       "                PC1     PC2   \n",
       "Var (Eigenval.) 16.9235 1.5050\n",
       "PVE              0.9183 0.0817\n",
       "cPVE             0.9183 1.0000"
      ]
     },
     "metadata": {},
     "output_type": "display_data"
    },
    {
     "data": {
      "image/png": "[encoded data removed]",
      "text/plain": [
       "plot without title"
      ]
     },
     "metadata": {},
     "output_type": "display_data"
    }
   ],
   "source": [
    "print(\"Sample Covariance Matrix:\")\n",
    "# Sample cov is invariant to demeaning\n",
    "round(cov(df_demeaned), 4)\n",
    "\n",
    "print(\"Principal Components:\")\n",
    "round(pca$vectors, 4)\n",
    "\n",
    "print(\"Importance of Components:\")\n",
    "pca$importance\n",
    "\n",
    "ggplot(data = pca$df_vars, aes(x=PC, y=var)) +\n",
    "    geom_bar(stat=\"identity\", fill=\"green\") + ylab(\"Variance (Eigenvalue)\")"
   ]
  },
  {
   "cell_type": "markdown",
   "metadata": {},
   "source": [
    "### Standardisation\n"
   ]
  },
  {
   "cell_type": "markdown",
   "metadata": {},
   "source": [
    "In the following, it shall be demonstrated that PCA with standardised data indeed leads to different principal components than when using data that is merely demeaned. The following plot shows the demeaned data from before on the left side and the standardised version of the same underlying data on the right. As one can see, the slope of the principal components differ across panels. The first principal component with demeaned data assigned more weight to the second variable X2, which is captured by the corresponding red line having a slope larger than one. With standardised data, the first principal component has identical factor loadings for the two variables as the differences in variance across the variables are now levelled.\n",
    "\n",
    "This is because standardisation alters the covariance matrix while demeaning leaves is unaffected. Since the principal components are obtained as the eigenvectors of the covariance matrix, they then also differ. The covariance matrix of the standardised data is in fact the correlation matrix of the underlying data. "
   ]
  },
  {
   "cell_type": "code",
   "execution_count": 5,
   "metadata": {},
   "outputs": [
    {
     "data": {
      "image/png": "[encoded data removed]",
      "text/plain": [
       "plot without title"
      ]
     },
     "metadata": {},
     "output_type": "display_data"
    }
   ],
   "source": [
    "X_std <- scale(X, center = T, scale = T)\n",
    "df_std <- as.data.frame(X_std)\n",
    "pca_std <- prco(X_std)\n",
    "\n",
    "p2 <-   ggplot(df_std, aes(X1, X2)) + \n",
    "        geom_point() + \n",
    "        geom_abline(aes(slope = pca_std$vectors[2, 1] / pca_std$vectors[1, 1], intercept = 0, colour=\"PC1\")) + \n",
    "        geom_abline(aes(slope = pca_std$vectors[2, 2] / pca_std$vectors[1, 2], intercept = 0, colour=\"PC2\")) +\n",
    "        theme(plot.title = element_text(hjust = 0.5)) +\n",
    "        labs(color = \"\") + xlab(\"X1 (stand.)\") + ylab(\"X2 (stand.)\") +\n",
    "        scale_color_manual(values = c(\"PC1\" = \"red\", \"PC2\" = \"blue\")) +\n",
    "        ggtitle(\"PCA with standardised data\") +\n",
    "        coord_fixed()\n",
    "\n",
    "p1 <- p1 + ggtitle(\"PCA with demeaned data\")\n",
    "\n",
    "options(repr.plot.width=10, repr.plot.height=8)\n",
    "grid.arrange(p1, p2, nrow=1)"
   ]
  },
  {
   "cell_type": "markdown",
   "metadata": {},
   "source": [
    "Below, the correlation matrix is displayed. Both variables have a high correlation of about .8 and this leads to factor loadings of the first principal component that equally weight both of the standardised variables. Still, the first component explains about 90\\% of the total variance."
   ]
  },
  {
   "cell_type": "code",
   "execution_count": 6,
   "metadata": {},
   "outputs": [
    {
     "name": "stdout",
     "output_type": "stream",
     "text": [
      "[1] \"Sample Covariance Matrix:\"\n"
     ]
    },
    {
     "data": {
      "text/html": [
       "<table>\n",
       "<thead><tr><th></th><th scope=col>X1</th><th scope=col>X2</th></tr></thead>\n",
       "<tbody>\n",
       "\t<tr><th scope=row>X1</th><td>5.389441 </td><td> 6.693512</td></tr>\n",
       "\t<tr><th scope=row>X2</th><td>6.693512 </td><td>13.039028</td></tr>\n",
       "</tbody>\n",
       "</table>\n"
      ],
      "text/latex": [
       "\\begin{tabular}{r|ll}\n",
       "  & X1 & X2\\\\\n",
       "\\hline\n",
       "\tX1 & 5.389441  &  6.693512\\\\\n",
       "\tX2 & 6.693512  & 13.039028\\\\\n",
       "\\end{tabular}\n"
      ],
      "text/markdown": [
       "\n",
       "| <!--/--> | X1 | X2 |\n",
       "|---|---|---|\n",
       "| X1 | 5.389441  |  6.693512 |\n",
       "| X2 | 6.693512  | 13.039028 |\n",
       "\n"
      ],
      "text/plain": [
       "   X1       X2       \n",
       "X1 5.389441  6.693512\n",
       "X2 6.693512 13.039028"
      ]
     },
     "metadata": {},
     "output_type": "display_data"
    },
    {
     "name": "stdout",
     "output_type": "stream",
     "text": [
      "[1] \"Covariance Matrix of Standardised Data (Correlation Matrix)\"\n"
     ]
    },
    {
     "data": {
      "text/html": [
       "<table>\n",
       "<thead><tr><th></th><th scope=col>X1</th><th scope=col>X2</th></tr></thead>\n",
       "<tbody>\n",
       "\t<tr><th scope=row>X1</th><td>1.0000000</td><td>0.7984717</td></tr>\n",
       "\t<tr><th scope=row>X2</th><td>0.7984717</td><td>1.0000000</td></tr>\n",
       "</tbody>\n",
       "</table>\n"
      ],
      "text/latex": [
       "\\begin{tabular}{r|ll}\n",
       "  & X1 & X2\\\\\n",
       "\\hline\n",
       "\tX1 & 1.0000000 & 0.7984717\\\\\n",
       "\tX2 & 0.7984717 & 1.0000000\\\\\n",
       "\\end{tabular}\n"
      ],
      "text/markdown": [
       "\n",
       "| <!--/--> | X1 | X2 |\n",
       "|---|---|---|\n",
       "| X1 | 1.0000000 | 0.7984717 |\n",
       "| X2 | 0.7984717 | 1.0000000 |\n",
       "\n"
      ],
      "text/plain": [
       "   X1        X2       \n",
       "X1 1.0000000 0.7984717\n",
       "X2 0.7984717 1.0000000"
      ]
     },
     "metadata": {},
     "output_type": "display_data"
    },
    {
     "name": "stdout",
     "output_type": "stream",
     "text": [
      "[1] \"Principal Component Loadings (standardised data):\"\n"
     ]
    },
    {
     "data": {
      "text/html": [
       "<table>\n",
       "<thead><tr><th></th><th scope=col>PC1</th><th scope=col>PC2</th></tr></thead>\n",
       "<tbody>\n",
       "\t<tr><th scope=row>X1</th><td>0.7071068 </td><td>-0.7071068</td></tr>\n",
       "\t<tr><th scope=row>X2</th><td>0.7071068 </td><td> 0.7071068</td></tr>\n",
       "</tbody>\n",
       "</table>\n"
      ],
      "text/latex": [
       "\\begin{tabular}{r|ll}\n",
       "  & PC1 & PC2\\\\\n",
       "\\hline\n",
       "\tX1 & 0.7071068  & -0.7071068\\\\\n",
       "\tX2 & 0.7071068  &  0.7071068\\\\\n",
       "\\end{tabular}\n"
      ],
      "text/markdown": [
       "\n",
       "| <!--/--> | PC1 | PC2 |\n",
       "|---|---|---|\n",
       "| X1 | 0.7071068  | -0.7071068 |\n",
       "| X2 | 0.7071068  |  0.7071068 |\n",
       "\n"
      ],
      "text/plain": [
       "   PC1       PC2       \n",
       "X1 0.7071068 -0.7071068\n",
       "X2 0.7071068  0.7071068"
      ]
     },
     "metadata": {},
     "output_type": "display_data"
    },
    {
     "name": "stdout",
     "output_type": "stream",
     "text": [
      "[1] \"Importance of Principal Components (standardised data):\"\n"
     ]
    },
    {
     "data": {
      "text/html": [
       "<table>\n",
       "<thead><tr><th></th><th scope=col>PC1</th><th scope=col>PC2</th></tr></thead>\n",
       "<tbody>\n",
       "\t<tr><th scope=row>Var (Eigenval.)</th><td>1.7985</td><td>0.2015</td></tr>\n",
       "\t<tr><th scope=row>PVE</th><td>0.8992</td><td>0.1008</td></tr>\n",
       "\t<tr><th scope=row>cPVE</th><td>0.8992</td><td>1.0000</td></tr>\n",
       "</tbody>\n",
       "</table>\n"
      ],
      "text/latex": [
       "\\begin{tabular}{r|ll}\n",
       "  & PC1 & PC2\\\\\n",
       "\\hline\n",
       "\tVar (Eigenval.) & 1.7985 & 0.2015\\\\\n",
       "\tPVE & 0.8992 & 0.1008\\\\\n",
       "\tcPVE & 0.8992 & 1.0000\\\\\n",
       "\\end{tabular}\n"
      ],
      "text/markdown": [
       "\n",
       "| <!--/--> | PC1 | PC2 |\n",
       "|---|---|---|\n",
       "| Var (Eigenval.) | 1.7985 | 0.2015 |\n",
       "| PVE | 0.8992 | 0.1008 |\n",
       "| cPVE | 0.8992 | 1.0000 |\n",
       "\n"
      ],
      "text/plain": [
       "                PC1    PC2   \n",
       "Var (Eigenval.) 1.7985 0.2015\n",
       "PVE             0.8992 0.1008\n",
       "cPVE            0.8992 1.0000"
      ]
     },
     "metadata": {},
     "output_type": "display_data"
    },
    {
     "data": {
      "image/png": "[encoded data removed]",
      "text/plain": [
       "plot without title"
      ]
     },
     "metadata": {},
     "output_type": "display_data"
    }
   ],
   "source": [
    "print(\"Sample Covariance Matrix:\")\n",
    "cov(df_demeaned)\n",
    "\n",
    "print(\"Covariance Matrix of Standardised Data (Correlation Matrix)\")\n",
    "# Standardisation alters original Cov Matrix\n",
    "cov(df_std)\n",
    "\n",
    "print(\"Principal Component Loadings (standardised data):\")\n",
    "pca_std$vectors\n",
    "\n",
    "print(\"Importance of Principal Components (standardised data):\")\n",
    "pca_std$importance\n",
    "\n",
    "ggplot(data = pca_std$df_var, aes(x=PC, y=var)) +\n",
    "    geom_bar(stat=\"identity\", fill=\"green\") + ylab(\"Variance (Eigenvalue)\")"
   ]
  },
  {
   "cell_type": "markdown",
   "metadata": {},
   "source": [
    "To illustrate this point of standardisation changing the obtained factor loadings more clearly, consider the bivariate case with uncorrelated variables and drastically differing variances. "
   ]
  },
  {
   "cell_type": "code",
   "execution_count": 7,
   "metadata": {},
   "outputs": [
    {
     "name": "stdout",
     "output_type": "stream",
     "text": [
      "[1] \"****************************\"\n",
      "[1] \"*** Demeaned Data **********\"\n",
      "[1] \"****************************\"\n",
      "[1] \"Sample Covariance Matrix:\"\n"
     ]
    },
    {
     "data": {
      "text/html": [
       "<table>\n",
       "<thead><tr><th></th><th scope=col>X1</th><th scope=col>X2</th></tr></thead>\n",
       "<tbody>\n",
       "\t<tr><th scope=row>X1</th><td>11.43334373</td><td>-0.07325336</td></tr>\n",
       "\t<tr><th scope=row>X2</th><td>-0.07325336</td><td> 1.86232795</td></tr>\n",
       "</tbody>\n",
       "</table>\n"
      ],
      "text/latex": [
       "\\begin{tabular}{r|ll}\n",
       "  & X1 & X2\\\\\n",
       "\\hline\n",
       "\tX1 & 11.43334373 & -0.07325336\\\\\n",
       "\tX2 & -0.07325336 &  1.86232795\\\\\n",
       "\\end{tabular}\n"
      ],
      "text/markdown": [
       "\n",
       "| <!--/--> | X1 | X2 |\n",
       "|---|---|---|\n",
       "| X1 | 11.43334373 | -0.07325336 |\n",
       "| X2 | -0.07325336 |  1.86232795 |\n",
       "\n"
      ],
      "text/plain": [
       "   X1          X2         \n",
       "X1 11.43334373 -0.07325336\n",
       "X2 -0.07325336  1.86232795"
      ]
     },
     "metadata": {},
     "output_type": "display_data"
    },
    {
     "name": "stdout",
     "output_type": "stream",
     "text": [
      "[1] \"Principal Components:\"\n"
     ]
    },
    {
     "data": {
      "text/html": [
       "<table>\n",
       "<thead><tr><th></th><th scope=col>PC1</th><th scope=col>PC2</th></tr></thead>\n",
       "<tbody>\n",
       "\t<tr><th scope=row>X1</th><td>-0.999970715</td><td>-0.007652994</td></tr>\n",
       "\t<tr><th scope=row>X2</th><td> 0.007652994</td><td>-0.999970715</td></tr>\n",
       "</tbody>\n",
       "</table>\n"
      ],
      "text/latex": [
       "\\begin{tabular}{r|ll}\n",
       "  & PC1 & PC2\\\\\n",
       "\\hline\n",
       "\tX1 & -0.999970715 & -0.007652994\\\\\n",
       "\tX2 &  0.007652994 & -0.999970715\\\\\n",
       "\\end{tabular}\n"
      ],
      "text/markdown": [
       "\n",
       "| <!--/--> | PC1 | PC2 |\n",
       "|---|---|---|\n",
       "| X1 | -0.999970715 | -0.007652994 |\n",
       "| X2 |  0.007652994 | -0.999970715 |\n",
       "\n"
      ],
      "text/plain": [
       "   PC1          PC2         \n",
       "X1 -0.999970715 -0.007652994\n",
       "X2  0.007652994 -0.999970715"
      ]
     },
     "metadata": {},
     "output_type": "display_data"
    },
    {
     "data": {
      "text/html": [
       "<table>\n",
       "<thead><tr><th></th><th scope=col>PC1</th><th scope=col>PC2</th></tr></thead>\n",
       "<tbody>\n",
       "\t<tr><th scope=row>Var (Eigenval.)</th><td>11.4339</td><td>1.8618 </td></tr>\n",
       "\t<tr><th scope=row>PVE</th><td> 0.8600</td><td>0.1400 </td></tr>\n",
       "\t<tr><th scope=row>cPVE</th><td> 0.8600</td><td>1.0000 </td></tr>\n",
       "</tbody>\n",
       "</table>\n"
      ],
      "text/latex": [
       "\\begin{tabular}{r|ll}\n",
       "  & PC1 & PC2\\\\\n",
       "\\hline\n",
       "\tVar (Eigenval.) & 11.4339 & 1.8618 \\\\\n",
       "\tPVE &  0.8600 & 0.1400 \\\\\n",
       "\tcPVE &  0.8600 & 1.0000 \\\\\n",
       "\\end{tabular}\n"
      ],
      "text/markdown": [
       "\n",
       "| <!--/--> | PC1 | PC2 |\n",
       "|---|---|---|\n",
       "| Var (Eigenval.) | 11.4339 | 1.8618  |\n",
       "| PVE |  0.8600 | 0.1400  |\n",
       "| cPVE |  0.8600 | 1.0000  |\n",
       "\n"
      ],
      "text/plain": [
       "                PC1     PC2   \n",
       "Var (Eigenval.) 11.4339 1.8618\n",
       "PVE              0.8600 0.1400\n",
       "cPVE             0.8600 1.0000"
      ]
     },
     "metadata": {},
     "output_type": "display_data"
    },
    {
     "name": "stdout",
     "output_type": "stream",
     "text": [
      "[1] \"****************************\"\n",
      "[1] \"*** Standardised Data ******\"\n",
      "[1] \"****************************\"\n",
      "[1] \"Covariance Matrix:\"\n"
     ]
    },
    {
     "data": {
      "text/html": [
       "<table>\n",
       "<thead><tr><th></th><th scope=col>X1</th><th scope=col>X2</th></tr></thead>\n",
       "<tbody>\n",
       "\t<tr><th scope=row>X1</th><td> 1.00000000</td><td>-0.01587497</td></tr>\n",
       "\t<tr><th scope=row>X2</th><td>-0.01587497</td><td> 1.00000000</td></tr>\n",
       "</tbody>\n",
       "</table>\n"
      ],
      "text/latex": [
       "\\begin{tabular}{r|ll}\n",
       "  & X1 & X2\\\\\n",
       "\\hline\n",
       "\tX1 &  1.00000000 & -0.01587497\\\\\n",
       "\tX2 & -0.01587497 &  1.00000000\\\\\n",
       "\\end{tabular}\n"
      ],
      "text/markdown": [
       "\n",
       "| <!--/--> | X1 | X2 |\n",
       "|---|---|---|\n",
       "| X1 |  1.00000000 | -0.01587497 |\n",
       "| X2 | -0.01587497 |  1.00000000 |\n",
       "\n"
      ],
      "text/plain": [
       "   X1          X2         \n",
       "X1  1.00000000 -0.01587497\n",
       "X2 -0.01587497  1.00000000"
      ]
     },
     "metadata": {},
     "output_type": "display_data"
    },
    {
     "name": "stdout",
     "output_type": "stream",
     "text": [
      "[1] \"Principal Components:\"\n"
     ]
    },
    {
     "data": {
      "text/html": [
       "<table>\n",
       "<thead><tr><th></th><th scope=col>PC1</th><th scope=col>PC2</th></tr></thead>\n",
       "<tbody>\n",
       "\t<tr><th scope=row>X1</th><td>-0.7071068</td><td>-0.7071068</td></tr>\n",
       "\t<tr><th scope=row>X2</th><td> 0.7071068</td><td>-0.7071068</td></tr>\n",
       "</tbody>\n",
       "</table>\n"
      ],
      "text/latex": [
       "\\begin{tabular}{r|ll}\n",
       "  & PC1 & PC2\\\\\n",
       "\\hline\n",
       "\tX1 & -0.7071068 & -0.7071068\\\\\n",
       "\tX2 &  0.7071068 & -0.7071068\\\\\n",
       "\\end{tabular}\n"
      ],
      "text/markdown": [
       "\n",
       "| <!--/--> | PC1 | PC2 |\n",
       "|---|---|---|\n",
       "| X1 | -0.7071068 | -0.7071068 |\n",
       "| X2 |  0.7071068 | -0.7071068 |\n",
       "\n"
      ],
      "text/plain": [
       "   PC1        PC2       \n",
       "X1 -0.7071068 -0.7071068\n",
       "X2  0.7071068 -0.7071068"
      ]
     },
     "metadata": {},
     "output_type": "display_data"
    },
    {
     "data": {
      "text/html": [
       "<table>\n",
       "<thead><tr><th></th><th scope=col>PC1</th><th scope=col>PC2</th></tr></thead>\n",
       "<tbody>\n",
       "\t<tr><th scope=row>Var (Eigenval.)</th><td>1.0159</td><td>0.9841</td></tr>\n",
       "\t<tr><th scope=row>PVE</th><td>0.5079</td><td>0.4921</td></tr>\n",
       "\t<tr><th scope=row>cPVE</th><td>0.5079</td><td>1.0000</td></tr>\n",
       "</tbody>\n",
       "</table>\n"
      ],
      "text/latex": [
       "\\begin{tabular}{r|ll}\n",
       "  & PC1 & PC2\\\\\n",
       "\\hline\n",
       "\tVar (Eigenval.) & 1.0159 & 0.9841\\\\\n",
       "\tPVE & 0.5079 & 0.4921\\\\\n",
       "\tcPVE & 0.5079 & 1.0000\\\\\n",
       "\\end{tabular}\n"
      ],
      "text/markdown": [
       "\n",
       "| <!--/--> | PC1 | PC2 |\n",
       "|---|---|---|\n",
       "| Var (Eigenval.) | 1.0159 | 0.9841 |\n",
       "| PVE | 0.5079 | 0.4921 |\n",
       "| cPVE | 0.5079 | 1.0000 |\n",
       "\n"
      ],
      "text/plain": [
       "                PC1    PC2   \n",
       "Var (Eigenval.) 1.0159 0.9841\n",
       "PVE             0.5079 0.4921\n",
       "cPVE            0.5079 1.0000"
      ]
     },
     "metadata": {},
     "output_type": "display_data"
    },
    {
     "data": {
      "image/png": "[encoded data removed]",
      "text/plain": [
       "plot without title"
      ]
     },
     "metadata": {},
     "output_type": "display_data"
    }
   ],
   "source": [
    "set.seed(1)\n",
    "N <- 200\n",
    "sigma <- matrix(c(12, 0, 0, 2), byrow = T, nrow = 2)\n",
    "mu <- c(5, 15)\n",
    "\n",
    "X <- rmvnorm(N, mean = mu, sigma = sigma)\n",
    "colnames(X) <- c(\"X1\", \"X2\")\n",
    "X_demeaned <- scale(X, center=T, scale = F)\n",
    "\n",
    "df_demeaned <- as.data.frame(X_demeaned)\n",
    "\n",
    "print(\"****************************\")\n",
    "print(\"*** Demeaned Data **********\")\n",
    "print(\"****************************\")\n",
    "print(\"Sample Covariance Matrix:\")\n",
    "cov(df_demeaned)\n",
    "print(\"Principal Components:\")\n",
    "pca <- prco(X_demeaned)\n",
    "pca$vectors\n",
    "pca$importance\n",
    "\n",
    "p1 <-   ggplot(df_demeaned, aes(X1, X2)) + \n",
    "        xlim(-10, 10) + ylim(-5, 5) +\n",
    "        geom_point() + \n",
    "        geom_abline(aes(slope = pca$vectors[2, 1] / pca$vectors[1, 1], intercept = 0, colour=\"PC1\")) + \n",
    "        geom_abline(aes(slope = pca$vectors[2, 2] / pca$vectors[1, 2], intercept = 0, colour=\"PC2\")) +\n",
    "        theme(plot.title = element_text(hjust = 0.5)) +\n",
    "        labs(color = \"\") + xlab(\"X1 (demeaned)\") + ylab(\"X2 (demeaned)\") +\n",
    "        scale_color_manual(values = c(\"PC1\" = \"red\", \"PC2\" = \"blue\")) +\n",
    "        ggtitle(\"PCA with demeaned data\") +\n",
    "        coord_fixed()\n",
    "\n",
    "print(\"****************************\")\n",
    "print(\"*** Standardised Data ******\")\n",
    "print(\"****************************\")\n",
    "X_std <- scale(X, center = T, scale = T)\n",
    "df_std <- as.data.frame(X_std)\n",
    "pca_std <- prco(X_std)\n",
    "\n",
    "print(\"Covariance Matrix:\")\n",
    "cov(df_std)\n",
    "print(\"Principal Components:\")\n",
    "pca_std$vectors\n",
    "pca_std$importance\n",
    "\n",
    "p2 <-   ggplot(df_std, aes(X1, X2)) + \n",
    "        geom_point() + \n",
    "        geom_abline(aes(slope = pca_std$vectors[2, 1] / pca_std$vectors[1, 1], intercept = 0, colour=\"PC1\")) + \n",
    "        geom_abline(aes(slope = pca_std$vectors[2, 2] / pca_std$vectors[1, 2], intercept = 0, colour=\"PC2\")) +\n",
    "        theme(plot.title = element_text(hjust = 0.5)) +\n",
    "        labs(color = \"\") + xlab(\"X1 (stand.)\") + ylab(\"X2 (stand.)\") +\n",
    "        scale_color_manual(values = c(\"PC1\" = \"red\", \"PC2\" = \"blue\")) +\n",
    "        ggtitle(\"PCA with standardised data\") +\n",
    "        coord_fixed()\n",
    "\n",
    "plot_grid(p1, p2, align = \"h\", nrow = 1, rel_heights = c(1, 1))"
   ]
  },
  {
   "cell_type": "markdown",
   "metadata": {},
   "source": [
    "As X1 is the variable that has a much larger variance than X2 and the sample covariance between them is almost zero, the first principal component computed based on the demeaned data loads almost exclusively on X1. In other word, the first principal component is in the direction of X1, hence the red line in the left panel is essentially a flat horizontal line. About 86\\% of the total variance is captured by it. In turn, the second principal component must be orthogonal which yields a vertical line. \n",
    "\n",
    "While the point cloud of the standardised data looks the same, the standardisation procedure takes out the difference in variance: the newly generated variables have both a variance of 1. Since the correlation between the variables is almost zero, it follows that the factor loadings of the first principal component obtained with standardised data assign almost equal weight to both of the standardised variables.\n",
    "\n",
    "Thus, in the case of the covariance matrix approach, variables with a high variance will dominate the first principal component and one should be aware of this issue. For instance, it would actually matter whether length is measured in miles or in kilometres as this has implications for the variance of the measurements. With explanatory variables that are measured on different scales, it is therefore crucial to standardise in order to achieve scale invariance. However, one might be inclined to always standardise the variables, even if they are measured on the same scale, just to be precautious. However, the differences in variance may in fact be relevant and those high-variance variables might be more important when predicting the outcome. Hence, it is necessary to study the role of PCA in a regression context rather than as a tool for exploratory data analyses."
   ]
  },
  {
   "cell_type": "markdown",
   "metadata": {},
   "source": [
    "### Principal Component Regression (PCR)\n",
    "\n",
    "To demonstrate the general procedure, consider the following set-up. We always draw a test and a training data set of equal size $N$. The explanatory variables are obtained as draws from a multivariate normal distribution. As the data is in any case demeaned, the means hardly matter. By contrast, the choice of the underlying covariance matrix is crucial. To ensure randomness of the covariance matrix it is constructed as follows:\n",
    "\n",
    "First, we create a matrix $W$ that has dimensions $p \\times p$ and its elements are all drawn from a standard normal distribution. As this matrix is not of full rank and we aim to obtain a covariance matrix that is positive semi-definite and of full rank, further manipulation is necessary: $ \\Sigma = W W^T + D$ where $D$ is a random diagonal matrix with only positive entries on the diagonal, which is ensured by drawing the diagonal from the standard uniform distribution. \n",
    "\n",
    "In the following, we consider the case of $N=500$ and $P = 20$.\n"
   ]
  },
  {
   "cell_type": "code",
   "execution_count": 8,
   "metadata": {},
   "outputs": [],
   "source": [
    "gen_x <- function(N, mu) {\n",
    "  \n",
    "  p <- length(mu) # number of predictors\n",
    "  \n",
    "  W = replicate(p, rnorm(p))\n",
    "  sigma = W%*%t(W) + diag(runif(p),nrow=p)\n",
    "  \n",
    "  X_train <- rmvnorm(n=N, mean=mu, sigma=sigma)  # randomly draw training data set\n",
    "  X_test <- rmvnorm(n=N, mean=mu, sigma=sigma)  # randomly draw test data set\n",
    "  \n",
    "  return(list(X_train=X_train, X_test = X_test, sigma = sigma))   \n",
    "}"
   ]
  },
  {
   "cell_type": "code",
   "execution_count": 9,
   "metadata": {},
   "outputs": [],
   "source": [
    "gen_y <- function(intercept, effects, X_train, X_test, sigma_x, PC, random, eps_sd) {\n",
    "  p <- dim(sigma_x)[1]\n",
    "  N_train <- dim(X_train)[1]\n",
    "  N_test <- dim(X_test)[1]\n",
    "  \n",
    "  if (random == 1) {\n",
    "\n",
    "    beta_vec <- sample(effects, size= p, replace=T)\n",
    "    y_train <- rep(intercept, N_train) + X_train %*% beta_vec + rnorm(n=N_train, mean=0, sd=eps_sd)\n",
    "    y_test <- rep(intercept, N_test) + X_test %*% beta_vec + rnorm(n=N_test, mean=0, sd=eps_sd)\n",
    "  \n",
    "  } else {\n",
    "    stopifnot(length(effects) == length(PC))\n",
    "    V <- eigen(sigma_x)$vectors[,PC]\n",
    "    y_train <- rep(intercept, N_train) + X_train %*% V %*% effects + rnorm(n=N_train, mean=0, sd=eps_sd)\n",
    "    y_test <- rep(intercept, N_test) + X_test %*% V %*% effects + rnorm(n=N_test, mean=0, sd=eps_sd)\n",
    "  }\n",
    "  return(list(y_train = y_train, y_test = y_test)) \n",
    "}"
   ]
  },
  {
   "cell_type": "code",
   "execution_count": 10,
   "metadata": {},
   "outputs": [],
   "source": [
    "pcr_cv <- function(X, Y, k) {\n",
    "  \n",
    "  stopifnot(nrow(Y) == nrow(X))\n",
    "  \n",
    "  data <- cbind(Y, X)\n",
    "  \n",
    "  fold_i <- sample(rep(1:k, length.out = nrow(X)))\n",
    "  \n",
    "  mse <- matrix(NA, nrow=ncol(X), ncol=k)\n",
    "  \n",
    "  for (x in 1:k) {\n",
    "    val_i <- which(fold_i == x)\n",
    "    train <- data[-val_i,]\n",
    "    val <- data[val_i,]\n",
    "    \n",
    "    pca <- prco(train[,-1])\n",
    "    \n",
    "    for (j in 1:ncol(X)) {\n",
    "      Z_train <- cbind(rep(1, nrow(train)),train[,-1] %*% pca$vectors[,1:j])\n",
    "      Z_val <- cbind(rep(1, nrow(val)),val[,-1] %*% pca$vectors[,1:j])\n",
    "      \n",
    "      beta_hat <- solve(t(Z_train)%*%Z_train) %*% t(Z_train) %*% train[,1]\n",
    "      mse[j, x] <- mean((Z_val %*% beta_hat - val[,1]) ** 2)\n",
    "    }\n",
    "  }\n",
    "  \n",
    "  mse_cv <- cbind(1:ncol(X), rowMeans(mse))\n",
    "  colnames(mse_cv) <- c(\"M\", \"CV-MSE\")\n",
    "  \n",
    "  M <- match(min(mse_cv[,\"CV-MSE\"]), mse_cv[,\"CV-MSE\"])\n",
    "  pca_full_train <- prco(X)\n",
    "  cv_vectors <- pca_full_train$vectors[,1:M]\n",
    "  \n",
    "  Z <- cbind(rep(1, nrow(X)),X %*% cv_vectors)\n",
    "  beta_hat <- solve(t(Z)%*%Z) %*% t(Z) %*% Y\n",
    "  mse_train <- mean((Z %*% beta_hat - Y) ** 2)\n",
    "  \n",
    "  importance <- pca_full_train$importance[,1:M]\n",
    "  \n",
    "  return(list(mse_cv = mse_cv, mse_train = mse_train, beta_hat = beta_hat, M=M, cv_vectors=cv_vectors, importance=importance))\n",
    "}"
   ]
  },
  {
   "cell_type": "code",
   "execution_count": 11,
   "metadata": {},
   "outputs": [],
   "source": [
    "pcr_comp <- function(X, Y, M) {\n",
    "    pca <- prco(X)\n",
    "    Z <- cbind(rep(1, nrow(X)),X %*% pca$vectors[,1:M])\n",
    "    beta_hat <- solve(t(Z)%*%Z) %*% t(Z) %*% Y\n",
    "    mse_train <- mean((Z %*% beta_hat - Y) ** 2)\n",
    "    \n",
    "    importance <- pca$importance[,1:M]\n",
    "    \n",
    "    return(list(mse_train = mse_train, beta_hat = beta_hat, vectors=pca$vectors[,1:M], importance=importance))\n",
    "}"
   ]
  },
  {
   "cell_type": "code",
   "execution_count": 12,
   "metadata": {},
   "outputs": [],
   "source": [
    "N <- 500\n",
    "p <- 20\n",
    "set.seed(3)\n",
    "X <- gen_x(N = N, sample(10:20, p, replace = T))\n",
    "X_train_d <- scale(X$X_train, center = T, scale = F)\n",
    "X_test_d <- scale(X$X_test, center = T, scale = F)\n",
    "\n",
    "y  <- gen_y(intercept=2, effects=rep(2, 5), X_train = X$X_train, X_test = X$X_test, sigma_x=X$sigma, PC = c(1, 2, 3, 4, 5),random = 0, eps_sd=1) \n",
    "\n",
    "y_train <- y$y_train\n",
    "y_test <- y$y_test\n",
    "\n",
    "pca <- prco(X_train_d)"
   ]
  },
  {
   "cell_type": "markdown",
   "metadata": {},
   "source": [
    "In the case of \"unsupervised learning\", the number of principal components to include would be determined without regard to the outcome variable $Y$. Thus, the previously discussed ad-hoc approaches are considered. Consistently, they would suggest $M=10$, so to include the principal components up to number 10. This is the one where arguably an *elbow* is identifiable from the Scree Plot and where the cumulative PVE reaches 90\\%. Also, this would be the last component larger than $0.7 \\bar{\\lambda}$."
   ]
  },
  {
   "cell_type": "code",
   "execution_count": 13,
   "metadata": {},
   "outputs": [
    {
     "data": {
      "text/html": [
       "<table>\n",
       "<thead><tr><th></th><th scope=col>PC1</th><th scope=col>PC2</th><th scope=col>PC3</th><th scope=col>PC4</th><th scope=col>PC5</th><th scope=col>PC6</th><th scope=col>PC7</th><th scope=col>PC8</th><th scope=col>PC9</th><th scope=col>PC10</th><th scope=col>PC11</th><th scope=col>PC12</th><th scope=col>PC13</th><th scope=col>PC14</th><th scope=col>PC15</th><th scope=col>PC16</th><th scope=col>PC17</th><th scope=col>PC18</th><th scope=col>PC19</th><th scope=col>PC20</th></tr></thead>\n",
       "<tbody>\n",
       "\t<tr><th scope=row>Var (Eigenval.)</th><td>66.7512</td><td>60.5089</td><td>52.9347</td><td>44.2527</td><td>42.6050</td><td>36.2178</td><td>32.1428</td><td>20.4739</td><td>16.7488</td><td>16.0852</td><td>10.9944</td><td>9.2573 </td><td>5.5978 </td><td>4.5052 </td><td>3.6399 </td><td>2.6003 </td><td>1.6471 </td><td>0.8152 </td><td>0.7556 </td><td>0.4647 </td></tr>\n",
       "\t<tr><th scope=row>PVE</th><td> 0.1556</td><td> 0.1410</td><td> 0.1234</td><td> 0.1032</td><td> 0.0993</td><td> 0.0844</td><td> 0.0749</td><td> 0.0477</td><td> 0.0390</td><td> 0.0375</td><td> 0.0256</td><td>0.0216 </td><td>0.0130 </td><td>0.0105 </td><td>0.0085 </td><td>0.0061 </td><td>0.0038 </td><td>0.0019 </td><td>0.0018 </td><td>0.0011 </td></tr>\n",
       "\t<tr><th scope=row>cPVE</th><td> 0.1556</td><td> 0.2966</td><td> 0.4200</td><td> 0.5232</td><td> 0.6225</td><td> 0.7069</td><td> 0.7819</td><td> 0.8296</td><td> 0.8686</td><td> 0.9061</td><td> 0.9317</td><td>0.9533 </td><td>0.9664 </td><td>0.9769 </td><td>0.9854 </td><td>0.9914 </td><td>0.9953 </td><td>0.9972 </td><td>0.9989 </td><td>1.0000 </td></tr>\n",
       "</tbody>\n",
       "</table>\n"
      ],
      "text/latex": [
       "\\begin{tabular}{r|llllllllllllllllllll}\n",
       "  & PC1 & PC2 & PC3 & PC4 & PC5 & PC6 & PC7 & PC8 & PC9 & PC10 & PC11 & PC12 & PC13 & PC14 & PC15 & PC16 & PC17 & PC18 & PC19 & PC20\\\\\n",
       "\\hline\n",
       "\tVar (Eigenval.) & 66.7512 & 60.5089 & 52.9347 & 44.2527 & 42.6050 & 36.2178 & 32.1428 & 20.4739 & 16.7488 & 16.0852 & 10.9944 & 9.2573  & 5.5978  & 4.5052  & 3.6399  & 2.6003  & 1.6471  & 0.8152  & 0.7556  & 0.4647 \\\\\n",
       "\tPVE &  0.1556 &  0.1410 &  0.1234 &  0.1032 &  0.0993 &  0.0844 &  0.0749 &  0.0477 &  0.0390 &  0.0375 &  0.0256 & 0.0216  & 0.0130  & 0.0105  & 0.0085  & 0.0061  & 0.0038  & 0.0019  & 0.0018  & 0.0011 \\\\\n",
       "\tcPVE &  0.1556 &  0.2966 &  0.4200 &  0.5232 &  0.6225 &  0.7069 &  0.7819 &  0.8296 &  0.8686 &  0.9061 &  0.9317 & 0.9533  & 0.9664  & 0.9769  & 0.9854  & 0.9914  & 0.9953  & 0.9972  & 0.9989  & 1.0000 \\\\\n",
       "\\end{tabular}\n"
      ],
      "text/markdown": [
       "\n",
       "| <!--/--> | PC1 | PC2 | PC3 | PC4 | PC5 | PC6 | PC7 | PC8 | PC9 | PC10 | PC11 | PC12 | PC13 | PC14 | PC15 | PC16 | PC17 | PC18 | PC19 | PC20 |\n",
       "|---|---|---|---|---|---|---|---|---|---|---|---|---|---|---|---|---|---|---|---|---|\n",
       "| Var (Eigenval.) | 66.7512 | 60.5089 | 52.9347 | 44.2527 | 42.6050 | 36.2178 | 32.1428 | 20.4739 | 16.7488 | 16.0852 | 10.9944 | 9.2573  | 5.5978  | 4.5052  | 3.6399  | 2.6003  | 1.6471  | 0.8152  | 0.7556  | 0.4647  |\n",
       "| PVE |  0.1556 |  0.1410 |  0.1234 |  0.1032 |  0.0993 |  0.0844 |  0.0749 |  0.0477 |  0.0390 |  0.0375 |  0.0256 | 0.0216  | 0.0130  | 0.0105  | 0.0085  | 0.0061  | 0.0038  | 0.0019  | 0.0018  | 0.0011  |\n",
       "| cPVE |  0.1556 |  0.2966 |  0.4200 |  0.5232 |  0.6225 |  0.7069 |  0.7819 |  0.8296 |  0.8686 |  0.9061 |  0.9317 | 0.9533  | 0.9664  | 0.9769  | 0.9854  | 0.9914  | 0.9953  | 0.9972  | 0.9989  | 1.0000  |\n",
       "\n"
      ],
      "text/plain": [
       "                PC1     PC2     PC3     PC4     PC5     PC6     PC7     PC8    \n",
       "Var (Eigenval.) 66.7512 60.5089 52.9347 44.2527 42.6050 36.2178 32.1428 20.4739\n",
       "PVE              0.1556  0.1410  0.1234  0.1032  0.0993  0.0844  0.0749  0.0477\n",
       "cPVE             0.1556  0.2966  0.4200  0.5232  0.6225  0.7069  0.7819  0.8296\n",
       "                PC9     PC10    PC11    PC12   PC13   PC14   PC15   PC16  \n",
       "Var (Eigenval.) 16.7488 16.0852 10.9944 9.2573 5.5978 4.5052 3.6399 2.6003\n",
       "PVE              0.0390  0.0375  0.0256 0.0216 0.0130 0.0105 0.0085 0.0061\n",
       "cPVE             0.8686  0.9061  0.9317 0.9533 0.9664 0.9769 0.9854 0.9914\n",
       "                PC17   PC18   PC19   PC20  \n",
       "Var (Eigenval.) 1.6471 0.8152 0.7556 0.4647\n",
       "PVE             0.0038 0.0019 0.0018 0.0011\n",
       "cPVE            0.9953 0.9972 0.9989 1.0000"
      ]
     },
     "metadata": {},
     "output_type": "display_data"
    },
    {
     "name": "stdout",
     "output_type": "stream",
     "text": [
      "[1] \"Mean Eigenvalue (Variance)\"\n",
      "[1] 21.44993\n",
      "[1] \"0.7 * (Mean Eigenvalue)\"\n",
      "[1] 15.01495\n"
     ]
    },
    {
     "data": {
      "image/png": "[encoded data removed]",
      "text/plain": [
       "plot without title"
      ]
     },
     "metadata": {},
     "output_type": "display_data"
    }
   ],
   "source": [
    "PVE <- pca$importance[\"PVE\",]\n",
    "cPVE <- pca$importance[\"cPVE\",]\n",
    "PC <- 1:p\n",
    "\n",
    "p1 <- ggplot(data.frame(PC, PVE), aes(x = PC, y = PVE)) + \n",
    "      theme(plot.title = element_text(hjust = 0.5)) +\n",
    "      geom_point() + geom_line() + ylab(\"Proportion of Variance Explained (PVE)\") +\n",
    "      geom_vline(xintercept = 10, color=\"red\") +\n",
    "      ggtitle(\"Scree Plot\") + scale_x_continuous(breaks = 1:p)\n",
    "\n",
    "p2 <- ggplot(data.frame(PC, cPVE), aes(x = PC, y = cPVE)) + \n",
    "      theme(plot.title = element_text(hjust = 0.5)) +\n",
    "      geom_point() + geom_line() + ylab(\"cum. Prop. of Variance Explained\") +\n",
    "      geom_vline(xintercept = 10, color=\"red\") +\n",
    "      ggtitle(\"Cumulative Prop. of Variance Explained\") + scale_x_continuous(breaks = 1:p) + scale_y_continuous(breaks = seq(0,1, by = 0.2))\n",
    "\n",
    "plot_grid(p1, p2, align = \"h\", nrow = 1, rel_heights = c(1, 1))\n",
    "\n",
    "pca$importance\n",
    "print(\"Mean Eigenvalue (Variance)\")\n",
    "print(mean(pca$values))\n",
    "print(\"0.7 * (Mean Eigenvalue)\")\n",
    "print(0.7 * mean(pca$values))"
   ]
  },
  {
   "cell_type": "markdown",
   "metadata": {},
   "source": [
    "Again, note that these approaches select $M$ without any consideration for $Y$ and only based on the assumption, that the most relevant statistical information is captured by the first couple of principal components which encapsulate a reasonably large farction of the roiginal variability. \n",
    "\n",
    "The benefit of simulated data is now that the the relationship of the explanatory variables with $Y$ can directly be controlled. Threfore, consider the following way of generating $Y$. Suppose we relate $Y$ to the demeaned (or standardised) variables $\\tilde{X}$:\n",
    "\n",
    "$$ Y = \\tilde{\\pmb X} \\beta + \\epsilon \\text{ ,}$$\n",
    "\n",
    "note that the statistical inference is not affected by demeaning or standardisation the explanatory variables as the estimates are simply adjusted accrodingly. As the matrix of all principal components (eigenvectors), $\\pmb \\phi$, is an orthogonal matrix which implies that the inverse of it is identical to its transposed, so $ \\pmb \\phi^T = \\pmb \\phi ^{-1}$, hence: $\\pmb \\phi \\pmb \\phi^T = \\pmb I = \\pmb \\phi^T \\pmb \\phi$. Thus, the structural equation can be re-written:\n",
    "\n",
    "$$ Y = \\tilde{\\pmb X} \\pmb \\phi \\pmb \\phi^T + \\epsilon$$\n",
    "\n",
    "and substituting $ \\pmb Z = \\tilde{\\pmb X} \\pmb \\phi $ yields\n",
    "\n",
    "$$ Y = \\pmb Z \\theta + \\epsilon \\text{ ,} $$\n",
    "\n",
    "where $\\theta = \\pmb \\phi^T \\beta$. Now assume, that $\\beta$ is only in the direction of the $j$-th eigenvector $\\phi_j$, which is $\\phi_j = \\alpha \\beta$ with the scalar $\\alpha \\neq 0$. Hence, $\\theta_j = \\phi_j^T \\beta = \\alpha \\beta^T \\beta$ and $\\theta_{j \\, '} = \\phi_{j \\, '}^T \\beta = 0$ for $j \\neq j \\, '$. Thus, the outcome is fully determined by the principal component $Z_j$:\n",
    "\n",
    "$$ Y = \\theta_j Z_j + \\epsilon = \\theta_j \\tilde{\\pmb X} \\phi_j + \\epsilon \\text{ .}$$\n",
    "\n",
    "The other principal components do not affect the outcome at all as their coefficients are set to zero. This reasoning can be extended to allow the outcome $Y$ to be determined by two or more principal components.\n",
    "\n",
    "For the simulation this implies the following. Based on the \"true\" underlying covariance matrix $\\Sigma$, which is randomly generated, the \"true\" eigenvectors can be extracted. However, it is not necessarily the case that these \"true\" eigenvectors also match the empirically obtained principal components loadings as the random sampling of the explanatory variables from a multivariate normal distribution induces *noise*."
   ]
  },
  {
   "cell_type": "code",
   "execution_count": 14,
   "metadata": {},
   "outputs": [
    {
     "name": "stdout",
     "output_type": "stream",
     "text": [
      "[1] \"Number of Principal Components chosen by CV:\"\n"
     ]
    },
    {
     "data": {
      "text/html": [
       "15"
      ],
      "text/latex": [
       "15"
      ],
      "text/markdown": [
       "15"
      ],
      "text/plain": [
       "[1] 15"
      ]
     },
     "metadata": {},
     "output_type": "display_data"
    },
    {
     "data": {
      "image/png": "[encoded data removed]",
      "text/plain": [
       "plot without title"
      ]
     },
     "metadata": {},
     "output_type": "display_data"
    }
   ],
   "source": [
    "set.seed(12)\n",
    "pcr <- pcr_cv(X=X_train_d, Y=y_train, k=10)\n",
    "\n",
    "print(\"Number of Principal Components chosen by CV:\")\n",
    "pcr$M\n",
    "data <- data.frame(pcr$mse_cv)\n",
    "\n",
    "ggplot(data, aes(x = M, y = CV.MSE)) + \n",
    "      theme(plot.title = element_text(hjust = 0.5)) +\n",
    "      geom_point() + geom_line() + ylab(\"CV-MSE\") + geom_vline(xintercept = pcr$M, color=\"red\") +\n",
    "      geom_vline(xintercept = 5, color=\"blue\", linetype=\"dashed\") +\n",
    "      ggtitle(\"Cross-Validation MSE per number of included PCs\") + scale_x_continuous(breaks = 1:20)"
   ]
  },
  {
   "cell_type": "markdown",
   "metadata": {},
   "source": [
    "The minimal CV-MSE based on 10-fold CV is obtained for $M=15$ and thus way more principal components are included as justified based on the true data generating process, where the outcome $Y$ was related only to the first 5 eigenvectors of the \"true\" covariance matrix. This is also larger as the number of principal components suggested by the ad-hoc approaches - but as already discussed, they are dervied without any regard for the outcome variable. It has to be emphasized that taking the minimum criterion with respect to the CV-MSE leaves room for some random interferences. As can be seen from the plot, after the 6th PC the CV-MSE is essentially flat, i.e. the additional principal components included do not improve the fit. However, just by chance it may occur that an additional PC picks up on some random noise which results in a *slightly* better performance. This explains why taking the absolute minimum based on CV may not be reasonable. Instead, it is very much suggested to plot the CV-MSE and identify the appropriate number of principal components to include using eyeballing. In this case, it would probably lead to including 7 or 8 PCs rather than 15, achieving a larger degree of dimensionality reduction.\n",
    "\n",
    "But why is the CV-MSE still distinctly higher with 5 principal compnents than with 6, although the data generating process of $Y$ is based on 5 eigenvectors? While also the CV-procedure also induces some randomness when randomly splitting the training sample into $k$ folds, this can rather be explained by the noise introduced in the sampling process when randomly drawing the explanatory variables from the multivariate normal distribution, as already pointed to above. To illustrate this, we repeat the same procedure with the only modification of choosing $N = 50.000$ instead of $N = 500$."
   ]
  },
  {
   "cell_type": "code",
   "execution_count": 15,
   "metadata": {},
   "outputs": [
    {
     "name": "stdout",
     "output_type": "stream",
     "text": [
      "[1] \"Number of Principal Components chosen by CV:\"\n"
     ]
    },
    {
     "data": {
      "text/html": [
       "18"
      ],
      "text/latex": [
       "18"
      ],
      "text/markdown": [
       "18"
      ],
      "text/plain": [
       "[1] 18"
      ]
     },
     "metadata": {},
     "output_type": "display_data"
    },
    {
     "data": {
      "text/html": [
       "<table>\n",
       "<tbody>\n",
       "\t<tr><th scope=row>M</th><td>  1.0000</td><td>  2.0000</td><td>  3.0000</td><td>  4.0000</td><td>5.0000  </td><td>6.0000  </td><td>7.0000  </td><td>8.0000  </td><td>9.0000  </td><td>10.0000 </td><td>11.000  </td><td>12.0000 </td><td>13.000  </td><td>14.0000 </td><td>15.0000 </td><td>16.0000 </td><td>17.0000 </td><td>18.0000 </td><td>19.0000 </td><td>20.0000 </td></tr>\n",
       "\t<tr><th scope=row>CV-MSE</th><td>756.5056</td><td>602.9194</td><td>347.9348</td><td>144.8953</td><td>4.1426  </td><td>1.0329  </td><td>1.0142  </td><td>1.0093  </td><td>1.0051  </td><td> 1.0041 </td><td> 1.003  </td><td> 1.0021 </td><td> 1.002  </td><td> 1.0018 </td><td> 1.0018 </td><td> 1.0015 </td><td> 1.0015 </td><td> 1.0015 </td><td> 1.0016 </td><td> 1.0016 </td></tr>\n",
       "</tbody>\n",
       "</table>\n"
      ],
      "text/latex": [
       "\\begin{tabular}{r|llllllllllllllllllll}\n",
       "\tM &   1.0000 &   2.0000 &   3.0000 &   4.0000 & 5.0000   & 6.0000   & 7.0000   & 8.0000   & 9.0000   & 10.0000  & 11.000   & 12.0000  & 13.000   & 14.0000  & 15.0000  & 16.0000  & 17.0000  & 18.0000  & 19.0000  & 20.0000 \\\\\n",
       "\tCV-MSE & 756.5056 & 602.9194 & 347.9348 & 144.8953 & 4.1426   & 1.0329   & 1.0142   & 1.0093   & 1.0051   &  1.0041  &  1.003   &  1.0021  &  1.002   &  1.0018  &  1.0018  &  1.0015  &  1.0015  &  1.0015  &  1.0016  &  1.0016 \\\\\n",
       "\\end{tabular}\n"
      ],
      "text/markdown": [
       "\n",
       "| M |   1.0000 |   2.0000 |   3.0000 |   4.0000 | 5.0000   | 6.0000   | 7.0000   | 8.0000   | 9.0000   | 10.0000  | 11.000   | 12.0000  | 13.000   | 14.0000  | 15.0000  | 16.0000  | 17.0000  | 18.0000  | 19.0000  | 20.0000  |\n",
       "| CV-MSE | 756.5056 | 602.9194 | 347.9348 | 144.8953 | 4.1426   | 1.0329   | 1.0142   | 1.0093   | 1.0051   |  1.0041  |  1.003   |  1.0021  |  1.002   |  1.0018  |  1.0018  |  1.0015  |  1.0015  |  1.0015  |  1.0016  |  1.0016  |\n",
       "\n"
      ],
      "text/plain": [
       "       [,1]     [,2]     [,3]     [,4]     [,5]   [,6]   [,7]   [,8]   [,9]  \n",
       "M        1.0000   2.0000   3.0000   4.0000 5.0000 6.0000 7.0000 8.0000 9.0000\n",
       "CV-MSE 756.5056 602.9194 347.9348 144.8953 4.1426 1.0329 1.0142 1.0093 1.0051\n",
       "       [,10]   [,11]  [,12]   [,13]  [,14]   [,15]   [,16]   [,17]   [,18]  \n",
       "M      10.0000 11.000 12.0000 13.000 14.0000 15.0000 16.0000 17.0000 18.0000\n",
       "CV-MSE  1.0041  1.003  1.0021  1.002  1.0018  1.0018  1.0015  1.0015  1.0015\n",
       "       [,19]   [,20]  \n",
       "M      19.0000 20.0000\n",
       "CV-MSE  1.0016  1.0016"
      ]
     },
     "metadata": {},
     "output_type": "display_data"
    },
    {
     "data": {
      "image/png": "[encoded data removed]",
      "text/plain": [
       "plot without title"
      ]
     },
     "metadata": {},
     "output_type": "display_data"
    }
   ],
   "source": [
    "N_l <- 50000\n",
    "set.seed(3)\n",
    "X_l <- gen_x(N = N_l, sample(10:20, p, replace = T))\n",
    "X_l_train_d <- scale(X_l$X_train, center = T, scale = F)\n",
    "X_l_test_d <- scale(X_l$X_test, center = T, scale = F)\n",
    "\n",
    "y_l  <- gen_y(intercept=2, effects=rep(2, 5), X_train = X_l$X_train, X_test = X_l$X_test, sigma_x=X_l$sigma, PC = c(1, 2, 3, 4, 5),random = 0, eps_sd=1) \n",
    "y_l_train <- y_l$y_train\n",
    "\n",
    "pcr_l <- pcr_cv(X=X_l_train_d, Y=y_l_train, k=10)\n",
    "\n",
    "print(\"Number of Principal Components chosen by CV:\")\n",
    "pcr_l$M\n",
    "data <- data.frame(pcr_l$mse_cv)\n",
    "round(t(pcr_l$mse_cv),4)\n",
    "\n",
    "ggplot(data, aes(x = M, y = CV.MSE)) + \n",
    "      theme(plot.title = element_text(hjust = 0.5)) +\n",
    "      geom_point() + geom_line() + ylab(\"CV-MSE\") + geom_vline(xintercept = pcr_l$M, color=\"red\") +\n",
    "      geom_vline(xintercept = 5, color=\"blue\", linetype=\"dashed\") +\n",
    "      ggtitle(\"Cross-Validation MSE per number of included PCs\") + scale_x_continuous(breaks = 1:20)"
   ]
  },
  {
   "cell_type": "markdown",
   "metadata": {},
   "source": [
    "Visually, the CV-MSE starts becoming a flat horizontal line when the \"true\" number of principal components is reached at $M = 5$. With such sample sizes, eyeballing the CV-MSE might be more likely to identify the \"appropriate\" number of principal components to include. The minimum criterion, however, would probably not ensure this: in this case, $M=18$ would be chosen. But even in this case, the CV-MSE with 6 principal components is distincly smaller than the CV-MSE with 5 principal components. With this sample size, the situation improves, but still, the empirically obtained principal components do not exactly resemble the \"true\" eigenvectors used when generating $Y$."
   ]
  },
  {
   "cell_type": "markdown",
   "metadata": {},
   "source": [
    "Returning to the case with $N = 500$, it is now time to compare the performance on the held-out test data set. Therefore, we compare the Test-MSE of OLS to the one obtained with CV (i.e. with 15 principal components). Additionally, the Test-MSEs are displayed when including up to the 20th principal component."
   ]
  },
  {
   "cell_type": "code",
   "execution_count": 16,
   "metadata": {},
   "outputs": [
    {
     "data": {
      "text/html": [
       "<table>\n",
       "<thead><tr><th scope=col>Test-MSE OLS</th><th scope=col>Test-MSE PCR/CV</th></tr></thead>\n",
       "<tbody>\n",
       "\t<tr><td>1.0496</td><td>3.4815</td></tr>\n",
       "</tbody>\n",
       "</table>\n"
      ],
      "text/latex": [
       "\\begin{tabular}{ll}\n",
       " Test-MSE OLS & Test-MSE PCR/CV\\\\\n",
       "\\hline\n",
       "\t 1.0496 & 3.4815\\\\\n",
       "\\end{tabular}\n"
      ],
      "text/markdown": [
       "\n",
       "| Test-MSE OLS | Test-MSE PCR/CV |\n",
       "|---|---|\n",
       "| 1.0496 | 3.4815 |\n",
       "\n"
      ],
      "text/plain": [
       "     Test-MSE OLS Test-MSE PCR/CV\n",
       "[1,] 1.0496       3.4815         "
      ]
     },
     "metadata": {},
     "output_type": "display_data"
    },
    {
     "data": {
      "text/html": [
       "<table>\n",
       "<tbody>\n",
       "\t<tr><th scope=row>M</th><td>  1.0000</td><td>  2.0000</td><td>  3.0000</td><td>  4.0000</td><td>  5.0000</td><td> 6.0000 </td><td>7.0000  </td><td>8.0000  </td><td>9.000   </td><td>10.000  </td><td>11.0000 </td><td>12.0000 </td><td>13.0000 </td><td>14.0000 </td><td>15.0000 </td><td>16.0000 </td><td>17.0000 </td><td>18.0000 </td><td>19.0000 </td><td>20.0000 </td></tr>\n",
       "\t<tr><th scope=row>Test-MSE</th><td>696.1666</td><td>540.7817</td><td>411.3105</td><td>225.6567</td><td>225.6705</td><td>26.0683 </td><td>8.1784  </td><td>4.4375  </td><td>4.438   </td><td> 4.049  </td><td> 3.5874 </td><td> 3.5134 </td><td> 3.5129 </td><td> 3.5117 </td><td> 3.4815 </td><td> 3.4856 </td><td> 3.4801 </td><td> 3.4804 </td><td> 3.4784 </td><td> 3.4742 </td></tr>\n",
       "</tbody>\n",
       "</table>\n"
      ],
      "text/latex": [
       "\\begin{tabular}{r|llllllllllllllllllll}\n",
       "\tM &   1.0000 &   2.0000 &   3.0000 &   4.0000 &   5.0000 &  6.0000  & 7.0000   & 8.0000   & 9.000    & 10.000   & 11.0000  & 12.0000  & 13.0000  & 14.0000  & 15.0000  & 16.0000  & 17.0000  & 18.0000  & 19.0000  & 20.0000 \\\\\n",
       "\tTest-MSE & 696.1666 & 540.7817 & 411.3105 & 225.6567 & 225.6705 & 26.0683  & 8.1784   & 4.4375   & 4.438    &  4.049   &  3.5874  &  3.5134  &  3.5129  &  3.5117  &  3.4815  &  3.4856  &  3.4801  &  3.4804  &  3.4784  &  3.4742 \\\\\n",
       "\\end{tabular}\n"
      ],
      "text/markdown": [
       "\n",
       "| M |   1.0000 |   2.0000 |   3.0000 |   4.0000 |   5.0000 |  6.0000  | 7.0000   | 8.0000   | 9.000    | 10.000   | 11.0000  | 12.0000  | 13.0000  | 14.0000  | 15.0000  | 16.0000  | 17.0000  | 18.0000  | 19.0000  | 20.0000  |\n",
       "| Test-MSE | 696.1666 | 540.7817 | 411.3105 | 225.6567 | 225.6705 | 26.0683  | 8.1784   | 4.4375   | 4.438    |  4.049   |  3.5874  |  3.5134  |  3.5129  |  3.5117  |  3.4815  |  3.4856  |  3.4801  |  3.4804  |  3.4784  |  3.4742  |\n",
       "\n"
      ],
      "text/plain": [
       "         [,1]     [,2]     [,3]     [,4]     [,5]     [,6]    [,7]   [,8]  \n",
       "M          1.0000   2.0000   3.0000   4.0000   5.0000  6.0000 7.0000 8.0000\n",
       "Test-MSE 696.1666 540.7817 411.3105 225.6567 225.6705 26.0683 8.1784 4.4375\n",
       "         [,9]  [,10]  [,11]   [,12]   [,13]   [,14]   [,15]   [,16]   [,17]  \n",
       "M        9.000 10.000 11.0000 12.0000 13.0000 14.0000 15.0000 16.0000 17.0000\n",
       "Test-MSE 4.438  4.049  3.5874  3.5134  3.5129  3.5117  3.4815  3.4856  3.4801\n",
       "         [,18]   [,19]   [,20]  \n",
       "M        18.0000 19.0000 20.0000\n",
       "Test-MSE  3.4804  3.4784  3.4742"
      ]
     },
     "metadata": {},
     "output_type": "display_data"
    },
    {
     "name": "stdout",
     "output_type": "stream",
     "text": [
      "[1] \"Training-MSE OLS:\"\n"
     ]
    },
    {
     "data": {
      "text/html": [
       "1.03529248008105"
      ],
      "text/latex": [
       "1.03529248008105"
      ],
      "text/markdown": [
       "1.03529248008105"
      ],
      "text/plain": [
       "[1] 1.035292"
      ]
     },
     "metadata": {},
     "output_type": "display_data"
    },
    {
     "name": "stdout",
     "output_type": "stream",
     "text": [
      "[1] \"Training-MSE with M=20:\"\n"
     ]
    },
    {
     "data": {
      "text/html": [
       "1.03529248008105"
      ],
      "text/latex": [
       "1.03529248008105"
      ],
      "text/markdown": [
       "1.03529248008105"
      ],
      "text/plain": [
       "[1] 1.035292"
      ]
     },
     "metadata": {},
     "output_type": "display_data"
    }
   ],
   "source": [
    "# OLS\n",
    "X_t <- cbind(rep(1, nrow(X$X_train)), X$X_train)\n",
    "beta_ols <- solve(t(X_t) %*% X_t) %*% t(X_t) %*% y_train\n",
    "mse_train_ols <- mean((cbind(rep(1, nrow(X$X_train)), X$X_train) %*% beta_ols - y_train)**2)\n",
    "mse_test_ols <- mean((cbind(rep(1, nrow(X$X_test)), X$X_test) %*% beta_ols - y_test)**2)\n",
    "\n",
    "# PCR with 15 PCs (CV solution)\n",
    "Z <- cbind(rep(1, nrow(X$X_test)),X_test_d  %*% pcr$cv_vectors)\n",
    "mse_test_pcrCV <- mean((Z %*% pcr$beta_hat - y_test) ** 2)\n",
    "\n",
    "res1 <- matrix(c(mse_test_ols, mse_test_pcrCV), nrow = 1)\n",
    "colnames(res1) <- c(\"Test-MSE OLS\", \"Test-MSE PCR/CV\")\n",
    "\n",
    "# Test MSEs for M= 1 , ..., 20\n",
    "mse_m <- matrix(NA, ncol=20, nrow=2)\n",
    "for (m in 1:20) {\n",
    "    pcr_m <- pcr_comp(X = X_train_d, Y=y_train, M=m)\n",
    "    Z <- cbind(rep(1, nrow(X$X_test)),X_test_d  %*% pcr_m$vectors)\n",
    "    mse_m[1, m] <- m\n",
    "    mse_m[2, m] <- mean((Z %*% pcr_m$beta_hat - y_test) ** 2) \n",
    "}\n",
    "\n",
    "rownames(mse_m) <- c(\"M\", \"Test-MSE\")\n",
    "\n",
    "round(res1, 4)\n",
    "round(mse_m, 4)\n",
    "\n",
    "print(\"Training-MSE OLS:\")\n",
    "mse_train_ols\n",
    "print(\"Training-MSE with M=20:\")\n",
    "pcr_comp(X = X_train_d, Y=y_train, M=20)$mse_train\n"
   ]
  },
  {
   "cell_type": "markdown",
   "metadata": {},
   "source": [
    "Clearly, the OLS Test-MSE performs better than any Principal Component Regression. Notably, even PCR with $M=20$, i.e. no dimensionality reduction, yields a higher Test-MSE than OLS. This casts doubts about the reliability of the employed functions. However, both yield the same MSE when being applied to the training data, so there does not seem to be a mistake in the functions.\n",
    "\n",
    "This result could be due to the fact that $P << N$ anyway as $N=500$ and $P=20$, so *overfitting* is likely not to be an issue. Therefore, it is worth investigating this more thoroughly in a short simulating study featuring situations with different relations of $M$ to $P$."
   ]
  },
  {
   "cell_type": "code",
   "execution_count": 17,
   "metadata": {},
   "outputs": [],
   "source": [
    "sim_func <- function(N, P, intercept, effects, PC, random_effects, eps_sd, k, M_true) {\n",
    "  X <- gen_x(N = N, sample(10:20, size=P, replace = T))\n",
    "  X_train_d <- scale(X$X_train, center = T, scale = F)\n",
    "  X_test_d <- scale(X$X_test, center = T, scale = F)\n",
    "  \n",
    "  y  <- gen_y(intercept=intercept, effects=effects, PC = PC,random = random_effects, eps_sd=eps_sd, X_train = X$X_train, X_test = X$X_test, sigma_x=X$sigma) \n",
    "  y_train <- y$y_train\n",
    "  y_test <- y$y_test\n",
    "  \n",
    "  # PCR / CV\n",
    "  pcr <- pcr_cv(X=X_train_d, Y=y_train, k=k)\n",
    "  Z <- cbind(rep(1, nrow(X$X_test)),X_test_d  %*% pcr$cv_vectors)\n",
    "  mse_test_pcr <- mean((Z %*% pcr$beta_hat - y_test) ** 2)\n",
    "\n",
    "  # OLS  \n",
    "  X_t <- cbind(rep(1, nrow(X$X_test)), X$X_train)\n",
    "  beta_ols <- solve(t(X_t) %*% X_t) %*% t(X_t) %*% y_train\n",
    "  mse_test_ols <- mean((cbind(rep(1, nrow(X$X_test)), X$X_test) %*% beta_ols - y_test) ** 2)\n",
    "  \n",
    "  return(list(mse_test_ols = mse_test_ols, mse_test_pcr = mse_test_pcr,  M = pcr$M))\n",
    "}"
   ]
  },
  {
   "cell_type": "code",
   "execution_count": 18,
   "metadata": {},
   "outputs": [
    {
     "ename": "ERROR",
     "evalue": "Error in `[<-`(`*tmp*`, x, 1, value = n): Indizierung außerhalb der Grenzen\n",
     "output_type": "error",
     "traceback": [
      "Error in `[<-`(`*tmp*`, x, 1, value = n): Indizierung außerhalb der Grenzen\nTraceback:\n"
     ]
    }
   ],
   "source": [
    "reps <- 30\n",
    "res <- matrix(NA, nrow=9, ncol=4)\n",
    "colnames(res) <- c(\"N\",\"MSE_OLS\", \"MSE_PCR\", \"selected M (CV)\")\n",
    "\n",
    "x <- 30\n",
    "for (n in seq(100, 500, by=50)) {\n",
    "  simulation <-\n",
    "    replicate(reps, sim_func(\n",
    "      N = n, \n",
    "      P = 75, \n",
    "      intercept= 0, \n",
    "      effects = sample(5:10, size=5, replace=T), \n",
    "      PC = 1:5, \n",
    "      random_effects = 0, \n",
    "      eps_sd = 1, \n",
    "      k = 5))\n",
    "  \n",
    "  sim <-  mapply(simulation, FUN = as.numeric)\n",
    "  sim <- matrix(data = sim, ncol = reps)\n",
    "  mean_values <- rowMeans(sim)\n",
    "  \n",
    "  res[x, 1] <- n\n",
    "  res[x, 2] <- mean_values[1]\n",
    "  res[x, 3] <- mean_values[2]\n",
    "  res[x, 4] <- mean_values[3]\n",
    "\n",
    "  x <- x + 1 \n",
    "}\n",
    "\n",
    "print(res)"
   ]
  },
  {
   "cell_type": "code",
   "execution_count": null,
   "metadata": {},
   "outputs": [],
   "source": []
  },
  {
   "cell_type": "markdown",
   "metadata": {},
   "source": [
    "But even with $P=75$ and $N$ starting from 100, the OLS Test-MSE clearly dominates the Test-MSE of PCR with the number of components chosen by CV. As already discussed above, the CV approach based on the absolute minimum of the CV-MSE yields only a slight dimensionality reduction as still more than 70 principal components are retained on average over the 30 replications of this simulation study. So even in this situation deemed suitable for the PCR, it performs way worse than the OLS approach."
   ]
  },
  {
   "cell_type": "markdown",
   "metadata": {},
   "source": [
    "## Asset Index as Empirical Application\n",
    "\n",
    "So far, we discussed the motivation for using Principal Component Analysis, its properties and its usage in the regression context. This section aims to illustrate a way that PCA is currently utilised in economics, specifically in development economics. Essentially, PCA is used to construct a proxy variable of something that is either generally unoberservable or not just not elicited in a survey.\n",
    "\n",
    "The problem motivating the use of PCA can be described as follows. Development economists are often interested in the economic status of a household - for instance, in order to study the extent to which economic inequality prevails or in order to relate household welfare to another variable such as educational outcomes of children (e.g. McKenzie, 2005, or Filmer/Pritchett, 2001). It seems natural to use household income or consumption expenditure as measures of the economic status of a household. However, in the development context there are two issues that render this impossible in many cases. First, survey data collected in developing countries often goes along with reporting errors that render the usage of income or consumption data infeasible. Second, and even more fundamental, surveys conducted in developing countries commonly do not even contain questions with respect to those aspects. One example is the Demographic and Health Survey (DHS): conducted in a broad range of developing countries with a nationally-representative sample of households, these data are frequently used in development studies but do not generally contain information on household consumption expenditure or income.\n",
    "\n",
    "However, those survey data usually include information regarding an household's ownership of certain assets, such as a bicycle or a refrigerator, or with respect to housing standards, e.g. the materials used for housing construction. Therefore, the idea is to utilise those survey items in order to construct a proxy variable for household wealth. \n",
    "\n",
    "\n",
    "\n",
    "\n",
    "\n",
    "Motivation:\n",
    "\n",
    "- survey data collected in developing countries often does not contain information on hh's income or consumption expenditures\n",
    "    - see Demographic and Health Survey (DHS): conducted in broad range of developing countries, \"nationally-representative household surveys that provide data for a wide range of monitoring and impact evaluation indicators in the areas of population, health, and nutrition\", frequently used in development studies\n",
    "    - generally no information on income or expenditures, therefore a wealth index is constructed as \"a composite measure of a household's cumulative living standard\", \"using easy-to-collect data on a household's ownership of selected assets, such as televisions and bicycles; materials used for housing construction; and types of water access and sanitation facilities. \n",
    "    \n",
    "Aim:\n",
    "\n",
    "- Construct \"asset index\" to proxy for \"a household's long-run economic status\" (Filmer/Pritchett 2001)\n",
    "    - constructed usually from data on asset ownership or housing characteristics (e.g. Filmer/Pritchett 2001)\n",
    "    \n",
    "Choosing appropriate weights?\n",
    "\n",
    "- equal weights (simply sum over the variables in the case of Dummy variables) has the \"appeal of simplicity\" but this \"masks the fact that the imposition of numeric equality is completely arbitrary\" (Filmer/Pritchett 2001)\n",
    "- \"simply adding all asset variables separately in a linear regression would implicitly create weights\", but most assets may exert both an indirect (as a proxy of wealth) but also a direct effect, thus it is not possible to isolate the effect of an increase in wealth (Filmer/Pritchett 2001)\n",
    "\n",
    "Standardization of variables. Based on the index, build percentiles: bottom 40% poor, upper 20% rich\n",
    "\n",
    "Crucial assumption:\n",
    "\n",
    "- hh's \"long-run wealth explains the maximum variance (and covariance) in the asset variables\", \"no way to test this assumption directly\" (Filmer/Pritchett 2001)\n",
    "- \"internal/external coherence\" (Filmer/Pritchett 2001):\n",
    "    - internal coherence: \"poor\" should have lower mean of assets associated with high wealth and high means for assets associated with low wealth\n",
    "    - external coherence: comparison across Indian states using state-level poverty rates\n",
    "- compare with consumption expenditures, when both available in the survey (Filmer/Pritchett 2001)\n",
    "    \n",
    "    \n",
    "    \n",
    "\n",
    "Interpretation:\n",
    "\n",
    "- in case of dummy variables: change from 0 to 1\n",
    "\n",
    "Factor Analysis:\n",
    "\n",
    "- Filmer/Pritchett (2001): list FA as alternative approach and state that the ranks derived under both approaches has 0.988 Spearman rank correlation\n",
    "\n",
    "\n"
   ]
  },
  {
   "cell_type": "code",
   "execution_count": null,
   "metadata": {},
   "outputs": [],
   "source": [
    "taste1 <- c(rep(1, 10), rep(0, 10))\n",
    "wealth1 <- c(0, 0, rep(1, 8), 0, 0, rep(1, 8))\n",
    "sit1 <- cbind(wealth1, taste1)\n",
    "df1 <- as.data.frame(sit1)\n",
    "df1"
   ]
  },
  {
   "cell_type": "code",
   "execution_count": null,
   "metadata": {},
   "outputs": [],
   "source": [
    "library(ggplot2)\n",
    "ggplot(df1, aes(wealth1, taste1)) +\n",
    "  geom_point(position = position_jitter(w = 0.01, h = 0.01))"
   ]
  },
  {
   "cell_type": "code",
   "execution_count": null,
   "metadata": {},
   "outputs": [],
   "source": [
    "cov(sit1)"
   ]
  },
  {
   "cell_type": "code",
   "execution_count": null,
   "metadata": {},
   "outputs": [],
   "source": [
    "prcomp(sit1, center=TRUE)"
   ]
  },
  {
   "cell_type": "code",
   "execution_count": null,
   "metadata": {},
   "outputs": [],
   "source": [
    "draw_w <- runif(2000, min = 0, max = 1)\n",
    "w <- as.integer(draw_w > 4/20)\n",
    "mean(w)"
   ]
  },
  {
   "cell_type": "code",
   "execution_count": null,
   "metadata": {},
   "outputs": [],
   "source": [
    "draw_t <- runif(2000, min=0, max=1)\n",
    "t <- as.integer(draw_t > 0.5)\n",
    "mean(t)"
   ]
  },
  {
   "cell_type": "code",
   "execution_count": null,
   "metadata": {},
   "outputs": [],
   "source": [
    "x <- cbind(w, t)\n",
    "cov(x)"
   ]
  },
  {
   "cell_type": "code",
   "execution_count": null,
   "metadata": {},
   "outputs": [],
   "source": [
    "prcomp(x, center=TRUE)"
   ]
  },
  {
   "cell_type": "markdown",
   "metadata": {},
   "source": []
  },
  {
   "cell_type": "code",
   "execution_count": null,
   "metadata": {},
   "outputs": [],
   "source": []
  },
  {
   "cell_type": "code",
   "execution_count": null,
   "metadata": {},
   "outputs": [],
   "source": []
  }
 ],
 "metadata": {
  "kernelspec": {
   "display_name": "R",
   "language": "R",
   "name": "ir"
  },
  "language_info": {
   "codemirror_mode": "r",
   "file_extension": ".r",
   "mimetype": "text/x-r-source",
   "name": "R",
   "pygments_lexer": "r",
   "version": "3.6.1"
  }
 },
 "nbformat": 4,
 "nbformat_minor": 4
}
