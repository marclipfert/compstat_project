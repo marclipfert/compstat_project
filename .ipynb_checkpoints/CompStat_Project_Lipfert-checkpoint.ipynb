{
 "cells": [
  {
   "cell_type": "markdown",
   "metadata": {},
   "source": [
    "# Introduction to Dimensionality Reduction and Empirical Application\n",
    "\n",
    "### A Project by Marc Lipfert, Matriculation Number: 3220513\n",
    "\n",
    "### Computational Statistics (Summer Semester 2020)"
   ]
  },
  {
   "cell_type": "markdown",
   "metadata": {},
   "source": [
    "## Table of Contents\n",
    "\n",
    "[1.) Introduction](#introduction)\n",
    "\n",
    "2.) Dimensionality Reduction Using Principal Component Analysis (PCA)\n",
    "\n",
    "3.) Outline of the Empirical Setting\n",
    "\n",
    "4.) Comparison of PCA and Factor Analysis\n",
    "\n",
    "5.) Simulation Study\n",
    "\n",
    "6.) Empirical Application to Actual Survey Data\n",
    "\n",
    "7.) Conclusion"
   ]
  },
  {
   "cell_type": "markdown",
   "metadata": {},
   "source": [
    "<a id='introduction'></a>\n",
    "## 1.) Introduction"
   ]
  },
  {
   "cell_type": "markdown",
   "metadata": {},
   "source": [
    "<a id='pca'></a>\n",
    "## 2.) Dimensionality Reduction Using Principal Component Analysis (PCA)\n",
    "\n",
    "This section aims to introduce Principal Component Analysis (PCA) and thereby intends to answer the following questions: In which contexts is PCA a useful tool? And what are its properties and how is it conducted? \n",
    "\n",
    "*(a) In which contexts is PCA a useful tool?*\n",
    "\n",
    "PCA is essentially a dimensionality reduction method. In the case of a data set with many variables (\"high dimensionality\"), an empirical model based on an extensive set of variables is usually difficult to interpret. Further, the predictive performance of such a model may be poor due to overfitting. Therefore, the aim is often to create a small(er) set of new variables which capture most of the statistical information contained in the original variables. PCA intends to achieve exactly this, where those newly generated variables are called *Principal Components* and they are linear combinations of the original variables. \n",
    "\n",
    "To illustrate in more detail what this means and why it is done, it is useful to fix ideas and draw on a formal framework. The set-up is intended to resemble a situation that is frequently encountered in microeconometrics. Assume that a survey is conducted among randomly selected individuals. The sample size is $N$ and the econometrician is interested in the relationship between the outcome $Y$ and a set of $P$ explanatory variables $X_1 , \\ldots , X_P$. The empirical model (structural equation) for an indivdidual $i$ is assumed to be as follows:\n",
    "\n",
    "$$ Y_i = \\beta_0 + \\beta_1 X_{1i} + \\ldots + \\beta_P X_{Pi} + \\epsilon_i \\text{,} $$\n",
    "\n",
    "where $\\epsilon$ denotes an error term that is assumed to have a conditional expectation of zero: $E[\\epsilon | X] = 0$. Using matrix notation, $ \\pmb Y$ and $\\pmb \\epsilon$ denote column vectors each of length $N$ and $\\pmb X$ is a $N \\times (P + 1)$ matrix. Then, the re-written structural equation reads: \n",
    "\n",
    "$$ Y = \\pmb X \\beta + \\epsilon \\text{ , where } \\pmb X = \\begin{pmatrix} 1 & X_{11} & X_{21} & \\dots & X_{P1} \\\\\n",
    "1 & X_{12} & X_{22} & \\dots & X_{P2} \\\\ \\vdots & \\vdots & \\vdots & \\vdots & \\vdots \\\\ 1 & X_{1N} & X_{2N} & \\dots & X_{PN} \\end{pmatrix} $$. \n",
    "\n",
    "The task of the econometrician is to find estimates $\\hat{\\beta}$ of the population parameters $\\beta$, usually obtained by minimizing the sum of squared residuals (i.e. OLS).  \n",
    "\n",
    "There are two problems that go along with high dimensional data, i.e. large $P$. First, when $N$ is only slightly larger than $P$, *overfitting* is likely to occur. In such a setting with a large number of explanatory variables relative to the sample size, the estimated coefficients of the explanatory variables might pick up on random noise rather than capturing the (\"true\") structural parameters. This can be viewed as an instance of the bias-variance trade-off: given standard assumptions, the numerous estimated coefficients would be unbiased but the variance of the obtained predictions would be large and thus highly dependent on the random sample that the model is fit on. Put differently, the estimated function $\\hat{f}$ with coefficients $ \\hat{\\beta}$ would yield poor predictions (or respectively, high prediction errors) when being applied to a different random sample of the population (\"test data set\").\n",
    "\n",
    "The second issue in the context of high dimensional data is the limited interpretability. Given the large number of explantory variables, a meaningful interpretation of the model may no longer be feasible. One might be inclined to interpret the estimated coefficients separately - but since high dimensionality can go along large correlations among explanatory variables, the issue of multicollinearity may render this approach useless as it cannot be pinned down which variable is truely predictive of the outcome.\n",
    "\n",
    "Dimensionality reduction can be employed to address those two issues. Principal Component Analysis (PCA) is probably the most common method to achieve this. As already stated, it entails finding linear combinations of the explanatory variables that encapsulate as much of the statistical information (\"variability\") contained in the original variables as possible. The actual procedure is outlined in the following.\n",
    "\n",
    "*(b) What are the properties of PCA and how is it conducted?*\n",
    "\n",
    "To begin with, it is common practice to centre (or \"demean\") the explanatory variables, which is done as follows: \n",
    "\n",
    "$$ \\tilde{x}_{ij} = x_{ij} - \\bar{x}_j \\text{,}$$\n",
    "\n",
    "where $\\bar{x}_j$ denotes the sample mean of the $j$th explanatory variable across the $N$ individuals. Importantly, this does not alter the solution besides centring it at zero. Note that when the units of measurement differ across the explanatory variables, e.g. height in cm and temperature in degree Celsius, it is advisable to go even further and standardise the variables to mean zero and standard deviation of 1. This is because of an undesirable feature that PCA has which is the sensitivity of the results to the units of measurement. A change in the units of measurement of a variable also affects its variance - and as the principal components are constructed such that they capture the greatest possible variability of the original variables, it follows that the principal components would change. This issue of standardisation will be picked up on in the following section.\n",
    "\n",
    "We are then interested in obtaining linear combinations $Z_1, \\dots, Z_M$ of the centred variables, where $M \\leq P$. Those linear combinations are referred to as prinicpal components and they are ordered according to their variance in a descending fashion, thus the first principal component $Z_1$ is the linear combination of the centred explanatory variables,\n",
    "\n",
    "$$ Z_1 = \\phi_{11} \\tilde{X}_1 + \\phi_{12} \\tilde{X}_2 + \\dots + \\phi_{1P} \\tilde{X}_P = \\sum_{j=1}^P \\phi_{1j} \\tilde{X}_j = \\tilde{\\pmb X} \\phi_1 \\, \\text{ ,}$$\n",
    "\n",
    "that yields the highest variance. The scalars $\\phi_{11}, \\phi_{12}, \\dots, \\phi_{1P}$ are referred to as *loadings* of the first principal component and $\\phi_1$ denotes the corresponding column vector $\\phi_1 = (\\phi_{11} \\, \\phi_{12}  \\, \\dots \\,  \\phi_{1P})^T$. \n",
    "\n",
    "To derive the actual loadings of the first principal component, we have to note that any such linear combination has its variance given by $Var(\\tilde{\\pmb X} \\phi)  = \\phi^T \\pmb S \\phi$, where $\\pmb S$ denotes the sample covariance matrix of the (centred) explanatory variables. Thus, the vector $\\phi_1$ must be obtained, which maximises the quadratic form $\\phi^T \\pmb S \\phi$. To ensure a well-defined solution to this problem, $\\phi$ is required to be a unit-norm vector, i.e. $\\phi^T \\phi = 1$. Put together, the constrained maximisation problem can be written as \n",
    "\n",
    "$$\\max_{\\phi} \\phi^T \\pmb S \\phi - \\lambda (\\phi^T \\phi -1) \\text{  .}$$\n",
    "\n",
    "Solving this problem yields:\n",
    "\n",
    "$$ \\pmb S \\phi - \\lambda \\phi = \\pmb 0 \\iff  \\pmb S \\phi = \\lambda \\phi \\text{  .}$$\n",
    "\n",
    "Thus, $\\phi$ is an eigenvector of the covariance matrix $\\pmb S$ and the scalar $\\lambda$ denotes the corresponding eigenvalue. Since we are interested in the linear combination with the largest variance  $Z_1$, the respective loadings vector $\\phi_1$ (i.e. the eigenvector) is identified by the largest eigenvalue $\\lambda_1$ as \n",
    "\n",
    "$$ Var(\\tilde{\\pmb X} \\phi)  = \\phi^T \\pmb S \\phi = \\lambda \\phi^T \\phi = \\lambda \\, \\text{ ,}$$\n",
    "\n",
    "using the solution of the maximisation problem. Note that this solution of the maximisation problem is unaffected if the eigenvectors $\\phi$ is multiplied by (-1), so the actual signs of the loadings are meaningless - merely their respective magnitudes as well as their sign patterns matter. \n",
    "\n",
    "As $\\pmb S$ is a symmetric $P \\times P$ matrix, a total number of $P$ eigenvalues can be obtained. The corresponding eigenvectors $\\phi_j$ with $j=1, \\dots, P$ can be required to be orthogonal to each other, which is ensured when they satify $\\phi_{j}^T \\phi_{j\\,'} = 1$ for $j=j\\,'$ and zero otherwise. It can be shown that the remaining $2, \\dots, P$ linear combinations can be found as solutions to the problem of successively maximizing the variance subject to the constraint of uncorrelatedness with previously obtained linear combinations.\n",
    "\n",
    "In consequence, we are able to obtain $P$ linear combinations, i.e. principal components, of the $P$ centred explanatory variables - and all of these linear combinations are uncorrelated. Further, they are arranged in descending order according to their variance, which implies that the variablility of the original variables is more concentrated within the first couple of principal components. Dimensionality reduction now means, that not all of the principal components are used (otherwise no dimensionality reduction would have been achieved) but instead only the principal components up to $M < P$ are utilised. In a regression framework, this implies conducting Principal Component Regression (PCR): instead of regressing the outcome variable $Y$ on the original explanatory variables $\\pmb X$, we regress it on a number of principal components:\n",
    "\n",
    "$$ Y_i = \\gamma_0 + \\gamma_1 Z_{1i} + \\dots + \\gamma_M Z_{Mi} \\, \\text{ ,}$$\n",
    "\n",
    "The crucial assumption thereby is that the directions in which the (centred) original variables have the most variability are also the directions that are associated with the outcome variable $Y$. The word \"direction\" is used as the vectors of principal component loadings, $\\phi$, characterise a direction in a multi-dimensional space. Given that this assumption holds, using only $M$ linear combinations that contain most of the original statistical information improves upon the overfitting problem if $M << P$. Referring back to the variance-bias trade-off, we accept that a small part of the original statistical information is not used (i.e. introducting bias) while achieving a reduction of the variance of our predictions when being applied to a new random sample (test data set) which is likely to overcompensate for the introduced bias.  Further, interpretatibility of the model is increased as only a lower number of variables is included - which are also uncorrelated, so multicollinearity is no longer an issue.\n",
    "\n",
    "The questions remains, how many principal components should be included in the regression model. A helpful concept in this context is the *proportion of variance explained* (PVE). As already stated, we intend to reduce the dimensionality of the data while preserving as much as possible of the original variability. So the PVE states how much of the total variance is captured by an individual principal component. As the explanatory variables are standardised, the total variability is calculated as follows:\n",
    "\n",
    "$$ \\sum_{j=1}^{P} Var(\\tilde{X}_j) = \\sum_{j=1}^{P} \\frac{1}{N}\\sum_{i=1}^{N} \\tilde{x}_{ji}^2 \\text{ .}$$\n",
    "\n",
    "Further, the variance attributable to the $m$th principal component is \n",
    "\n",
    "$$ \\frac{1}{N} \\sum_{i=1}^{N} z_{mi}^2 = \\frac{1}{N} \\sum_{i=1}^{N} (\\sum_{j=1}^{P} \\phi_{mj} \\tilde{x}_{ji})^2 \\text{ .}$$\n",
    "\n",
    "Hence, the the proportion of total variance explained by the principal component $m$ is given by:\n",
    "\n",
    "$$ \\frac{\\sum_{i=1}^{N} (\\sum_{j=1}^{P} \\phi_{mj} \\tilde{x}_{ji})^2}{\\sum_{j=1}^{P} \\sum_{i=1}^{N} \\tilde{x}_{ji}^2} \\text{ .}$$\n",
    "\n",
    "Each PVE of the individual principal components is a positive number that lies between 0 and 1. In order to obtain the cumulative PVE up to prinipal component $M$, this would simply be the sum over the PVE of components $1, \\dots, M$. Both, the PVE and the cumulative are often visualized, where especially plotting the former against the number of principal components receives particular attention and is know as a \"Scree Plot\" (an example will be presented in a later section).\n",
    "\n",
    "To pin down the number of principal components to include in a PCR, a number of rather *ad-hoc* decision rules have been proposed. For instance, choosing only as many principal components as to explain a sizeable fraction of the total variance has been suggested. While it is of course context-dependent, which actual cut-off with respect to the cumulative PVE is appropriate, requiring the principal components to explain at least 70-90\\% of the total variance can be seen as common practice (see Jolliffe, 112-113). A more visual approach would be to analyse the Scree Plot with the PVE on the y-axis and the number of principal components on the x-axis. By eyeballing one would identify the last principal component after which the PVE of the following ones drops off, which is sometimes referred to as an *elbow* (Hastie/Tibshirani, 384). A last example of those rather ad-hoc decision rules would be to keep those principal components with a corresponding eigenvalue $\\lambda$ that is larger than the average eigenvalue $\\bar{\\lambda}$, or only larger than $0.7 \\bar{\\lambda}$ (Jolliffe, 115).\n",
    "\n",
    "A more systematic and, as some would argue, more objective way to identify the number of principal components to include is to choose them via Cross-Validation. As already stated, our aim is to identify an empirical model which is able to explain $Y$ well. Thus, a well fitted model should be able to give good predictions of the outcome when being applied to different data that is likewise randomly drawn from the population. Overfitting is a potential issue which could lead to a situation in which the model is able to predict $Y$ well on a data set the model was trained on, but does poorly in predicting the outcome when using a test data set. One way to achieve good predictive performance on test data is to use Cross-Validation (CV). Then, the available data is randomly split into $k$ folds, commonly $k = 10$. Initially, the first fold is kept as a validation set, and the model is fit on the rest of the data, i.e. on the other $(k-1)$ folds. The quality of the estimated model $\\hat{f}$ is evaluated on the held-out fold and the corresponding prediction error is calculated as the mean squared error (MSE). This procedure is repeated $k$ times, always keeping another fold as the validation set. The $k$-fold Cross-Validation estimate of the MSE is then simply the average of the obtained measures of the prediction errors: $MSE_1, \\dots, MSE_k$. Referring back to the problem of selecting the appropriate number of principal components, the number would be chosen in order to achieve the lowest CV MSE."
   ]
  },
  {
   "cell_type": "markdown",
   "metadata": {},
   "source": [
    "## Lab 1\n",
    "### Visualisation of the General Approach\n"
   ]
  },
  {
   "cell_type": "markdown",
   "metadata": {},
   "source": [
    "The approach is best described when starting with low-dimensional data, such as $P = 2$, as it this can easily be visualised. For this purpose, data is drawn from a bivariate normal distribution in which the data generating process features both variables to have differing variances. Further, they have a positive covariance. The centred data as well as the two principal components are presented in the following graph."
   ]
  },
  {
   "cell_type": "code",
   "execution_count": 1,
   "metadata": {},
   "outputs": [
    {
     "name": "stderr",
     "output_type": "stream",
     "text": [
      "Warning message:\n",
      "\"package 'mvtnorm' was built under R version 3.6.2\"Warning message:\n",
      "\"package 'ggplot2' was built under R version 3.6.3\"Warning message:\n",
      "\"package 'gridExtra' was built under R version 3.6.3\"Warning message:\n",
      "\"package 'cowplot' was built under R version 3.6.3\"\n",
      "********************************************************\n",
      "Note: As of version 1.0.0, cowplot does not change the\n",
      "  default ggplot2 theme anymore. To recover the previous\n",
      "  behavior, execute:\n",
      "  theme_set(theme_cowplot())\n",
      "********************************************************\n",
      "\n"
     ]
    }
   ],
   "source": [
    "library(mvtnorm)\n",
    "library(ggplot2)\n",
    "library(gridExtra)\n",
    "library(cowplot)\n",
    "\n",
    "#adjust size of graphs\n",
    "options(repr.plot.res = 80) \n",
    "# options(repr.plot.width=4, repr.plot.height=4.5)"
   ]
  },
  {
   "cell_type": "code",
   "execution_count": 2,
   "metadata": {},
   "outputs": [],
   "source": [
    "prco <- function(X) {\n",
    "    cov <- cov(X)\n",
    "    p <- dim(cov)[1]\n",
    "    \n",
    "    pca <- eigen(cov)\n",
    "    colnames(pca$vectors) <- paste(\"PC\", 1:p, sep=\"\")\n",
    "    rownames(pca$vectors) <- paste(\"X\", 1:p, sep=\"\")\n",
    "    \n",
    "    PVE <- pca$values / sum(apply(X, 2, var))\n",
    "    cPVE <- cumsum(PVE)\n",
    "    importance <- round(rbind(pca$values, PVE, cPVE), 4)\n",
    "    rownames(importance)[1] <- \"Var (Eigenval.)\"\n",
    "    colnames(importance) <- paste(\"PC\", 1:p, sep=\"\")\n",
    "    \n",
    "    vars <- cbind(paste(\"PC\", 1:p, sep=\"\"), pca$values)\n",
    "    colnames(vars) <- c(\"PC\", \"var\")\n",
    "    df_vars <- data.frame(vars)\n",
    "    df_vars$var <- as.numeric(as.character(df_vars$var))\n",
    "    \n",
    "    return(list(values=pca$values, vectors=pca$vectors, df_vars = df_vars, importance=importance))\n",
    "}"
   ]
  },
  {
   "cell_type": "code",
   "execution_count": 3,
   "metadata": {},
   "outputs": [
    {
     "data": {
      "image/png": "[encoded data removed]",
      "text/plain": [
       "plot without title"
      ]
     },
     "metadata": {},
     "output_type": "display_data"
    }
   ],
   "source": [
    "# Bivariate Normal Distribution\n",
    "\n",
    "set.seed(1234)\n",
    "\n",
    "N <- 200\n",
    "sigma <- matrix(c(5, 6, 6, 12), byrow = T, nrow = 2)\n",
    "mu <- c(5, 15)\n",
    "\n",
    "X <- rmvnorm(N, mean = mu, sigma = sigma)\n",
    "colnames(X) <- c(\"X1\", \"X2\")\n",
    "X_demeaned <- scale(X, center=T, scale = F)\n",
    "\n",
    "df_demeaned <- as.data.frame(X_demeaned)\n",
    "\n",
    "pca <- prco(X_demeaned)\n",
    "\n",
    "p1 <-   ggplot(df_demeaned, aes(X1, X2)) + \n",
    "        xlim(-10, 10) +\n",
    "        geom_point() + \n",
    "        geom_abline(aes(slope = pca$vectors[2, 1] / pca$vectors[1, 1], intercept = 0, colour=\"PC1\")) + \n",
    "        geom_abline(aes(slope = pca$vectors[2, 2] / pca$vectors[1, 2], intercept = 0, colour=\"PC2\")) +\n",
    "        theme(plot.title = element_text(hjust = 0.5)) +\n",
    "        labs(color = \"\") + xlab(\"X1 (demeaned)\") + ylab(\"X2 (demeaned)\") +\n",
    "        scale_color_manual(values = c(\"PC1\" = \"red\", \"PC2\" = \"blue\")) +\n",
    "        ggtitle(\"Visualisation of Principal Components\") +\n",
    "        coord_fixed()\n",
    "p1"
   ]
  },
  {
   "cell_type": "markdown",
   "metadata": {},
   "source": [
    "The positive covariance of the data can be spotted as the point cloud has an upward slope. Since the first principal component is by definition the linear combination of the two variables which captures as much of their variability as possible, it also has a positive slope, thereby capturing the co-movement. The first principal component, depicted in the graph by the red line, has the property that it is the line which minimises the sum of the squared perpendicular distances between the data points and the line. The second principal component (blue line), by construction, must be orthogonal to the first one. Thus, in the two-dimension space, it is perpendicular to the first one. As can already been seen from the graph, the variability in the direction of the first principal component is in this case distinctly larger than the one in the direction of the second one. \n",
    "\n",
    "The numerical values of the principal component loadings are presented below. The first principal component assigns more weight to the second variable X2 than to the first variable X1 (0.86 vs. 0.5), as the former is also the one with a higher variance (see sample covariance matrix). And indeed, the first principal component captures far more of the total variability than the second one: about 92\\% of the total variability is explained by it and only around 8\\% by the second component."
   ]
  },
  {
   "cell_type": "code",
   "execution_count": 4,
   "metadata": {},
   "outputs": [
    {
     "name": "stdout",
     "output_type": "stream",
     "text": [
      "[1] \"Sample Covariance Matrix:\"\n"
     ]
    },
    {
     "data": {
      "text/html": [
       "<table>\n",
       "<thead><tr><th></th><th scope=col>X1</th><th scope=col>X2</th></tr></thead>\n",
       "<tbody>\n",
       "\t<tr><th scope=row>X1</th><td>5.3894 </td><td> 6.6935</td></tr>\n",
       "\t<tr><th scope=row>X2</th><td>6.6935 </td><td>13.0390</td></tr>\n",
       "</tbody>\n",
       "</table>\n"
      ],
      "text/latex": [
       "\\begin{tabular}{r|ll}\n",
       "  & X1 & X2\\\\\n",
       "\\hline\n",
       "\tX1 & 5.3894  &  6.6935\\\\\n",
       "\tX2 & 6.6935  & 13.0390\\\\\n",
       "\\end{tabular}\n"
      ],
      "text/markdown": [
       "\n",
       "| <!--/--> | X1 | X2 |\n",
       "|---|---|---|\n",
       "| X1 | 5.3894  |  6.6935 |\n",
       "| X2 | 6.6935  | 13.0390 |\n",
       "\n"
      ],
      "text/plain": [
       "   X1     X2     \n",
       "X1 5.3894  6.6935\n",
       "X2 6.6935 13.0390"
      ]
     },
     "metadata": {},
     "output_type": "display_data"
    },
    {
     "name": "stdout",
     "output_type": "stream",
     "text": [
      "[1] \"Principal Components:\"\n"
     ]
    },
    {
     "data": {
      "text/html": [
       "<table>\n",
       "<thead><tr><th></th><th scope=col>PC1</th><th scope=col>PC2</th></tr></thead>\n",
       "<tbody>\n",
       "\t<tr><th scope=row>X1</th><td>0.5019 </td><td>-0.8649</td></tr>\n",
       "\t<tr><th scope=row>X2</th><td>0.8649 </td><td> 0.5019</td></tr>\n",
       "</tbody>\n",
       "</table>\n"
      ],
      "text/latex": [
       "\\begin{tabular}{r|ll}\n",
       "  & PC1 & PC2\\\\\n",
       "\\hline\n",
       "\tX1 & 0.5019  & -0.8649\\\\\n",
       "\tX2 & 0.8649  &  0.5019\\\\\n",
       "\\end{tabular}\n"
      ],
      "text/markdown": [
       "\n",
       "| <!--/--> | PC1 | PC2 |\n",
       "|---|---|---|\n",
       "| X1 | 0.5019  | -0.8649 |\n",
       "| X2 | 0.8649  |  0.5019 |\n",
       "\n"
      ],
      "text/plain": [
       "   PC1    PC2    \n",
       "X1 0.5019 -0.8649\n",
       "X2 0.8649  0.5019"
      ]
     },
     "metadata": {},
     "output_type": "display_data"
    },
    {
     "name": "stdout",
     "output_type": "stream",
     "text": [
      "[1] \"Importance of Components:\"\n"
     ]
    },
    {
     "data": {
      "text/html": [
       "<table>\n",
       "<thead><tr><th></th><th scope=col>PC1</th><th scope=col>PC2</th></tr></thead>\n",
       "<tbody>\n",
       "\t<tr><th scope=row>Var (Eigenval.)</th><td>16.9235</td><td>1.5050 </td></tr>\n",
       "\t<tr><th scope=row>PVE</th><td> 0.9183</td><td>0.0817 </td></tr>\n",
       "\t<tr><th scope=row>cPVE</th><td> 0.9183</td><td>1.0000 </td></tr>\n",
       "</tbody>\n",
       "</table>\n"
      ],
      "text/latex": [
       "\\begin{tabular}{r|ll}\n",
       "  & PC1 & PC2\\\\\n",
       "\\hline\n",
       "\tVar (Eigenval.) & 16.9235 & 1.5050 \\\\\n",
       "\tPVE &  0.9183 & 0.0817 \\\\\n",
       "\tcPVE &  0.9183 & 1.0000 \\\\\n",
       "\\end{tabular}\n"
      ],
      "text/markdown": [
       "\n",
       "| <!--/--> | PC1 | PC2 |\n",
       "|---|---|---|\n",
       "| Var (Eigenval.) | 16.9235 | 1.5050  |\n",
       "| PVE |  0.9183 | 0.0817  |\n",
       "| cPVE |  0.9183 | 1.0000  |\n",
       "\n"
      ],
      "text/plain": [
       "                PC1     PC2   \n",
       "Var (Eigenval.) 16.9235 1.5050\n",
       "PVE              0.9183 0.0817\n",
       "cPVE             0.9183 1.0000"
      ]
     },
     "metadata": {},
     "output_type": "display_data"
    },
    {
     "data": {
      "image/png": "[encoded data removed]",
      "text/plain": [
       "plot without title"
      ]
     },
     "metadata": {},
     "output_type": "display_data"
    }
   ],
   "source": [
    "print(\"Sample Covariance Matrix:\")\n",
    "# Sample cov is invariant to demeaning\n",
    "round(cov(df_demeaned), 4)\n",
    "\n",
    "print(\"Principal Components:\")\n",
    "round(pca$vectors, 4)\n",
    "\n",
    "print(\"Importance of Components:\")\n",
    "pca$importance\n",
    "\n",
    "ggplot(data = pca$df_vars, aes(x=PC, y=var)) +\n",
    "    geom_bar(stat=\"identity\", fill=\"green\") + ylab(\"Variance (Eigenvalue)\")"
   ]
  },
  {
   "cell_type": "markdown",
   "metadata": {},
   "source": [
    "### Standardisation\n"
   ]
  },
  {
   "cell_type": "markdown",
   "metadata": {},
   "source": [
    "In the following, it shall be demonstrated that PCA with standardised data indeed leads to different principal components than when using data that is demeaned only. The following plot shows the demeaned data from before on the left side and the standardised version of the same underlying data on the right. As one can see, the slope of the principal components differ across panels. The first principal component with demeaned data assigned more weight to the second variable X2, which is captured by the corresponding red line having a slope larger than one, it seems that the first principal component in the case with standardised data has identical factor loadings for the two variables.\n",
    "\n",
    "This is because standardisation alters the covariance matrix while demeaning leaves is unaffected. As the principal components are obtained as the eigenvectors of the covariance matrix, they then also differ. The covariance matrix of the standardised data is in fact the correlation matrix of the underlying data. "
   ]
  },
  {
   "cell_type": "code",
   "execution_count": 5,
   "metadata": {},
   "outputs": [
    {
     "data": {
      "image/png": "[encoded data removed]",
      "text/plain": [
       "plot without title"
      ]
     },
     "metadata": {},
     "output_type": "display_data"
    }
   ],
   "source": [
    "X_std <- scale(X, center = T, scale = T)\n",
    "df_std <- as.data.frame(X_std)\n",
    "pca_std <- prco(X_std)\n",
    "\n",
    "p2 <-   ggplot(df_std, aes(X1, X2)) + \n",
    "        geom_point() + \n",
    "        geom_abline(aes(slope = pca_std$vectors[2, 1] / pca_std$vectors[1, 1], intercept = 0, colour=\"PC1\")) + \n",
    "        geom_abline(aes(slope = pca_std$vectors[2, 2] / pca_std$vectors[1, 2], intercept = 0, colour=\"PC2\")) +\n",
    "        theme(plot.title = element_text(hjust = 0.5)) +\n",
    "        labs(color = \"\") + xlab(\"X1 (stand.)\") + ylab(\"X2 (stand.)\") +\n",
    "        scale_color_manual(values = c(\"PC1\" = \"red\", \"PC2\" = \"blue\")) +\n",
    "        ggtitle(\"PCA with standardised data\") +\n",
    "        coord_fixed()\n",
    "\n",
    "p1 <- p1 + ggtitle(\"PCA with demeaned data\")\n",
    "\n",
    "options(repr.plot.width=10, repr.plot.height=8)\n",
    "grid.arrange(p1, p2, nrow=1)"
   ]
  },
  {
   "cell_type": "markdown",
   "metadata": {},
   "source": [
    "Below, the correlation matrix is displayed. Both variables have a high correlation of about .8 and this leads to factor loadings of the first principal component that equally weight both of the standardised variables. Still, the first component explains about 90\\% of the total variance."
   ]
  },
  {
   "cell_type": "code",
   "execution_count": 6,
   "metadata": {},
   "outputs": [
    {
     "name": "stdout",
     "output_type": "stream",
     "text": [
      "[1] \"Sample Covariance Matrix:\"\n"
     ]
    },
    {
     "data": {
      "text/html": [
       "<table>\n",
       "<thead><tr><th></th><th scope=col>X1</th><th scope=col>X2</th></tr></thead>\n",
       "<tbody>\n",
       "\t<tr><th scope=row>X1</th><td>5.389441 </td><td> 6.693512</td></tr>\n",
       "\t<tr><th scope=row>X2</th><td>6.693512 </td><td>13.039028</td></tr>\n",
       "</tbody>\n",
       "</table>\n"
      ],
      "text/latex": [
       "\\begin{tabular}{r|ll}\n",
       "  & X1 & X2\\\\\n",
       "\\hline\n",
       "\tX1 & 5.389441  &  6.693512\\\\\n",
       "\tX2 & 6.693512  & 13.039028\\\\\n",
       "\\end{tabular}\n"
      ],
      "text/markdown": [
       "\n",
       "| <!--/--> | X1 | X2 |\n",
       "|---|---|---|\n",
       "| X1 | 5.389441  |  6.693512 |\n",
       "| X2 | 6.693512  | 13.039028 |\n",
       "\n"
      ],
      "text/plain": [
       "   X1       X2       \n",
       "X1 5.389441  6.693512\n",
       "X2 6.693512 13.039028"
      ]
     },
     "metadata": {},
     "output_type": "display_data"
    },
    {
     "name": "stdout",
     "output_type": "stream",
     "text": [
      "[1] \"Covariance Matrix of Standardised Data (Correlation Matrix)\"\n"
     ]
    },
    {
     "data": {
      "text/html": [
       "<table>\n",
       "<thead><tr><th></th><th scope=col>X1</th><th scope=col>X2</th></tr></thead>\n",
       "<tbody>\n",
       "\t<tr><th scope=row>X1</th><td>1.0000000</td><td>0.7984717</td></tr>\n",
       "\t<tr><th scope=row>X2</th><td>0.7984717</td><td>1.0000000</td></tr>\n",
       "</tbody>\n",
       "</table>\n"
      ],
      "text/latex": [
       "\\begin{tabular}{r|ll}\n",
       "  & X1 & X2\\\\\n",
       "\\hline\n",
       "\tX1 & 1.0000000 & 0.7984717\\\\\n",
       "\tX2 & 0.7984717 & 1.0000000\\\\\n",
       "\\end{tabular}\n"
      ],
      "text/markdown": [
       "\n",
       "| <!--/--> | X1 | X2 |\n",
       "|---|---|---|\n",
       "| X1 | 1.0000000 | 0.7984717 |\n",
       "| X2 | 0.7984717 | 1.0000000 |\n",
       "\n"
      ],
      "text/plain": [
       "   X1        X2       \n",
       "X1 1.0000000 0.7984717\n",
       "X2 0.7984717 1.0000000"
      ]
     },
     "metadata": {},
     "output_type": "display_data"
    },
    {
     "name": "stdout",
     "output_type": "stream",
     "text": [
      "[1] \"Principal Component Loadings:\"\n"
     ]
    },
    {
     "data": {
      "text/html": [
       "<table>\n",
       "<thead><tr><th></th><th scope=col>PC1</th><th scope=col>PC2</th></tr></thead>\n",
       "<tbody>\n",
       "\t<tr><th scope=row>X1</th><td>0.7071068 </td><td>-0.7071068</td></tr>\n",
       "\t<tr><th scope=row>X2</th><td>0.7071068 </td><td> 0.7071068</td></tr>\n",
       "</tbody>\n",
       "</table>\n"
      ],
      "text/latex": [
       "\\begin{tabular}{r|ll}\n",
       "  & PC1 & PC2\\\\\n",
       "\\hline\n",
       "\tX1 & 0.7071068  & -0.7071068\\\\\n",
       "\tX2 & 0.7071068  &  0.7071068\\\\\n",
       "\\end{tabular}\n"
      ],
      "text/markdown": [
       "\n",
       "| <!--/--> | PC1 | PC2 |\n",
       "|---|---|---|\n",
       "| X1 | 0.7071068  | -0.7071068 |\n",
       "| X2 | 0.7071068  |  0.7071068 |\n",
       "\n"
      ],
      "text/plain": [
       "   PC1       PC2       \n",
       "X1 0.7071068 -0.7071068\n",
       "X2 0.7071068  0.7071068"
      ]
     },
     "metadata": {},
     "output_type": "display_data"
    },
    {
     "name": "stdout",
     "output_type": "stream",
     "text": [
      "[1] \"Importance of Principal Components:\"\n"
     ]
    },
    {
     "data": {
      "text/html": [
       "<table>\n",
       "<thead><tr><th></th><th scope=col>PC1</th><th scope=col>PC2</th></tr></thead>\n",
       "<tbody>\n",
       "\t<tr><th scope=row>Var (Eigenval.)</th><td>1.7985</td><td>0.2015</td></tr>\n",
       "\t<tr><th scope=row>PVE</th><td>0.8992</td><td>0.1008</td></tr>\n",
       "\t<tr><th scope=row>cPVE</th><td>0.8992</td><td>1.0000</td></tr>\n",
       "</tbody>\n",
       "</table>\n"
      ],
      "text/latex": [
       "\\begin{tabular}{r|ll}\n",
       "  & PC1 & PC2\\\\\n",
       "\\hline\n",
       "\tVar (Eigenval.) & 1.7985 & 0.2015\\\\\n",
       "\tPVE & 0.8992 & 0.1008\\\\\n",
       "\tcPVE & 0.8992 & 1.0000\\\\\n",
       "\\end{tabular}\n"
      ],
      "text/markdown": [
       "\n",
       "| <!--/--> | PC1 | PC2 |\n",
       "|---|---|---|\n",
       "| Var (Eigenval.) | 1.7985 | 0.2015 |\n",
       "| PVE | 0.8992 | 0.1008 |\n",
       "| cPVE | 0.8992 | 1.0000 |\n",
       "\n"
      ],
      "text/plain": [
       "                PC1    PC2   \n",
       "Var (Eigenval.) 1.7985 0.2015\n",
       "PVE             0.8992 0.1008\n",
       "cPVE            0.8992 1.0000"
      ]
     },
     "metadata": {},
     "output_type": "display_data"
    },
    {
     "data": {
      "image/png": "[encoded data removed]",
      "text/plain": [
       "plot without title"
      ]
     },
     "metadata": {},
     "output_type": "display_data"
    }
   ],
   "source": [
    "print(\"Sample Covariance Matrix:\")\n",
    "cov(df_demeaned)\n",
    "\n",
    "print(\"Covariance Matrix of Standardised Data (Correlation Matrix)\")\n",
    "# Standardisation alters original Cov Matrix\n",
    "cov(df_std)\n",
    "\n",
    "print(\"Principal Component Loadings:\")\n",
    "pca_std$vectors\n",
    "\n",
    "print(\"Importance of Principal Components:\")\n",
    "pca_std$importance\n",
    "\n",
    "ggplot(data = pca_std$df_var, aes(x=PC, y=var)) +\n",
    "    geom_bar(stat=\"identity\", fill=\"green\") + ylab(\"Variance (Eigenvalue)\")"
   ]
  },
  {
   "cell_type": "markdown",
   "metadata": {},
   "source": [
    "To illustrate this point more clearly, consider the bivariate case with uncorrelated variables and drastically differing variances. "
   ]
  },
  {
   "cell_type": "code",
   "execution_count": 7,
   "metadata": {},
   "outputs": [
    {
     "name": "stdout",
     "output_type": "stream",
     "text": [
      "[1] \"****************************\"\n",
      "[1] \"*** Demeaned Data **********\"\n",
      "[1] \"****************************\"\n",
      "[1] \"Sample Covariance Matrix:\"\n"
     ]
    },
    {
     "data": {
      "text/html": [
       "<table>\n",
       "<thead><tr><th></th><th scope=col>X1</th><th scope=col>X2</th></tr></thead>\n",
       "<tbody>\n",
       "\t<tr><th scope=row>X1</th><td>11.43334373</td><td>-0.07325336</td></tr>\n",
       "\t<tr><th scope=row>X2</th><td>-0.07325336</td><td> 1.86232795</td></tr>\n",
       "</tbody>\n",
       "</table>\n"
      ],
      "text/latex": [
       "\\begin{tabular}{r|ll}\n",
       "  & X1 & X2\\\\\n",
       "\\hline\n",
       "\tX1 & 11.43334373 & -0.07325336\\\\\n",
       "\tX2 & -0.07325336 &  1.86232795\\\\\n",
       "\\end{tabular}\n"
      ],
      "text/markdown": [
       "\n",
       "| <!--/--> | X1 | X2 |\n",
       "|---|---|---|\n",
       "| X1 | 11.43334373 | -0.07325336 |\n",
       "| X2 | -0.07325336 |  1.86232795 |\n",
       "\n"
      ],
      "text/plain": [
       "   X1          X2         \n",
       "X1 11.43334373 -0.07325336\n",
       "X2 -0.07325336  1.86232795"
      ]
     },
     "metadata": {},
     "output_type": "display_data"
    },
    {
     "name": "stdout",
     "output_type": "stream",
     "text": [
      "[1] \"Principal Components:\"\n"
     ]
    },
    {
     "data": {
      "text/html": [
       "<table>\n",
       "<thead><tr><th></th><th scope=col>PC1</th><th scope=col>PC2</th></tr></thead>\n",
       "<tbody>\n",
       "\t<tr><th scope=row>X1</th><td>-0.999970715</td><td>-0.007652994</td></tr>\n",
       "\t<tr><th scope=row>X2</th><td> 0.007652994</td><td>-0.999970715</td></tr>\n",
       "</tbody>\n",
       "</table>\n"
      ],
      "text/latex": [
       "\\begin{tabular}{r|ll}\n",
       "  & PC1 & PC2\\\\\n",
       "\\hline\n",
       "\tX1 & -0.999970715 & -0.007652994\\\\\n",
       "\tX2 &  0.007652994 & -0.999970715\\\\\n",
       "\\end{tabular}\n"
      ],
      "text/markdown": [
       "\n",
       "| <!--/--> | PC1 | PC2 |\n",
       "|---|---|---|\n",
       "| X1 | -0.999970715 | -0.007652994 |\n",
       "| X2 |  0.007652994 | -0.999970715 |\n",
       "\n"
      ],
      "text/plain": [
       "   PC1          PC2         \n",
       "X1 -0.999970715 -0.007652994\n",
       "X2  0.007652994 -0.999970715"
      ]
     },
     "metadata": {},
     "output_type": "display_data"
    },
    {
     "data": {
      "text/html": [
       "<table>\n",
       "<thead><tr><th></th><th scope=col>PC1</th><th scope=col>PC2</th></tr></thead>\n",
       "<tbody>\n",
       "\t<tr><th scope=row>Var (Eigenval.)</th><td>11.4339</td><td>1.8618 </td></tr>\n",
       "\t<tr><th scope=row>PVE</th><td> 0.8600</td><td>0.1400 </td></tr>\n",
       "\t<tr><th scope=row>cPVE</th><td> 0.8600</td><td>1.0000 </td></tr>\n",
       "</tbody>\n",
       "</table>\n"
      ],
      "text/latex": [
       "\\begin{tabular}{r|ll}\n",
       "  & PC1 & PC2\\\\\n",
       "\\hline\n",
       "\tVar (Eigenval.) & 11.4339 & 1.8618 \\\\\n",
       "\tPVE &  0.8600 & 0.1400 \\\\\n",
       "\tcPVE &  0.8600 & 1.0000 \\\\\n",
       "\\end{tabular}\n"
      ],
      "text/markdown": [
       "\n",
       "| <!--/--> | PC1 | PC2 |\n",
       "|---|---|---|\n",
       "| Var (Eigenval.) | 11.4339 | 1.8618  |\n",
       "| PVE |  0.8600 | 0.1400  |\n",
       "| cPVE |  0.8600 | 1.0000  |\n",
       "\n"
      ],
      "text/plain": [
       "                PC1     PC2   \n",
       "Var (Eigenval.) 11.4339 1.8618\n",
       "PVE              0.8600 0.1400\n",
       "cPVE             0.8600 1.0000"
      ]
     },
     "metadata": {},
     "output_type": "display_data"
    },
    {
     "name": "stdout",
     "output_type": "stream",
     "text": [
      "[1] \"****************************\"\n",
      "[1] \"*** Standardised Data ******\"\n",
      "[1] \"****************************\"\n",
      "[1] \"Covariance Matrix:\"\n"
     ]
    },
    {
     "data": {
      "text/html": [
       "<table>\n",
       "<thead><tr><th></th><th scope=col>X1</th><th scope=col>X2</th></tr></thead>\n",
       "<tbody>\n",
       "\t<tr><th scope=row>X1</th><td> 1.00000000</td><td>-0.01587497</td></tr>\n",
       "\t<tr><th scope=row>X2</th><td>-0.01587497</td><td> 1.00000000</td></tr>\n",
       "</tbody>\n",
       "</table>\n"
      ],
      "text/latex": [
       "\\begin{tabular}{r|ll}\n",
       "  & X1 & X2\\\\\n",
       "\\hline\n",
       "\tX1 &  1.00000000 & -0.01587497\\\\\n",
       "\tX2 & -0.01587497 &  1.00000000\\\\\n",
       "\\end{tabular}\n"
      ],
      "text/markdown": [
       "\n",
       "| <!--/--> | X1 | X2 |\n",
       "|---|---|---|\n",
       "| X1 |  1.00000000 | -0.01587497 |\n",
       "| X2 | -0.01587497 |  1.00000000 |\n",
       "\n"
      ],
      "text/plain": [
       "   X1          X2         \n",
       "X1  1.00000000 -0.01587497\n",
       "X2 -0.01587497  1.00000000"
      ]
     },
     "metadata": {},
     "output_type": "display_data"
    },
    {
     "name": "stdout",
     "output_type": "stream",
     "text": [
      "[1] \"Principal Components:\"\n"
     ]
    },
    {
     "data": {
      "text/html": [
       "<table>\n",
       "<thead><tr><th></th><th scope=col>PC1</th><th scope=col>PC2</th></tr></thead>\n",
       "<tbody>\n",
       "\t<tr><th scope=row>X1</th><td>-0.7071068</td><td>-0.7071068</td></tr>\n",
       "\t<tr><th scope=row>X2</th><td> 0.7071068</td><td>-0.7071068</td></tr>\n",
       "</tbody>\n",
       "</table>\n"
      ],
      "text/latex": [
       "\\begin{tabular}{r|ll}\n",
       "  & PC1 & PC2\\\\\n",
       "\\hline\n",
       "\tX1 & -0.7071068 & -0.7071068\\\\\n",
       "\tX2 &  0.7071068 & -0.7071068\\\\\n",
       "\\end{tabular}\n"
      ],
      "text/markdown": [
       "\n",
       "| <!--/--> | PC1 | PC2 |\n",
       "|---|---|---|\n",
       "| X1 | -0.7071068 | -0.7071068 |\n",
       "| X2 |  0.7071068 | -0.7071068 |\n",
       "\n"
      ],
      "text/plain": [
       "   PC1        PC2       \n",
       "X1 -0.7071068 -0.7071068\n",
       "X2  0.7071068 -0.7071068"
      ]
     },
     "metadata": {},
     "output_type": "display_data"
    },
    {
     "data": {
      "text/html": [
       "<table>\n",
       "<thead><tr><th></th><th scope=col>PC1</th><th scope=col>PC2</th></tr></thead>\n",
       "<tbody>\n",
       "\t<tr><th scope=row>Var (Eigenval.)</th><td>1.0159</td><td>0.9841</td></tr>\n",
       "\t<tr><th scope=row>PVE</th><td>0.5079</td><td>0.4921</td></tr>\n",
       "\t<tr><th scope=row>cPVE</th><td>0.5079</td><td>1.0000</td></tr>\n",
       "</tbody>\n",
       "</table>\n"
      ],
      "text/latex": [
       "\\begin{tabular}{r|ll}\n",
       "  & PC1 & PC2\\\\\n",
       "\\hline\n",
       "\tVar (Eigenval.) & 1.0159 & 0.9841\\\\\n",
       "\tPVE & 0.5079 & 0.4921\\\\\n",
       "\tcPVE & 0.5079 & 1.0000\\\\\n",
       "\\end{tabular}\n"
      ],
      "text/markdown": [
       "\n",
       "| <!--/--> | PC1 | PC2 |\n",
       "|---|---|---|\n",
       "| Var (Eigenval.) | 1.0159 | 0.9841 |\n",
       "| PVE | 0.5079 | 0.4921 |\n",
       "| cPVE | 0.5079 | 1.0000 |\n",
       "\n"
      ],
      "text/plain": [
       "                PC1    PC2   \n",
       "Var (Eigenval.) 1.0159 0.9841\n",
       "PVE             0.5079 0.4921\n",
       "cPVE            0.5079 1.0000"
      ]
     },
     "metadata": {},
     "output_type": "display_data"
    },
    {
     "data": {
      "image/png": "[encoded data removed]",
      "text/plain": [
       "plot without title"
      ]
     },
     "metadata": {},
     "output_type": "display_data"
    }
   ],
   "source": [
    "set.seed(1)\n",
    "N <- 200\n",
    "sigma <- matrix(c(12, 0, 0, 2), byrow = T, nrow = 2)\n",
    "mu <- c(5, 15)\n",
    "\n",
    "X <- rmvnorm(N, mean = mu, sigma = sigma)\n",
    "colnames(X) <- c(\"X1\", \"X2\")\n",
    "X_demeaned <- scale(X, center=T, scale = F)\n",
    "\n",
    "df_demeaned <- as.data.frame(X_demeaned)\n",
    "\n",
    "print(\"****************************\")\n",
    "print(\"*** Demeaned Data **********\")\n",
    "print(\"****************************\")\n",
    "print(\"Sample Covariance Matrix:\")\n",
    "cov(df_demeaned)\n",
    "print(\"Principal Components:\")\n",
    "pca <- prco(X_demeaned)\n",
    "pca$vectors\n",
    "pca$importance\n",
    "\n",
    "p1 <-   ggplot(df_demeaned, aes(X1, X2)) + \n",
    "        xlim(-10, 10) + ylim(-5, 5) +\n",
    "        geom_point() + \n",
    "        geom_abline(aes(slope = pca$vectors[2, 1] / pca$vectors[1, 1], intercept = 0, colour=\"PC1\")) + \n",
    "        geom_abline(aes(slope = pca$vectors[2, 2] / pca$vectors[1, 2], intercept = 0, colour=\"PC2\")) +\n",
    "        theme(plot.title = element_text(hjust = 0.5)) +\n",
    "        labs(color = \"\") + xlab(\"X1 (demeaned)\") + ylab(\"X2 (demeaned)\") +\n",
    "        scale_color_manual(values = c(\"PC1\" = \"red\", \"PC2\" = \"blue\")) +\n",
    "        ggtitle(\"PCA with demeaned data\") +\n",
    "        coord_fixed()\n",
    "\n",
    "print(\"****************************\")\n",
    "print(\"*** Standardised Data ******\")\n",
    "print(\"****************************\")\n",
    "X_std <- scale(X, center = T, scale = T)\n",
    "df_std <- as.data.frame(X_std)\n",
    "pca_std <- prco(X_std)\n",
    "\n",
    "print(\"Covariance Matrix:\")\n",
    "cov(df_std)\n",
    "print(\"Principal Components:\")\n",
    "pca_std$vectors\n",
    "pca_std$importance\n",
    "\n",
    "p2 <-   ggplot(df_std, aes(X1, X2)) + \n",
    "        geom_point() + \n",
    "        geom_abline(aes(slope = pca_std$vectors[2, 1] / pca_std$vectors[1, 1], intercept = 0, colour=\"PC1\")) + \n",
    "        geom_abline(aes(slope = pca_std$vectors[2, 2] / pca_std$vectors[1, 2], intercept = 0, colour=\"PC2\")) +\n",
    "        theme(plot.title = element_text(hjust = 0.5)) +\n",
    "        labs(color = \"\") + xlab(\"X1 (stand.)\") + ylab(\"X2 (stand.)\") +\n",
    "        scale_color_manual(values = c(\"PC1\" = \"red\", \"PC2\" = \"blue\")) +\n",
    "        ggtitle(\"PCA with standardised data\") +\n",
    "        coord_fixed()\n",
    "\n",
    "plot_grid(p1, p2, align = \"h\", nrow = 1, rel_heights = c(1, 1))"
   ]
  },
  {
   "cell_type": "markdown",
   "metadata": {},
   "source": [
    "As X1 is the variable that has a much larger variance than X2 and the sample covariance between them is almost zero, the first principal component computed based on the demeaned data loads almost exclusively on X1. In other word, the first principal component is in the direction of X1, hence the red line in the left panel is essentially a flat horizontal line. About 86\\% of the total variance is captured by it. In turn, the second principal component must be orthogonal which yields a vertical line. \n",
    "\n",
    "While the point cloud of the standardised data looks the same, the standardisation procedure takes out the difference in variance: the newly generated variables have both a variance of 1. Since the correlation between the variables is almost zero, it follows that the factor loadings of the first principal component obtained with standardised data assign almost equal weight to both of the standardised variables.\n",
    "\n",
    "Thus, in the case of the covariance matrix approach, variables with a high variance will dominate the first principal component and one should be aware of this issue. For instance, it would actually matter whether length is measured in miles or in kilometres as this has implications for the variance of the measurements. With explanatory variables that are measured on different scales, it is therefore crucial to standardise in order to achieve scale invariance. However, one might be inclined to always standardise the variables, even if they are measured on the same scale, just to be precautious. However, the differences in variance may in fact be relevant and those high-variance variables might be more important when predicting the outcome. Hence, it is necessary to study the role of PCA in a regression context rather than as a tool for exploratory data analyses."
   ]
  },
  {
   "cell_type": "markdown",
   "metadata": {},
   "source": [
    "### Principal Component Regression (PCR)\n",
    "\n",
    "To demonstrate the general procedure, consider the following set-up. We always draw a test and a training data set of equal size. The explanatory variables are obtained *Explain DGP*\n",
    "\n"
   ]
  },
  {
   "cell_type": "code",
   "execution_count": 8,
   "metadata": {},
   "outputs": [],
   "source": [
    "gen_x <- function(N, mu) {\n",
    "  \n",
    "  p <- length(mu) # number of predictors\n",
    "  \n",
    "  # Q <- qr.Q(qr(matrix(rnorm(p^2), p))) # create an orthogonal matrix from a matrix of iid draws from N(0,1)\n",
    "  # sigma <- t(Q) %*% diag(sample(1:10, p, replace = T)) %*% Q # create Cov matrix\n",
    "  \n",
    "  W = replicate(p, rnorm(p))\n",
    "  S = W%*%t(W) + diag(runif(p),nrow=p)\n",
    "  S = diag(1/sqrt(diag(S)))%*%S%*%diag(1/sqrt(diag(S))) # correlation matrix\n",
    "  \n",
    "  sdevs <- sample(1:2, p, replace=T)\n",
    "  sigma <- diag(sdevs) %*% S %*% diag(sdevs)\n",
    "  \n",
    "  X_train <- rmvnorm(n=N, mean=mu, sigma=sigma)  # randomly draw training data set\n",
    "  X_test <- rmvnorm(n=N, mean=mu, sigma=sigma)  # randomly draw test data set\n",
    "  \n",
    "  return(list(X_train=X_train, X_test = X_test, sigma = sigma))   \n",
    "}"
   ]
  },
  {
   "cell_type": "code",
   "execution_count": 9,
   "metadata": {},
   "outputs": [],
   "source": [
    "gen_y <- function(intercept, effects, X_train, X_test, sigma_x, PC, random, eps_sd) {\n",
    "  p <- dim(sigma_x)[1]\n",
    "  N_train <- dim(X_train)[1]\n",
    "  N_test <- dim(X_test)[1]\n",
    "  \n",
    "  if (random == 1) {\n",
    "\n",
    "    beta_vec <- sample(effects, size= p, replace=T)\n",
    "    y_train <- rep(intercept, N_train) + X_train %*% beta_vec + rnorm(n=N_train, mean=0, sd=eps_sd)\n",
    "    y_test <- rep(intercept, N_test) + X_test %*% beta_vec + rnorm(n=N_test, mean=0, sd=eps_sd)\n",
    "  \n",
    "  } else {\n",
    "    stopifnot(length(effects) == length(PC))\n",
    "    V <- eigen(sigma_x)$vectors[,PC]\n",
    "    y_train <- rep(intercept, N_train) + X_train %*% V %*% effects + rnorm(n=N_train, mean=0, sd=eps_sd)\n",
    "    y_test <- rep(intercept, N_test) + X_test %*% V %*% effects + rnorm(n=N_test, mean=0, sd=eps_sd)\n",
    "  }\n",
    "  return(list(y_train = y_train, y_test = y_test)) \n",
    "}"
   ]
  },
  {
   "cell_type": "code",
   "execution_count": 10,
   "metadata": {},
   "outputs": [],
   "source": [
    "pcr_cv <- function(X, Y, k) {\n",
    "  \n",
    "  stopifnot(nrow(Y) == nrow(X))\n",
    "  \n",
    "  data <- cbind(Y, X)\n",
    "  \n",
    "  fold_i <- sample(rep(1:k, length.out = nrow(X)))\n",
    "  \n",
    "  mse <- matrix(NA, nrow=ncol(X), ncol=k)\n",
    "  \n",
    "  for (x in 1:k) {\n",
    "    val_i <- which(fold_i == x)\n",
    "    train <- data[-val_i,]\n",
    "    val <- data[val_i,]\n",
    "    \n",
    "    pca <- prco(train[,-1])\n",
    "    \n",
    "    for (j in 1:ncol(X)) {\n",
    "      Z_train <- cbind(rep(1, nrow(train)),train[,-1] %*% pca$vectors[,1:j])\n",
    "      Z_val <- cbind(rep(1, nrow(val)),val[,-1] %*% pca$vectors[,1:j])\n",
    "      # Z_train <- train[,-1] %*% pca$vectors[,1:j]\n",
    "      # Z_val <- val[,-1] %*% pca$vectors[,1:j]\n",
    "      \n",
    "      beta_hat <- solve(t(Z_train)%*%Z_train) %*% t(Z_train) %*% train[,1]\n",
    "      mse[j, x] <- mean((Z_val %*% beta_hat - val[,1]) ** 2)\n",
    "    }\n",
    "  }\n",
    "  \n",
    "  mse_cv <- cbind(1:ncol(X), rowMeans(mse))\n",
    "  colnames(mse_cv) <- c(\"M\", \"CV-MSE\")\n",
    "  \n",
    "  M <- match(min(mse_cv[,\"CV-MSE\"]), mse_cv[,\"CV-MSE\"])\n",
    "  pca_full_train <- prco(X)\n",
    "  cv_vectors <- pca_full_train$vectors[,1:M]\n",
    "  \n",
    "  Z <- cbind(rep(1, nrow(X)),X %*% cv_vectors)\n",
    "  beta_hat <- solve(t(Z)%*%Z) %*% t(Z) %*% Y\n",
    "  mse_train <- mean((Z %*% beta_hat - Y) ** 2)\n",
    "  \n",
    "  importance <- pca_full_train$importance[,1:M]\n",
    "  \n",
    "  return(list(mse_cv = mse_cv, mse_train = mse_train, beta_hat = beta_hat, M=M, cv_vectors=cv_vectors, importance=importance))\n",
    "}"
   ]
  },
  {
   "cell_type": "code",
   "execution_count": 11,
   "metadata": {},
   "outputs": [],
   "source": [
    "N <- 500\n",
    "p <- 20\n",
    "set.seed(3)\n",
    "X <- gen_x(N = N, sample(10:20, p, replace = T))\n",
    "X_train_d <- scale(X$X_train, center = T, scale = F)\n",
    "X_test_d <- scale(X$X_test, center = T, scale = F)\n",
    "\n",
    "y  <- gen_y(intercept=2, effects=c(5, 3), X_train = X$X_train, X_test = X$X_test, sigma_x=X$sigma, PC = c(1, 2),random = 0, eps_sd=4) \n",
    "\n",
    "y_train <- y$y_train\n",
    "y_test <- y$y_test\n",
    "\n",
    "pca <- prco(X_train_d)"
   ]
  },
  {
   "cell_type": "code",
   "execution_count": 12,
   "metadata": {},
   "outputs": [
    {
     "data": {
      "text/html": [
       "<table>\n",
       "<thead><tr><th></th><th scope=col>PC1</th><th scope=col>PC2</th><th scope=col>PC3</th><th scope=col>PC4</th><th scope=col>PC5</th><th scope=col>PC6</th><th scope=col>PC7</th><th scope=col>PC8</th><th scope=col>PC9</th><th scope=col>PC10</th><th scope=col>PC11</th><th scope=col>PC12</th><th scope=col>PC13</th><th scope=col>PC14</th><th scope=col>PC15</th><th scope=col>PC16</th><th scope=col>PC17</th><th scope=col>PC18</th><th scope=col>PC19</th><th scope=col>PC20</th></tr></thead>\n",
       "<tbody>\n",
       "\t<tr><th scope=row>Var (Eigenval.)</th><td>10.2389</td><td>7.8445 </td><td>7.1248 </td><td>5.7580 </td><td>5.2181 </td><td>4.0953 </td><td>3.7574 </td><td>2.0135 </td><td>1.8863 </td><td>1.4748 </td><td>1.3106 </td><td>1.0661 </td><td>0.6174 </td><td>0.5423 </td><td>0.3658 </td><td>0.2337 </td><td>0.2003 </td><td>0.0669 </td><td>0.0379 </td><td>0.0257 </td></tr>\n",
       "\t<tr><th scope=row>PVE</th><td> 0.1900</td><td>0.1456 </td><td>0.1322 </td><td>0.1069 </td><td>0.0968 </td><td>0.0760 </td><td>0.0697 </td><td>0.0374 </td><td>0.0350 </td><td>0.0274 </td><td>0.0243 </td><td>0.0198 </td><td>0.0115 </td><td>0.0101 </td><td>0.0068 </td><td>0.0043 </td><td>0.0037 </td><td>0.0012 </td><td>0.0007 </td><td>0.0005 </td></tr>\n",
       "\t<tr><th scope=row>cPVE</th><td> 0.1900</td><td>0.3356 </td><td>0.4679 </td><td>0.5747 </td><td>0.6716 </td><td>0.7476 </td><td>0.8173 </td><td>0.8547 </td><td>0.8897 </td><td>0.9171 </td><td>0.9414 </td><td>0.9612 </td><td>0.9727 </td><td>0.9827 </td><td>0.9895 </td><td>0.9939 </td><td>0.9976 </td><td>0.9988 </td><td>0.9995 </td><td>1.0000 </td></tr>\n",
       "</tbody>\n",
       "</table>\n"
      ],
      "text/latex": [
       "\\begin{tabular}{r|llllllllllllllllllll}\n",
       "  & PC1 & PC2 & PC3 & PC4 & PC5 & PC6 & PC7 & PC8 & PC9 & PC10 & PC11 & PC12 & PC13 & PC14 & PC15 & PC16 & PC17 & PC18 & PC19 & PC20\\\\\n",
       "\\hline\n",
       "\tVar (Eigenval.) & 10.2389 & 7.8445  & 7.1248  & 5.7580  & 5.2181  & 4.0953  & 3.7574  & 2.0135  & 1.8863  & 1.4748  & 1.3106  & 1.0661  & 0.6174  & 0.5423  & 0.3658  & 0.2337  & 0.2003  & 0.0669  & 0.0379  & 0.0257 \\\\\n",
       "\tPVE &  0.1900 & 0.1456  & 0.1322  & 0.1069  & 0.0968  & 0.0760  & 0.0697  & 0.0374  & 0.0350  & 0.0274  & 0.0243  & 0.0198  & 0.0115  & 0.0101  & 0.0068  & 0.0043  & 0.0037  & 0.0012  & 0.0007  & 0.0005 \\\\\n",
       "\tcPVE &  0.1900 & 0.3356  & 0.4679  & 0.5747  & 0.6716  & 0.7476  & 0.8173  & 0.8547  & 0.8897  & 0.9171  & 0.9414  & 0.9612  & 0.9727  & 0.9827  & 0.9895  & 0.9939  & 0.9976  & 0.9988  & 0.9995  & 1.0000 \\\\\n",
       "\\end{tabular}\n"
      ],
      "text/markdown": [
       "\n",
       "| <!--/--> | PC1 | PC2 | PC3 | PC4 | PC5 | PC6 | PC7 | PC8 | PC9 | PC10 | PC11 | PC12 | PC13 | PC14 | PC15 | PC16 | PC17 | PC18 | PC19 | PC20 |\n",
       "|---|---|---|---|---|---|---|---|---|---|---|---|---|---|---|---|---|---|---|---|---|\n",
       "| Var (Eigenval.) | 10.2389 | 7.8445  | 7.1248  | 5.7580  | 5.2181  | 4.0953  | 3.7574  | 2.0135  | 1.8863  | 1.4748  | 1.3106  | 1.0661  | 0.6174  | 0.5423  | 0.3658  | 0.2337  | 0.2003  | 0.0669  | 0.0379  | 0.0257  |\n",
       "| PVE |  0.1900 | 0.1456  | 0.1322  | 0.1069  | 0.0968  | 0.0760  | 0.0697  | 0.0374  | 0.0350  | 0.0274  | 0.0243  | 0.0198  | 0.0115  | 0.0101  | 0.0068  | 0.0043  | 0.0037  | 0.0012  | 0.0007  | 0.0005  |\n",
       "| cPVE |  0.1900 | 0.3356  | 0.4679  | 0.5747  | 0.6716  | 0.7476  | 0.8173  | 0.8547  | 0.8897  | 0.9171  | 0.9414  | 0.9612  | 0.9727  | 0.9827  | 0.9895  | 0.9939  | 0.9976  | 0.9988  | 0.9995  | 1.0000  |\n",
       "\n"
      ],
      "text/plain": [
       "                PC1     PC2    PC3    PC4    PC5    PC6    PC7    PC8    PC9   \n",
       "Var (Eigenval.) 10.2389 7.8445 7.1248 5.7580 5.2181 4.0953 3.7574 2.0135 1.8863\n",
       "PVE              0.1900 0.1456 0.1322 0.1069 0.0968 0.0760 0.0697 0.0374 0.0350\n",
       "cPVE             0.1900 0.3356 0.4679 0.5747 0.6716 0.7476 0.8173 0.8547 0.8897\n",
       "                PC10   PC11   PC12   PC13   PC14   PC15   PC16   PC17   PC18  \n",
       "Var (Eigenval.) 1.4748 1.3106 1.0661 0.6174 0.5423 0.3658 0.2337 0.2003 0.0669\n",
       "PVE             0.0274 0.0243 0.0198 0.0115 0.0101 0.0068 0.0043 0.0037 0.0012\n",
       "cPVE            0.9171 0.9414 0.9612 0.9727 0.9827 0.9895 0.9939 0.9976 0.9988\n",
       "                PC19   PC20  \n",
       "Var (Eigenval.) 0.0379 0.0257\n",
       "PVE             0.0007 0.0005\n",
       "cPVE            0.9995 1.0000"
      ]
     },
     "metadata": {},
     "output_type": "display_data"
    },
    {
     "name": "stdout",
     "output_type": "stream",
     "text": [
      "[1] \"Mean Eigenvalue (Variance)\"\n",
      "[1] 2.693905\n",
      "[1] \"0.7 * (Mean Eigenvalue)\"\n",
      "[1] 1.885733\n"
     ]
    },
    {
     "data": {
      "image/png": "[encoded data removed]",
      "text/plain": [
       "plot without title"
      ]
     },
     "metadata": {},
     "output_type": "display_data"
    }
   ],
   "source": [
    "PVE <- pca$importance[\"PVE\",]\n",
    "cPVE <- pca$importance[\"cPVE\",]\n",
    "PC <- 1:p\n",
    "\n",
    "p1 <- ggplot(data.frame(PC, PVE), aes(x = PC, y = PVE)) + \n",
    "      theme(plot.title = element_text(hjust = 0.5)) +\n",
    "      geom_point() + geom_line() + ylab(\"Proportion of Variance Explained (PVE)\") +\n",
    "      ggtitle(\"Scree Plot\") + scale_x_continuous(breaks = 1:p)\n",
    "\n",
    "p2 <- ggplot(data.frame(PC, cPVE), aes(x = PC, y = cPVE)) + \n",
    "      theme(plot.title = element_text(hjust = 0.5)) +\n",
    "      geom_point() + geom_line() + ylab(\"cum. Prop. of Variance Explained\") +\n",
    "      ggtitle(\"Cumulative Prop. of Variance Explained\") + scale_x_continuous(breaks = 1:p)\n",
    "\n",
    "plot_grid(p1, p2, align = \"h\", nrow = 1, rel_heights = c(1, 1))\n",
    "\n",
    "pca$importance\n",
    "print(\"Mean Eigenvalue (Variance)\")\n",
    "print(mean(pca$values))\n",
    "print(\"0.7 * (Mean Eigenvalue)\")\n",
    "print(0.7 * mean(pca$values))"
   ]
  },
  {
   "cell_type": "markdown",
   "metadata": {},
   "source": [
    "Keep the first XX PCs, yields about XX\\% of the total variance."
   ]
  },
  {
   "cell_type": "markdown",
   "metadata": {},
   "source": [
    "Using those ad-hoc rules, the decision would be done without any consideration of the outcome variable (\"unsupervised learning\"). As we are interested in predicting the outcome, a supervised learning technique would be, as described above, to choose the number of principal components to include based on Cross-Validation."
   ]
  },
  {
   "cell_type": "code",
   "execution_count": 13,
   "metadata": {},
   "outputs": [
    {
     "name": "stdout",
     "output_type": "stream",
     "text": [
      "[1] \"Number of Principal Components chosen by CV:\"\n"
     ]
    },
    {
     "data": {
      "text/html": [
       "7"
      ],
      "text/latex": [
       "7"
      ],
      "text/markdown": [
       "7"
      ],
      "text/plain": [
       "[1] 7"
      ]
     },
     "metadata": {},
     "output_type": "display_data"
    },
    {
     "data": {
      "text/html": [
       "<table>\n",
       "<thead><tr><th scope=col>M</th><th scope=col>CV-MSE</th></tr></thead>\n",
       "<tbody>\n",
       "\t<tr><td> 1      </td><td>76.87639</td></tr>\n",
       "\t<tr><td> 2      </td><td>26.67639</td></tr>\n",
       "\t<tr><td> 3      </td><td>20.86771</td></tr>\n",
       "\t<tr><td> 4      </td><td>18.26644</td></tr>\n",
       "\t<tr><td> 5      </td><td>18.05803</td></tr>\n",
       "\t<tr><td> 6      </td><td>17.74511</td></tr>\n",
       "\t<tr><td> 7      </td><td>17.43739</td></tr>\n",
       "\t<tr><td> 8      </td><td>17.58211</td></tr>\n",
       "\t<tr><td> 9      </td><td>17.67557</td></tr>\n",
       "\t<tr><td>10      </td><td>17.82422</td></tr>\n",
       "\t<tr><td>11      </td><td>17.94314</td></tr>\n",
       "\t<tr><td>12      </td><td>17.94498</td></tr>\n",
       "\t<tr><td>13      </td><td>18.06848</td></tr>\n",
       "\t<tr><td>14      </td><td>18.28188</td></tr>\n",
       "\t<tr><td>15      </td><td>18.32267</td></tr>\n",
       "\t<tr><td>16      </td><td>18.39550</td></tr>\n",
       "\t<tr><td>17      </td><td>18.48188</td></tr>\n",
       "\t<tr><td>18      </td><td>18.57943</td></tr>\n",
       "\t<tr><td>19      </td><td>18.62130</td></tr>\n",
       "\t<tr><td>20      </td><td>18.62953</td></tr>\n",
       "</tbody>\n",
       "</table>\n"
      ],
      "text/latex": [
       "\\begin{tabular}{ll}\n",
       " M & CV-MSE\\\\\n",
       "\\hline\n",
       "\t  1       & 76.87639\\\\\n",
       "\t  2       & 26.67639\\\\\n",
       "\t  3       & 20.86771\\\\\n",
       "\t  4       & 18.26644\\\\\n",
       "\t  5       & 18.05803\\\\\n",
       "\t  6       & 17.74511\\\\\n",
       "\t  7       & 17.43739\\\\\n",
       "\t  8       & 17.58211\\\\\n",
       "\t  9       & 17.67557\\\\\n",
       "\t 10       & 17.82422\\\\\n",
       "\t 11       & 17.94314\\\\\n",
       "\t 12       & 17.94498\\\\\n",
       "\t 13       & 18.06848\\\\\n",
       "\t 14       & 18.28188\\\\\n",
       "\t 15       & 18.32267\\\\\n",
       "\t 16       & 18.39550\\\\\n",
       "\t 17       & 18.48188\\\\\n",
       "\t 18       & 18.57943\\\\\n",
       "\t 19       & 18.62130\\\\\n",
       "\t 20       & 18.62953\\\\\n",
       "\\end{tabular}\n"
      ],
      "text/markdown": [
       "\n",
       "| M | CV-MSE |\n",
       "|---|---|\n",
       "|  1       | 76.87639 |\n",
       "|  2       | 26.67639 |\n",
       "|  3       | 20.86771 |\n",
       "|  4       | 18.26644 |\n",
       "|  5       | 18.05803 |\n",
       "|  6       | 17.74511 |\n",
       "|  7       | 17.43739 |\n",
       "|  8       | 17.58211 |\n",
       "|  9       | 17.67557 |\n",
       "| 10       | 17.82422 |\n",
       "| 11       | 17.94314 |\n",
       "| 12       | 17.94498 |\n",
       "| 13       | 18.06848 |\n",
       "| 14       | 18.28188 |\n",
       "| 15       | 18.32267 |\n",
       "| 16       | 18.39550 |\n",
       "| 17       | 18.48188 |\n",
       "| 18       | 18.57943 |\n",
       "| 19       | 18.62130 |\n",
       "| 20       | 18.62953 |\n",
       "\n"
      ],
      "text/plain": [
       "      M  CV-MSE  \n",
       " [1,]  1 76.87639\n",
       " [2,]  2 26.67639\n",
       " [3,]  3 20.86771\n",
       " [4,]  4 18.26644\n",
       " [5,]  5 18.05803\n",
       " [6,]  6 17.74511\n",
       " [7,]  7 17.43739\n",
       " [8,]  8 17.58211\n",
       " [9,]  9 17.67557\n",
       "[10,] 10 17.82422\n",
       "[11,] 11 17.94314\n",
       "[12,] 12 17.94498\n",
       "[13,] 13 18.06848\n",
       "[14,] 14 18.28188\n",
       "[15,] 15 18.32267\n",
       "[16,] 16 18.39550\n",
       "[17,] 17 18.48188\n",
       "[18,] 18 18.57943\n",
       "[19,] 19 18.62130\n",
       "[20,] 20 18.62953"
      ]
     },
     "metadata": {},
     "output_type": "display_data"
    }
   ],
   "source": [
    "my_pcr <- pcr_cv(X=X_train_d, Y=y_train, k=10)\n",
    "\n",
    "print(\"Number of Principal Components chosen by CV:\")\n",
    "my_pcr$M\n",
    "\n",
    "my_pcr$mse_cv\n"
   ]
  },
  {
   "cell_type": "code",
   "execution_count": 14,
   "metadata": {},
   "outputs": [
    {
     "name": "stderr",
     "output_type": "stream",
     "text": [
      "Warning message:\n",
      "\"package 'pls' was built under R version 3.6.3\"\n",
      "Attaching package: 'pls'\n",
      "\n",
      "The following object is masked from 'package:stats':\n",
      "\n",
      "    loadings\n",
      "\n"
     ]
    },
    {
     "data": {
      "text/html": [
       "<dl class=dl-horizontal>\n",
       "\t<dt>(Intercept)</dt>\n",
       "\t\t<dd>344.572380008311</dd>\n",
       "\t<dt>1 comps</dt>\n",
       "\t\t<dd>75.5433799181424</dd>\n",
       "\t<dt>2 comps</dt>\n",
       "\t\t<dd>26.7871169874408</dd>\n",
       "\t<dt>3 comps</dt>\n",
       "\t\t<dd>20.9902400087495</dd>\n",
       "\t<dt>4 comps</dt>\n",
       "\t\t<dd>18.0553525673167</dd>\n",
       "\t<dt>5 comps</dt>\n",
       "\t\t<dd>17.9166435720242</dd>\n",
       "\t<dt>6 comps</dt>\n",
       "\t\t<dd>17.4006234543775</dd>\n",
       "\t<dt>7 comps</dt>\n",
       "\t\t<dd>17.2325268746784</dd>\n",
       "\t<dt>8 comps</dt>\n",
       "\t\t<dd>17.3812977157894</dd>\n",
       "\t<dt>9 comps</dt>\n",
       "\t\t<dd>17.3957043547066</dd>\n",
       "\t<dt>10 comps</dt>\n",
       "\t\t<dd>17.4558005414742</dd>\n",
       "\t<dt>11 comps</dt>\n",
       "\t\t<dd>17.5238856471538</dd>\n",
       "\t<dt>12 comps</dt>\n",
       "\t\t<dd>17.5813164372651</dd>\n",
       "\t<dt>13 comps</dt>\n",
       "\t\t<dd>17.6111920659452</dd>\n",
       "\t<dt>14 comps</dt>\n",
       "\t\t<dd>17.7556459008436</dd>\n",
       "\t<dt>15 comps</dt>\n",
       "\t\t<dd>17.782317181319</dd>\n",
       "\t<dt>16 comps</dt>\n",
       "\t\t<dd>17.7928088920526</dd>\n",
       "\t<dt>17 comps</dt>\n",
       "\t\t<dd>17.8799193126638</dd>\n",
       "\t<dt>18 comps</dt>\n",
       "\t\t<dd>17.9328259656994</dd>\n",
       "\t<dt>19 comps</dt>\n",
       "\t\t<dd>17.9126857568891</dd>\n",
       "\t<dt>20 comps</dt>\n",
       "\t\t<dd>17.9016753775622</dd>\n",
       "</dl>\n"
      ],
      "text/latex": [
       "\\begin{description*}\n",
       "\\item[(Intercept)] 344.572380008311\n",
       "\\item[1 comps] 75.5433799181424\n",
       "\\item[2 comps] 26.7871169874408\n",
       "\\item[3 comps] 20.9902400087495\n",
       "\\item[4 comps] 18.0553525673167\n",
       "\\item[5 comps] 17.9166435720242\n",
       "\\item[6 comps] 17.4006234543775\n",
       "\\item[7 comps] 17.2325268746784\n",
       "\\item[8 comps] 17.3812977157894\n",
       "\\item[9 comps] 17.3957043547066\n",
       "\\item[10 comps] 17.4558005414742\n",
       "\\item[11 comps] 17.5238856471538\n",
       "\\item[12 comps] 17.5813164372651\n",
       "\\item[13 comps] 17.6111920659452\n",
       "\\item[14 comps] 17.7556459008436\n",
       "\\item[15 comps] 17.782317181319\n",
       "\\item[16 comps] 17.7928088920526\n",
       "\\item[17 comps] 17.8799193126638\n",
       "\\item[18 comps] 17.9328259656994\n",
       "\\item[19 comps] 17.9126857568891\n",
       "\\item[20 comps] 17.9016753775622\n",
       "\\end{description*}\n"
      ],
      "text/markdown": [
       "(Intercept)\n",
       ":   344.5723800083111 comps\n",
       ":   75.54337991814242 comps\n",
       ":   26.78711698744083 comps\n",
       ":   20.99024000874954 comps\n",
       ":   18.05535256731675 comps\n",
       ":   17.91664357202426 comps\n",
       ":   17.40062345437757 comps\n",
       ":   17.23252687467848 comps\n",
       ":   17.38129771578949 comps\n",
       ":   17.395704354706610 comps\n",
       ":   17.455800541474211 comps\n",
       ":   17.523885647153812 comps\n",
       ":   17.581316437265113 comps\n",
       ":   17.611192065945214 comps\n",
       ":   17.755645900843615 comps\n",
       ":   17.78231718131916 comps\n",
       ":   17.792808892052617 comps\n",
       ":   17.879919312663818 comps\n",
       ":   17.932825965699419 comps\n",
       ":   17.912685756889120 comps\n",
       ":   17.9016753775622\n",
       "\n"
      ],
      "text/plain": [
       "(Intercept)     1 comps     2 comps     3 comps     4 comps     5 comps \n",
       "  344.57238    75.54338    26.78712    20.99024    18.05535    17.91664 \n",
       "    6 comps     7 comps     8 comps     9 comps    10 comps    11 comps \n",
       "   17.40062    17.23253    17.38130    17.39570    17.45580    17.52389 \n",
       "   12 comps    13 comps    14 comps    15 comps    16 comps    17 comps \n",
       "   17.58132    17.61119    17.75565    17.78232    17.79281    17.87992 \n",
       "   18 comps    19 comps    20 comps \n",
       "   17.93283    17.91269    17.90168 "
      ]
     },
     "metadata": {},
     "output_type": "display_data"
    },
    {
     "name": "stdout",
     "output_type": "stream",
     "text": [
      "[1] \"Principal Components chosen by CV in pls package:\"\n",
      "7 comps \n",
      "      7 \n"
     ]
    }
   ],
   "source": [
    "library(pls)\n",
    "\n",
    "data <- cbind(y_train, X$X_train)\n",
    "colnames(data) <- c(\"y_train\", paste(\"X\", 1:p, sep=\"\"))\n",
    "df_train_pcr <- data.frame(data)\n",
    "pcr.fit <- pcr(y_train~., data=df_train_pcr, scale=F, center=T, validation=\"CV\")\n",
    "MSEP(pcr.fit)$val[1,,]\n",
    "M <- which.min(MSEP(pcr.fit)$val[1,,]) - 1\n",
    "\n",
    "print(\"Principal Components chosen by CV in pls package:\")\n",
    "print(M)"
   ]
  },
  {
   "cell_type": "markdown",
   "metadata": {},
   "source": [
    "My CV function seems to work quite ok, differences can be due to random effects in how CV is conducted\n",
    "\n",
    "Evaluate Performance on test data set"
   ]
  },
  {
   "cell_type": "code",
   "execution_count": 15,
   "metadata": {},
   "outputs": [
    {
     "name": "stdout",
     "output_type": "stream",
     "text": [
      "[1] \"Test-MSE of my PCR function\"\n"
     ]
    },
    {
     "data": {
      "text/html": [
       "18.5864689619207"
      ],
      "text/latex": [
       "18.5864689619207"
      ],
      "text/markdown": [
       "18.5864689619207"
      ],
      "text/plain": [
       "[1] 18.58647"
      ]
     },
     "metadata": {},
     "output_type": "display_data"
    },
    {
     "name": "stdout",
     "output_type": "stream",
     "text": [
      "[1] \"Test-MSE of the PCR function of the pls package:\"\n"
     ]
    },
    {
     "data": {
      "text/html": [
       "410.683938207108"
      ],
      "text/latex": [
       "410.683938207108"
      ],
      "text/markdown": [
       "410.683938207108"
      ],
      "text/plain": [
       "[1] 410.6839"
      ]
     },
     "metadata": {},
     "output_type": "display_data"
    },
    {
     "name": "stdout",
     "output_type": "stream",
     "text": [
      "[1] \"Test-MSE of OLS\"\n"
     ]
    },
    {
     "data": {
      "text/html": [
       "16.9268345609888"
      ],
      "text/latex": [
       "16.9268345609888"
      ],
      "text/markdown": [
       "16.9268345609888"
      ],
      "text/plain": [
       "[1] 16.92683"
      ]
     },
     "metadata": {},
     "output_type": "display_data"
    }
   ],
   "source": [
    "mse_test_pcr <- mean((cbind(rep(1, nrow(X_test_d)), X_test_d %*% my_pcr$cv_vectors) %*% my_pcr$beta_hat -y_test) ** 2)\n",
    "\n",
    "pcr.pred = predict(pcr.fit, X$X_test, ncomp = M)[1]\n",
    "mse_pcr_c <- mean((pcr.pred - y_test) ** 2)\n",
    "\n",
    "X_t <- cbind(rep(1, nrow(X$X_train)), X$X_train)\n",
    "beta_ols <- solve(t(X_t) %*% X_t) %*% t(X_t) %*% y_train\n",
    "mse_test_ols <- mean((cbind(rep(1, nrow(X$X_test)), X$X_test) %*% beta_ols - y_test)**2)\n",
    "\n",
    "print(\"Test-MSE of my PCR function\")\n",
    "mse_test_pcr\n",
    "print(\"Test-MSE of the PCR function of the pls package:\")\n",
    "mse_pcr_c\n",
    "print(\"Test-MSE of OLS\")\n",
    "mse_test_ols"
   ]
  },
  {
   "cell_type": "markdown",
   "metadata": {},
   "source": [
    "Test MSE of the package is implausibly high. Test MSE of my PCR is higher than OLS - not good. Why? Although DGP is based on only the first two principal components, actually the first 7 are selected using CV... "
   ]
  },
  {
   "cell_type": "code",
   "execution_count": 16,
   "metadata": {},
   "outputs": [],
   "source": [
    "\n",
    "sim_func <- function(N, P, intercept, effects, PC, random_effects, eps_sd, k) {\n",
    "  X <- gen_x(N = N, sample(10:20, size=P, replace = T))\n",
    "  X_train_d <- scale(X$X_train, center = T, scale = F)\n",
    "  X_test_d <- scale(X$X_test, center = T, scale = F)\n",
    "  \n",
    "  y  <- gen_y(intercept=intercept, effects=effects, PC = PC,random = random_effects, eps_sd=eps_sd, X_train = X$X_train, X_test = X$X_test, sigma_x=X$sigma) \n",
    "  y_train <- y$y_train\n",
    "  y_test <- y$y_test\n",
    "  \n",
    "  pcr <- pcr_cv(X=X_train_d, Y=y_train, k=k)\n",
    "  Z <- cbind(rep(1, nrow(X$X_test)),X_test_d  %*% pcr$cv_vectors)\n",
    "  mse_test_pcr <- mean((Z %*% pcr$beta_hat - y_test) ** 2)\n",
    "  \n",
    "  X_t <- cbind(rep(1, nrow(X$X_test)), X$X_train)\n",
    "  beta_ols <- solve(t(X_t) %*% X_t) %*% t(X_t) %*% y_train\n",
    "  mse_test_ols <- mean((cbind(rep(1, nrow(X$X_test)), X$X_test) %*% beta_ols - y_test) ** 2)\n",
    "  \n",
    "  return(list(mse_test_ols = mse_test_ols, mse_test_pcr = mse_test_pcr,  M = pcr$M))\n",
    "}"
   ]
  },
  {
   "cell_type": "code",
   "execution_count": null,
   "metadata": {},
   "outputs": [],
   "source": [
    "reps <- 50\n",
    "res <- matrix(NA, nrow=15, ncol=4)\n",
    "colnames(res) <- c(\"true M\", \"MSE_OLS\", \"MSE_PCR\", \"selected M\")\n",
    "reps <- 50\n",
    "\n",
    "for (m in 1:15) {\n",
    "  simulation <-\n",
    "    replicate(reps, sim_func(\n",
    "      N = 50, \n",
    "      P = 20, \n",
    "      intercept= 0, \n",
    "      effects = sample(5:10, size=m, replace=T), \n",
    "      PC = 1:m, \n",
    "      random_effects = 0, \n",
    "      eps_sd = 2, \n",
    "      k = 5))\n",
    "  \n",
    "  sim <-  mapply(simulation, FUN = as.numeric)\n",
    "  sim <- matrix(data = sim, ncol = reps)\n",
    "  mean_values <- rowMeans(sim)\n",
    "  \n",
    "  res[m, 1] <- m\n",
    "  res[m, 2] <- mean_values[1]\n",
    "  res[m, 3] <- mean_values[2]\n",
    "  res[m, 4] <- mean_values[3]\n",
    "  \n",
    "}\n",
    "\n",
    "print(res)"
   ]
  },
  {
   "cell_type": "markdown",
   "metadata": {},
   "source": [
    "## Asset Index as Empirical Application\n",
    "\n",
    "Motivation:\n",
    "\n",
    "- survey data collected in developing countries often does not contain information on hh's income or consumption expenditures\n",
    "    - see Demographic and Health Survey (DHS): conducted in broad range of developing countries, \"nationally-representative household surveys that provide data for a wide range of monitoring and impact evaluation indicators in the areas of population, health, and nutrition\", frequently used in development studies\n",
    "    - generally no information on income or expenditures, therefore a wealth index is constructed as \"a composite measure of a household's cumulative living standard\", \"using easy-to-collect data on a household's ownership of selected assets, such as televisions and bicycles; materials used for housing construction; and types of water access and sanitation facilities. \n",
    "    \n",
    "Aim:\n",
    "\n",
    "- Construct \"asset index\" to proxy for \"a household's long-run economic status\" (Filmer/Pritchett 2001)\n",
    "    - constructed usually from data on asset ownership or housing characteristics (e.g. Filmer/Pritchett 2001)\n",
    "    \n",
    "Choosing appropriate weights?\n",
    "\n",
    "- equal weights (simply sum over the variables in the case of Dummy variables) has the \"appeal of simplicity\" but this \"masks the fact that the imposition of numeric equality is completely arbitrary\" (Filmer/Pritchett 2001)\n",
    "- \"simply adding all asset variables separately in a linear regression would implicitly create weights\", but most assets may exert both an indirect (as a proxy of wealth) but also a direct effect, thus it is not possible to isolate the effect of an increase in wealth (Filmer/Pritchett 2001)\n",
    "\n",
    "Standardization of variables. Based on the index, build percentiles: bottom 40% poor, upper 20% rich\n",
    "\n",
    "Crucial assumption:\n",
    "\n",
    "- hh's \"long-run wealth explains the maximum variance (and covariance) in the asset variables\", \"no way to test this assumption directly\" (Filmer/Pritchett 2001)\n",
    "- \"internal/external coherence\" (Filmer/Pritchett 2001):\n",
    "    - internal coherence: \"poor\" should have lower mean of assets associated with high wealth and high means for assets associated with low wealth\n",
    "    - external coherence: comparison across Indian states using state-level poverty rates\n",
    "- compare with consumption expenditures, when both available in the survey (Filmer/Pritchett 2001)\n",
    "    \n",
    "    \n",
    "    \n",
    "\n",
    "Interpretation:\n",
    "\n",
    "- in case of dummy variables: change from 0 to 1\n",
    "\n",
    "Factor Analysis:\n",
    "\n",
    "- Filmer/Pritchett (2001): list FA as alternative approach and state that the ranks derived under both approaches has 0.988 Spearman rank correlation\n",
    "\n",
    "\n"
   ]
  },
  {
   "cell_type": "code",
   "execution_count": 18,
   "metadata": {},
   "outputs": [
    {
     "data": {
      "text/html": [
       "<table>\n",
       "<thead><tr><th scope=col>wealth1</th><th scope=col>taste1</th></tr></thead>\n",
       "<tbody>\n",
       "\t<tr><td>0</td><td>1</td></tr>\n",
       "\t<tr><td>0</td><td>1</td></tr>\n",
       "\t<tr><td>1</td><td>1</td></tr>\n",
       "\t<tr><td>1</td><td>1</td></tr>\n",
       "\t<tr><td>1</td><td>1</td></tr>\n",
       "\t<tr><td>1</td><td>1</td></tr>\n",
       "\t<tr><td>1</td><td>1</td></tr>\n",
       "\t<tr><td>1</td><td>1</td></tr>\n",
       "\t<tr><td>1</td><td>1</td></tr>\n",
       "\t<tr><td>1</td><td>1</td></tr>\n",
       "\t<tr><td>0</td><td>0</td></tr>\n",
       "\t<tr><td>0</td><td>0</td></tr>\n",
       "\t<tr><td>1</td><td>0</td></tr>\n",
       "\t<tr><td>1</td><td>0</td></tr>\n",
       "\t<tr><td>1</td><td>0</td></tr>\n",
       "\t<tr><td>1</td><td>0</td></tr>\n",
       "\t<tr><td>1</td><td>0</td></tr>\n",
       "\t<tr><td>1</td><td>0</td></tr>\n",
       "\t<tr><td>1</td><td>0</td></tr>\n",
       "\t<tr><td>1</td><td>0</td></tr>\n",
       "</tbody>\n",
       "</table>\n"
      ],
      "text/latex": [
       "\\begin{tabular}{r|ll}\n",
       " wealth1 & taste1\\\\\n",
       "\\hline\n",
       "\t 0 & 1\\\\\n",
       "\t 0 & 1\\\\\n",
       "\t 1 & 1\\\\\n",
       "\t 1 & 1\\\\\n",
       "\t 1 & 1\\\\\n",
       "\t 1 & 1\\\\\n",
       "\t 1 & 1\\\\\n",
       "\t 1 & 1\\\\\n",
       "\t 1 & 1\\\\\n",
       "\t 1 & 1\\\\\n",
       "\t 0 & 0\\\\\n",
       "\t 0 & 0\\\\\n",
       "\t 1 & 0\\\\\n",
       "\t 1 & 0\\\\\n",
       "\t 1 & 0\\\\\n",
       "\t 1 & 0\\\\\n",
       "\t 1 & 0\\\\\n",
       "\t 1 & 0\\\\\n",
       "\t 1 & 0\\\\\n",
       "\t 1 & 0\\\\\n",
       "\\end{tabular}\n"
      ],
      "text/markdown": [
       "\n",
       "| wealth1 | taste1 |\n",
       "|---|---|\n",
       "| 0 | 1 |\n",
       "| 0 | 1 |\n",
       "| 1 | 1 |\n",
       "| 1 | 1 |\n",
       "| 1 | 1 |\n",
       "| 1 | 1 |\n",
       "| 1 | 1 |\n",
       "| 1 | 1 |\n",
       "| 1 | 1 |\n",
       "| 1 | 1 |\n",
       "| 0 | 0 |\n",
       "| 0 | 0 |\n",
       "| 1 | 0 |\n",
       "| 1 | 0 |\n",
       "| 1 | 0 |\n",
       "| 1 | 0 |\n",
       "| 1 | 0 |\n",
       "| 1 | 0 |\n",
       "| 1 | 0 |\n",
       "| 1 | 0 |\n",
       "\n"
      ],
      "text/plain": [
       "   wealth1 taste1\n",
       "1  0       1     \n",
       "2  0       1     \n",
       "3  1       1     \n",
       "4  1       1     \n",
       "5  1       1     \n",
       "6  1       1     \n",
       "7  1       1     \n",
       "8  1       1     \n",
       "9  1       1     \n",
       "10 1       1     \n",
       "11 0       0     \n",
       "12 0       0     \n",
       "13 1       0     \n",
       "14 1       0     \n",
       "15 1       0     \n",
       "16 1       0     \n",
       "17 1       0     \n",
       "18 1       0     \n",
       "19 1       0     \n",
       "20 1       0     "
      ]
     },
     "metadata": {},
     "output_type": "display_data"
    }
   ],
   "source": [
    "taste1 <- c(rep(1, 10), rep(0, 10))\n",
    "wealth1 <- c(0, 0, rep(1, 8), 0, 0, rep(1, 8))\n",
    "sit1 <- cbind(wealth1, taste1)\n",
    "df1 <- as.data.frame(sit1)\n",
    "df1"
   ]
  },
  {
   "cell_type": "code",
   "execution_count": 19,
   "metadata": {},
   "outputs": [
    {
     "data": {
      "image/png": "[encoded data removed]",
      "text/plain": [
       "plot without title"
      ]
     },
     "metadata": {},
     "output_type": "display_data"
    }
   ],
   "source": [
    "library(ggplot2)\n",
    "ggplot(df1, aes(wealth1, taste1)) +\n",
    "  geom_point(position = position_jitter(w = 0.01, h = 0.01))"
   ]
  },
  {
   "cell_type": "code",
   "execution_count": 20,
   "metadata": {},
   "outputs": [
    {
     "data": {
      "text/html": [
       "<table>\n",
       "<thead><tr><th></th><th scope=col>wealth1</th><th scope=col>taste1</th></tr></thead>\n",
       "<tbody>\n",
       "\t<tr><th scope=row>wealth1</th><td>0.1684211</td><td>0.0000000</td></tr>\n",
       "\t<tr><th scope=row>taste1</th><td>0.0000000</td><td>0.2631579</td></tr>\n",
       "</tbody>\n",
       "</table>\n"
      ],
      "text/latex": [
       "\\begin{tabular}{r|ll}\n",
       "  & wealth1 & taste1\\\\\n",
       "\\hline\n",
       "\twealth1 & 0.1684211 & 0.0000000\\\\\n",
       "\ttaste1 & 0.0000000 & 0.2631579\\\\\n",
       "\\end{tabular}\n"
      ],
      "text/markdown": [
       "\n",
       "| <!--/--> | wealth1 | taste1 |\n",
       "|---|---|---|\n",
       "| wealth1 | 0.1684211 | 0.0000000 |\n",
       "| taste1 | 0.0000000 | 0.2631579 |\n",
       "\n"
      ],
      "text/plain": [
       "        wealth1   taste1   \n",
       "wealth1 0.1684211 0.0000000\n",
       "taste1  0.0000000 0.2631579"
      ]
     },
     "metadata": {},
     "output_type": "display_data"
    }
   ],
   "source": [
    "cov(sit1)"
   ]
  },
  {
   "cell_type": "code",
   "execution_count": 21,
   "metadata": {},
   "outputs": [
    {
     "data": {
      "text/plain": [
       "Standard deviations (1, .., p=2):\n",
       "[1] 0.5129892 0.4103913\n",
       "\n",
       "Rotation (n x k) = (2 x 2):\n",
       "        PC1 PC2\n",
       "wealth1   0   1\n",
       "taste1   -1   0"
      ]
     },
     "metadata": {},
     "output_type": "display_data"
    }
   ],
   "source": [
    "prcomp(sit1, center=TRUE)"
   ]
  },
  {
   "cell_type": "code",
   "execution_count": 22,
   "metadata": {},
   "outputs": [
    {
     "data": {
      "text/html": [
       "0.808"
      ],
      "text/latex": [
       "0.808"
      ],
      "text/markdown": [
       "0.808"
      ],
      "text/plain": [
       "[1] 0.808"
      ]
     },
     "metadata": {},
     "output_type": "display_data"
    }
   ],
   "source": [
    "draw_w <- runif(2000, min = 0, max = 1)\n",
    "w <- as.integer(draw_w > 4/20)\n",
    "mean(w)"
   ]
  },
  {
   "cell_type": "code",
   "execution_count": 23,
   "metadata": {},
   "outputs": [
    {
     "data": {
      "text/html": [
       "0.5"
      ],
      "text/latex": [
       "0.5"
      ],
      "text/markdown": [
       "0.5"
      ],
      "text/plain": [
       "[1] 0.5"
      ]
     },
     "metadata": {},
     "output_type": "display_data"
    }
   ],
   "source": [
    "draw_t <- runif(2000, min=0, max=1)\n",
    "t <- as.integer(draw_t > 0.5)\n",
    "mean(t)"
   ]
  },
  {
   "cell_type": "code",
   "execution_count": 24,
   "metadata": {},
   "outputs": [
    {
     "data": {
      "text/html": [
       "<table>\n",
       "<thead><tr><th></th><th scope=col>w</th><th scope=col>t</th></tr></thead>\n",
       "<tbody>\n",
       "\t<tr><th scope=row>w</th><td>0.155213607</td><td>0.002501251</td></tr>\n",
       "\t<tr><th scope=row>t</th><td>0.002501251</td><td>0.250125063</td></tr>\n",
       "</tbody>\n",
       "</table>\n"
      ],
      "text/latex": [
       "\\begin{tabular}{r|ll}\n",
       "  & w & t\\\\\n",
       "\\hline\n",
       "\tw & 0.155213607 & 0.002501251\\\\\n",
       "\tt & 0.002501251 & 0.250125063\\\\\n",
       "\\end{tabular}\n"
      ],
      "text/markdown": [
       "\n",
       "| <!--/--> | w | t |\n",
       "|---|---|---|\n",
       "| w | 0.155213607 | 0.002501251 |\n",
       "| t | 0.002501251 | 0.250125063 |\n",
       "\n"
      ],
      "text/plain": [
       "  w           t          \n",
       "w 0.155213607 0.002501251\n",
       "t 0.002501251 0.250125063"
      ]
     },
     "metadata": {},
     "output_type": "display_data"
    }
   ],
   "source": [
    "x <- cbind(w, t)\n",
    "cov(x)"
   ]
  },
  {
   "cell_type": "code",
   "execution_count": 25,
   "metadata": {},
   "outputs": [
    {
     "data": {
      "text/plain": [
       "Standard deviations (1, .., p=2):\n",
       "[1] 0.5001909 0.3938880\n",
       "\n",
       "Rotation (n x k) = (2 x 2):\n",
       "         PC1         PC2\n",
       "w 0.02632611 -0.99965341\n",
       "t 0.99965341  0.02632611"
      ]
     },
     "metadata": {},
     "output_type": "display_data"
    }
   ],
   "source": [
    "prcomp(x, center=TRUE)"
   ]
  },
  {
   "cell_type": "markdown",
   "metadata": {},
   "source": [
    "## Outline of the Empirical Setting\n",
    "\n",
    "Over the last two decades, economic research has increasingly emphasised the role of personality traits for labour market success. One personality traits that has especeially been indentified as crucial in this context is *locus of control* (loc). This concept captures  the extent to which an\n",
    "individual believes that her life can be shaped by her own actions and decisions (internal loc) or is instead contingent on outside factors beyond her control and thus on fate and luck (external loc). It stands to reason that a more internal loc may be positively associated with outcomes such as schooling and wages, as the individual feels a higher degree of control over her own course of life which may induce her to spend more effort. There is empirical evidence showing that an internal loc is predictive of wages even after controlling for education.\n",
    "\n",
    "The crucial aspect when trying to identify the relationship between loc and wages is measurement. Personality traits cannot directly be measured, they are latent variables. However, psychologists developed \n",
    "\n"
   ]
  },
  {
   "cell_type": "markdown",
   "metadata": {},
   "source": []
  },
  {
   "cell_type": "code",
   "execution_count": null,
   "metadata": {},
   "outputs": [],
   "source": []
  },
  {
   "cell_type": "markdown",
   "metadata": {},
   "source": [
    "## With Standardized Variables\n",
    "To begin with, it is common practice to standardize the explanatory variables. This is because of an undesirable feature that PCA has when units of measurement are changed for at least one explanatory variables. A change in the units of measurement of a variable also affects its variance - and as the principal components are constructed such that they capture the greatest possible variability of the original variables, it follows that the principal components would also change. The standardization is conducted as follows:\n",
    "\n",
    "$$ \\tilde{x}_{ij} = \\frac{x_{ij} - \\bar{x}_j}{s_j} \\text{,}$$\n",
    "\n",
    "where $\\bar{x}_j$ denotes the sample mean of the $j$th explanatory variable across the $N$ individuals and $s_j$ denotes the corresponding standard deviation. We are then interested in obtaining linear combinations $Z_1, \\dots, Z_M$ of the standardized variables, where $M \\leq P$. Those linear combinations are referred to as prinicpal components and they are ordered according to their variance in a descending fashion, thus the first principal component $Z_1$ is the linear combination of the standardized explanatory variables,\n",
    "\n",
    "$$ Z_1 = \\phi_{11} \\tilde{X}_1 + \\phi_{12} \\tilde{X}_2 + \\dots + \\phi_{1P} \\tilde{X}_P = \\sum_{j=1}^P \\phi_{1j} \\tilde{X}_j = \\tilde{\\pmb X} \\phi_1 \\, \\text{ ,}$$\n",
    "\n",
    "that yields the highest variance. The scalars $\\phi_{11}, \\phi_{12}, \\dots, \\phi_{1P}$ are referred to as *loadings* of the first principal component and $\\phi_1$ denotes the corresponding column vector $\\phi_1 = (\\phi_{11} \\, \\phi_{12}  \\, \\dots \\,  \\phi_{1P})^T$. \n",
    "\n",
    "To derive the actual loadings of the first principal component, we have to note that any such linear combination has its variance given by $Var(\\tilde{\\pmb X} \\phi)  = \\phi^T \\pmb S \\phi$, where $\\pmb S$ denotes the sample covariance matrix of the standardized variables (which, due to the standardization, is equivalent to the correlation matrix of the original explanatory variables). Thus, the vector $\\phi_1$ must be obtained, which maximises the quadratic form $\\phi^T \\pmb S \\phi$. To ensure a well-defined solution to this problem, $\\phi$ is required to be a unit-norm vector, i.e. $\\phi^T \\phi = 1$. Put together, the constraint maximisation problem can be written as \n",
    "\n",
    "$$\\max_{\\phi} \\phi^T \\pmb S \\phi - \\lambda (\\phi^T \\phi -1)$$\n",
    "\n",
    "Solving this problem yields:\n",
    "\n",
    "$$ \\pmb S \\phi - \\lambda \\phi = \\pmb 0 \\iff  \\pmb S \\phi = \\lambda \\phi$$\n",
    "\n",
    "Thus, $\\phi$ is an eigenvector of the covariance matrix $\\pmb S$ and $\\lambda$ the corresponding eigenvalue. Since we are interested in the linear combination with the largest variance  $Z_1$, the respective loadings vector $\\phi_1$ (i.e. the eigenvector) is identified by the largest eigenvalue $\\lambda_1$ as \n",
    "\n",
    "$$ Var(\\tilde{\\pmb X} \\phi)  = \\phi^T \\pmb S \\phi = \\lambda \\phi^T \\phi = \\lambda \\, \\text{ ,}$$\n",
    "\n",
    "using the solution of the maximisation problem. Note that this solution of the maximisation problem is unaffected if the eigenvectors $\\phi$ would be multiplied by (-1), so the actual signs of the loadings are meaningless - merely their respective magnitudes as well as their sign patterns matter. \n",
    "\n",
    "As $\\pmb S$ is a symmetric $P \\times P$ matrix, a total number of $P$ eigenvalues can be obtained. The corresponding eigenvectors $\\phi_k$ with $k=1, \\dots, P$ can be required to be orthogonal to each other, which is ensured when they satify $\\phi_{k}^T \\phi_{k'} = 1$ for $k=k'$ and zero otherwise. It can be shown that the remaining $2, \\dots, P$ linear combinations can be found as solutions to the problem of successively maximizing the variance subject to the constraint of uncorrelatedness with previously obtained linear combinations.\n",
    "\n",
    "In consequence, we are able to obtain $P$ linear combinations, i.e. principal components, of the $P$ standardized explanatory variables - and all of these linear combinations are uncorrelated. Further, they are arranged in descending order according to their variance, which implies that the variablility of the original variables is concentrated within the first couple of principal components. Dimensionality reduction now means, that not all of the principal components are used (otherwise no dimensionality reduction would have been achieved) but instead only the principal components up to $M < P$ are utilised. In a regression framework, this implies conducting Principal Component Regression (PCR): instead of regressing the outcome variable $Y$ on the original explanatory variables $\\pmb X$, we regress it on a number of principal components:\n",
    "\n",
    "$$ Y_i = \\gamma_0 + \\gamma_1 Z_{1i} + \\dots + \\gamma_M Z_{Mi} \\, \\text{ ,}$$\n",
    "\n",
    "The crucial assumption thereby is that the directions in which the (standardized) original variables have the most variability are also the directions that are associated with the outcome variable $Y$. The word \"direction\" is used as the vectors of principal component loadings, $\\phi$, characterise a direction in a multi-dimensional space. Given that this assumption holds, using only $M$ linear combinations that contain most of the original statistical information improves upon the overfitting problem if $M << P$. Referring back to the variance-bias trade-off, we accept that a small part of the original statistical information is not used (i.e. introducting bias) while achieving a reduction of the variance of our predictions when being applied to different data sets of the same kind which is likely to overcompensate for the introduced bias.  Further, interpretatibility of the model is increased as only a lower number of variables is included - which are also uncorrelated, so multicollinearity is no longer an issue.\n",
    "\n",
    "The questions remains, how many principal components should be included in the regression model. A helpful concept in this context is the *proportion of variance explained* (PVE). As already stated, we intend to reduce the dimensionality of the data while preserving as much as possible of the original variability. So the PVE states how much of the total variance, is captured by an individual principal component. As we standardized the explanatory variables, their variance is always equal to one, so the total variance is equal to $\\sum{j=1}{P} \\tilde{X}_j = P$. \n"
   ]
  },
  {
   "cell_type": "code",
   "execution_count": 26,
   "metadata": {},
   "outputs": [
    {
     "data": {
      "text/html": [
       "<table>\n",
       "<tbody>\n",
       "\t<tr><td>3.0</td><td>0.5</td></tr>\n",
       "\t<tr><td>0.5</td><td>2.0</td></tr>\n",
       "</tbody>\n",
       "</table>\n"
      ],
      "text/latex": [
       "\\begin{tabular}{ll}\n",
       "\t 3.0 & 0.5\\\\\n",
       "\t 0.5 & 2.0\\\\\n",
       "\\end{tabular}\n"
      ],
      "text/markdown": [
       "\n",
       "| 3.0 | 0.5 |\n",
       "| 0.5 | 2.0 |\n",
       "\n"
      ],
      "text/plain": [
       "     [,1] [,2]\n",
       "[1,] 3.0  0.5 \n",
       "[2,] 0.5  2.0 "
      ]
     },
     "metadata": {},
     "output_type": "display_data"
    },
    {
     "data": {
      "text/html": [
       "<table>\n",
       "<tbody>\n",
       "\t<tr><td> 3.012768784</td><td> 0.45441131 </td><td>-0.005107013</td></tr>\n",
       "\t<tr><td> 0.454411312</td><td> 1.93275691 </td><td>-0.048279994</td></tr>\n",
       "\t<tr><td>-0.005107013</td><td>-0.04827999 </td><td> 1.018541633</td></tr>\n",
       "</tbody>\n",
       "</table>\n"
      ],
      "text/latex": [
       "\\begin{tabular}{lll}\n",
       "\t  3.012768784 &  0.45441131  & -0.005107013\\\\\n",
       "\t  0.454411312 &  1.93275691  & -0.048279994\\\\\n",
       "\t -0.005107013 & -0.04827999  &  1.018541633\\\\\n",
       "\\end{tabular}\n"
      ],
      "text/markdown": [
       "\n",
       "|  3.012768784 |  0.45441131  | -0.005107013 |\n",
       "|  0.454411312 |  1.93275691  | -0.048279994 |\n",
       "| -0.005107013 | -0.04827999  |  1.018541633 |\n",
       "\n"
      ],
      "text/plain": [
       "     [,1]         [,2]        [,3]        \n",
       "[1,]  3.012768784  0.45441131 -0.005107013\n",
       "[2,]  0.454411312  1.93275691 -0.048279994\n",
       "[3,] -0.005107013 -0.04827999  1.018541633"
      ]
     },
     "metadata": {},
     "output_type": "display_data"
    },
    {
     "data": {
      "text/plain": [
       "Importance of components:\n",
       "                         PC1    PC2    PC3\n",
       "Standard deviation     1.783 1.3302 1.0079\n",
       "Proportion of Variance 0.533 0.2967 0.1703\n",
       "Cumulative Proportion  0.533 0.8297 1.0000"
      ]
     },
     "metadata": {},
     "output_type": "display_data"
    }
   ],
   "source": [
    "# Set up\n",
    "\n",
    "library(mvtnorm)\n",
    "\n",
    "sigma <- diag(seq(3, 2))\n",
    "sigma[2, 1] = 0.5\n",
    "sigma[1, 2] = 0.5\n",
    "sigma\n",
    "\n",
    "X <- rmvnorm(3000, rep(0, 2), sigma)\n",
    "X <- cbind(X, rnorm(3000))\n",
    "\n",
    "cov(X)\n",
    "summary(prcomp(X))"
   ]
  },
  {
   "cell_type": "code",
   "execution_count": 27,
   "metadata": {},
   "outputs": [
    {
     "data": {
      "text/html": [
       "<table>\n",
       "<tbody>\n",
       "\t<tr><td> 5.06953665</td><td>-0.05254272</td><td>-0.12774616</td><td>-0.11042395</td><td>-0.06478961</td></tr>\n",
       "\t<tr><td>-0.05254272</td><td> 4.16116633</td><td> 0.13416757</td><td> 0.12995139</td><td>-0.05227279</td></tr>\n",
       "\t<tr><td>-0.12774616</td><td> 0.13416757</td><td> 2.87919061</td><td> 0.07581436</td><td> 0.03986043</td></tr>\n",
       "\t<tr><td>-0.11042395</td><td> 0.12995139</td><td> 0.07581436</td><td> 2.01414017</td><td>-0.03951104</td></tr>\n",
       "\t<tr><td>-0.06478961</td><td>-0.05227279</td><td> 0.03986043</td><td>-0.03951104</td><td> 0.97085013</td></tr>\n",
       "</tbody>\n",
       "</table>\n"
      ],
      "text/latex": [
       "\\begin{tabular}{lllll}\n",
       "\t  5.06953665 & -0.05254272 & -0.12774616 & -0.11042395 & -0.06478961\\\\\n",
       "\t -0.05254272 &  4.16116633 &  0.13416757 &  0.12995139 & -0.05227279\\\\\n",
       "\t -0.12774616 &  0.13416757 &  2.87919061 &  0.07581436 &  0.03986043\\\\\n",
       "\t -0.11042395 &  0.12995139 &  0.07581436 &  2.01414017 & -0.03951104\\\\\n",
       "\t -0.06478961 & -0.05227279 &  0.03986043 & -0.03951104 &  0.97085013\\\\\n",
       "\\end{tabular}\n"
      ],
      "text/markdown": [
       "\n",
       "|  5.06953665 | -0.05254272 | -0.12774616 | -0.11042395 | -0.06478961 |\n",
       "| -0.05254272 |  4.16116633 |  0.13416757 |  0.12995139 | -0.05227279 |\n",
       "| -0.12774616 |  0.13416757 |  2.87919061 |  0.07581436 |  0.03986043 |\n",
       "| -0.11042395 |  0.12995139 |  0.07581436 |  2.01414017 | -0.03951104 |\n",
       "| -0.06478961 | -0.05227279 |  0.03986043 | -0.03951104 |  0.97085013 |\n",
       "\n"
      ],
      "text/plain": [
       "     [,1]        [,2]        [,3]        [,4]        [,5]       \n",
       "[1,]  5.06953665 -0.05254272 -0.12774616 -0.11042395 -0.06478961\n",
       "[2,] -0.05254272  4.16116633  0.13416757  0.12995139 -0.05227279\n",
       "[3,] -0.12774616  0.13416757  2.87919061  0.07581436  0.03986043\n",
       "[4,] -0.11042395  0.12995139  0.07581436  2.01414017 -0.03951104\n",
       "[5,] -0.06478961 -0.05227279  0.03986043 -0.03951104  0.97085013"
      ]
     },
     "metadata": {},
     "output_type": "display_data"
    },
    {
     "data": {
      "text/plain": [
       "Standard deviations (1, .., p=5):\n",
       "[1] 2.2554053 2.0448337 1.6921449 1.4176788 0.9831186\n",
       "\n",
       "Rotation (n x k) = (5 x 5):\n",
       "             PC1         PC2         PC3         PC4         PC5\n",
       "[1,] -0.99459500  0.07838311 -0.05859950  0.03060646  0.01631630\n",
       "[2,]  0.07024644  0.99004030  0.10633482 -0.05765699  0.01594456\n",
       "[3,]  0.06343909  0.09794736 -0.99021016 -0.07323910 -0.02239789\n",
       "[4,]  0.03996011  0.06151417 -0.06578054  0.99437675  0.03881995\n",
       "[5,]  0.01499669 -0.01728071 -0.02039016 -0.03987258  0.99873465"
      ]
     },
     "metadata": {},
     "output_type": "display_data"
    },
    {
     "data": {
      "text/plain": [
       "Importance of components:\n",
       "                          PC1    PC2    PC3   PC4     PC5\n",
       "Standard deviation     2.2554 2.0448 1.6921 1.418 0.98312\n",
       "Proportion of Variance 0.3367 0.2768 0.1895 0.133 0.06397\n",
       "Cumulative Proportion  0.3367 0.6135 0.8030 0.936 1.00000"
      ]
     },
     "metadata": {},
     "output_type": "display_data"
    }
   ],
   "source": [
    "test <- rmvnorm(2000, rep(0, 5), sigma=diag(5:1))\n",
    "cov(test)\n",
    "\n",
    "pca <- prcomp(test, center=FALSE)\n",
    "pca\n",
    "summary(pca)"
   ]
  },
  {
   "cell_type": "code",
   "execution_count": 28,
   "metadata": {},
   "outputs": [
    {
     "data": {
      "text/html": [
       "<table>\n",
       "<tbody>\n",
       "\t<tr><td> 1.00000000</td><td>-0.01143986</td><td>-0.03343709</td><td>-0.03455686</td><td>-0.02920419</td></tr>\n",
       "\t<tr><td>-0.01143986</td><td> 1.00000000</td><td> 0.03876188</td><td> 0.04488782</td><td>-0.02600711</td></tr>\n",
       "\t<tr><td>-0.03343709</td><td> 0.03876188</td><td> 1.00000000</td><td> 0.03148266</td><td> 0.02384134</td></tr>\n",
       "\t<tr><td>-0.03455686</td><td> 0.04488782</td><td> 0.03148266</td><td> 1.00000000</td><td>-0.02825515</td></tr>\n",
       "\t<tr><td>-0.02920419</td><td>-0.02600711</td><td> 0.02384134</td><td>-0.02825515</td><td> 1.00000000</td></tr>\n",
       "</tbody>\n",
       "</table>\n"
      ],
      "text/latex": [
       "\\begin{tabular}{lllll}\n",
       "\t  1.00000000 & -0.01143986 & -0.03343709 & -0.03455686 & -0.02920419\\\\\n",
       "\t -0.01143986 &  1.00000000 &  0.03876188 &  0.04488782 & -0.02600711\\\\\n",
       "\t -0.03343709 &  0.03876188 &  1.00000000 &  0.03148266 &  0.02384134\\\\\n",
       "\t -0.03455686 &  0.04488782 &  0.03148266 &  1.00000000 & -0.02825515\\\\\n",
       "\t -0.02920419 & -0.02600711 &  0.02384134 & -0.02825515 &  1.00000000\\\\\n",
       "\\end{tabular}\n"
      ],
      "text/markdown": [
       "\n",
       "|  1.00000000 | -0.01143986 | -0.03343709 | -0.03455686 | -0.02920419 |\n",
       "| -0.01143986 |  1.00000000 |  0.03876188 |  0.04488782 | -0.02600711 |\n",
       "| -0.03343709 |  0.03876188 |  1.00000000 |  0.03148266 |  0.02384134 |\n",
       "| -0.03455686 |  0.04488782 |  0.03148266 |  1.00000000 | -0.02825515 |\n",
       "| -0.02920419 | -0.02600711 |  0.02384134 | -0.02825515 |  1.00000000 |\n",
       "\n"
      ],
      "text/plain": [
       "     [,1]        [,2]        [,3]        [,4]        [,5]       \n",
       "[1,]  1.00000000 -0.01143986 -0.03343709 -0.03455686 -0.02920419\n",
       "[2,] -0.01143986  1.00000000  0.03876188  0.04488782 -0.02600711\n",
       "[3,] -0.03343709  0.03876188  1.00000000  0.03148266  0.02384134\n",
       "[4,] -0.03455686  0.04488782  0.03148266  1.00000000 -0.02825515\n",
       "[5,] -0.02920419 -0.02600711  0.02384134 -0.02825515  1.00000000"
      ]
     },
     "metadata": {},
     "output_type": "display_data"
    }
   ],
   "source": [
    "cov2cor(cov(test))"
   ]
  }
 ],
 "metadata": {
  "kernelspec": {
   "display_name": "R",
   "language": "R",
   "name": "ir"
  },
  "language_info": {
   "codemirror_mode": "r",
   "file_extension": ".r",
   "mimetype": "text/x-r-source",
   "name": "R",
   "pygments_lexer": "r",
   "version": "3.6.1"
  }
 },
 "nbformat": 4,
 "nbformat_minor": 4
}
