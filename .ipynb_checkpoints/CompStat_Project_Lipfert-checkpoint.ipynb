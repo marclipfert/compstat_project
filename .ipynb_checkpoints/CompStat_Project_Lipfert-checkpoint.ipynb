{
 "cells": [
  {
   "cell_type": "markdown",
   "metadata": {},
   "source": [
    "# Dimensionality Reduction Using Principal Component Analysis\n",
    "\n",
    "### A Project by Marc Lipfert, Matriculation Number: 3220513\n",
    "\n",
    "### Computational Statistics (Summer Semester 2020)"
   ]
  },
  {
   "cell_type": "markdown",
   "metadata": {},
   "source": [
    "## Table of Contents\n",
    "\n",
    "[1.) Introduction](#introduction)\n",
    "\n",
    "[2.) Dimensionality Reduction Using Principal Component Analysis (PCA)](#pca)\n",
    "\n",
    "$\\quad \\quad$  [Lab 1](#lab1)\n",
    "\n",
    "[3.) Empirical Application: The Construction of a Wealth Index](#application)\n",
    "\n",
    "$\\quad \\quad$  [Lab 2](#lab2)\n",
    "\n",
    "[4.) Conclusion](#fazit)\n",
    "\n",
    "[References](#refs)"
   ]
  },
  {
   "cell_type": "markdown",
   "metadata": {},
   "source": [
    "<a id='introduction'></a>\n",
    "## 1.) Introduction\n",
    "\n",
    "Empirical economists frequently work with extensive multivariate data sets. The high dimensionality of those data complicates their interpretation: A multitude of variables may go with a complex covariance structure or even multicollinearity. Principal Component Analysis (PCA) is a well-established method to reduce the dimensionality of such data sets while preserving as much as possible of the statistical information contained in the original variables. \n",
    "\n",
    "The first part of this project is intended to introduce PCA and its properties. It will be outlined why and how PCA is conducted. Further, special emphasis is put on how to incoporate principal components in a regression (Principal Component Regression, PCR). The theoretical remarks will be followed by a *Lab* in which empirical features and pitfalls will be illustrated. It will be demonstrated that dimensionality reduction using PCA does not come without a cost. In particular, the predictive performance of PCR may be inferior to that of OLS.\n",
    "\n",
    "The second part will focus on one particular application of PCA in the economic literature. Development economists are often interested in inferring the economic status of a household - either to use it as a control variable or to study the extent of economic inequality. Natural proxies such as data on household income or consumption expenditures are, unfortunately, frequently not elicited in surveys conducted in developing countries. Even if these data are collected, it may not be possible to use them due to extensive reporting errors. Nevertheless, those surveys often include information on asset ownership (e.g. owning a bicycle or a fridge) or variables capturing the materials used for housing construction or regarding the drinking water supply infrastructure. PCA can be employed to combine those variables into a *wealth index* which proxies for household economic status. Potential pitfalls and weaknesses of this approach will be discussed and illustrated in a simulation study which is part of the second *Lab* of this project."
   ]
  },
  {
   "cell_type": "markdown",
   "metadata": {},
   "source": [
    "<a id='pca'></a>\n",
    "## 2.) Dimensionality Reduction Using Principal Component Analysis (PCA)\n",
    "\n",
    "This section aims to introduce Principal Component Analysis (PCA) and thereby intends to answer the following questions: In which contexts is PCA a useful tool? What are its properties and how is it conducted? \n",
    "\n",
    "*(a) In which contexts is PCA a useful tool?*\n",
    "\n",
    "PCA is essentially a dimensionality reduction method. In the case of a data set with many variables (\"high dimensionality\"), an empirical model based on an extensive set of variables is usually difficult to interpret. Further, the predictive performance of such a model may be poor due to overfitting. Therefore, the aim is often to create a small(er) set of new variables which captures most of the statistical information contained in the original variables. PCA intends to achieve exactly this, where those newly generated variables are called *Principal Components* and which are linear combinations of the original variables. \n",
    "\n",
    "To illustrate in more detail what this means and why it is done, it is useful to fix ideas and draw on a formal framework. The set-up is intended to resemble a situation that is frequently encountered in microeconometrics. Assume that a survey is conducted among randomly selected individuals. The sample size is $N$ and the econometrician is interested in the relationship between the outcome $Y$ and a set of $P$ explanatory variables $X_1 , \\ldots , X_P$. The empirical model (structural equation) for an indivdidual $i$ is assumed to be as follows:\n",
    "\n",
    "$$ Y_i = \\beta_0 + \\beta_1 X_{i1} + \\ldots + \\beta_P X_{iP} + \\epsilon_i \\text{,} $$\n",
    "\n",
    "where $\\epsilon$ denotes an error term that is assumed to have a conditional expectation of zero: $E[\\epsilon | X] = 0$. Using matrix notation, $ \\pmb Y$ and $\\pmb \\epsilon$ denote column vectors each of length $N$ and $\\pmb X$ is a $N \\times (P + 1)$ matrix. Then, the re-written structural equation reads: \n",
    "\n",
    "$$ Y = \\pmb X \\beta + \\epsilon \\text{ , where } \\pmb X = \\begin{pmatrix} 1 & X_{11} & X_{12} & \\dots & X_{1P} \\\\\n",
    "1 & X_{21} & X_{22} & \\dots & X_{2P} \\\\ \\vdots & \\vdots & \\vdots & \\vdots & \\vdots \\\\ 1 & X_{N1} & X_{N2} & \\dots & X_{NP} \\end{pmatrix} \\text{ .}$$ \n",
    "\n",
    "The task of the econometrician is to find estimates $\\hat{\\beta}$ of the population parameters $\\beta$, usually obtained by minimizing the sum of squared residuals (i.e. OLS).  \n",
    "\n",
    "There are two problems that go along with high dimensional data, i.e. large $P$. First, when $N$ is only slightly larger than $P$, *overfitting* is likely to occur. In such a setting with a large number of explanatory variables relative to the sample size, the estimated coefficients of the explanatory variables might pick up on random noise rather than capturing the (\"true\") structural parameters. This can be viewed as an instance of the bias-variance trade-off: given standard assumptions, the numerous estimated coefficients would be unbiased but the variance of the obtained predictions would be large and thus highly dependent on the random sample that the model is fit on. Put differently, the estimated function $\\hat{f}$ with coefficients $ \\hat{\\beta}$ would yield poor predictions (or respectively, high prediction errors) when being applied to a different random sample of the population (\"test data set\").\n",
    "\n",
    "The second issue in the context of high dimensional data is the limited interpretability. Given the large number of explantory variables, a meaningful interpretation of the model may no longer be feasible. One might be inclined to interpret the estimated coefficients separately - but since high dimensionality can go along with large correlations among the explanatory variables, the issue of multicollinearity may render this approach useless as it cannot be pinned down which variable is truely predictive of the outcome.\n",
    "\n",
    "Dimensionality reduction can be employed to address those two issues. Principal Component Analysis (PCA) is one of the most common methods to achieve this. As already stated, it entails finding linear combinations of the explanatory variables that encapsulate as much of the statistical information (\"variability\") contained in the original variables as possible. The actual procedure is outlined in the following.\n",
    "\n",
    "*(b) What are the properties of PCA and how is it conducted?*\n",
    "\n",
    "To begin with, it is common practice to centre (or \"demean\") the explanatory variables, which is done as follows: \n",
    "\n",
    "$$ \\tilde{x}_{ij} = x_{ij} - \\bar{x}_j \\text{,}$$\n",
    "\n",
    "where $\\bar{x}_j$ denotes the sample mean of the $j$th explanatory variable across the $N$ individuals. Importantly, this does not alter the solution besides centring it at zero. Note that when the units of measurement differ across the explanatory variables, e.g. height in cm and temperature in degree Celsius, it is advisable to go even further and standardise the variables to mean zero and standard deviation of 1. This is because of an undesirable feature that PCA has, which is the sensitivity of the results to the units of measurement. A change in the units of measurement of a variable also affects its variance - and as the principal components are constructed such that they capture the greatest possible variability of the original variables, it follows that the principal components would change. This issue of standardisation will be picked up on in the following *Lab*.\n",
    "\n",
    "We are then interested in obtaining linear combinations $Z_1, \\dots, Z_M$ of the centred variables, where $M \\leq P$. Those linear combinations are referred to as prinicpal components and they are ordered according to their variance in a descending fashion, thus the first principal component $Z_1$ is the linear combination of the centred explanatory variables,\n",
    "\n",
    "$$ Z_1 = \\phi_{11} \\tilde{X}_1 + \\phi_{12} \\tilde{X}_2 + \\dots + \\phi_{1P} \\tilde{X}_P = \\sum_{j=1}^P \\phi_{1j} \\tilde{X}_j = \\tilde{\\pmb X} \\phi_1 \\, \\text{ ,}$$\n",
    "\n",
    "that yields the highest variance. The scalars $\\phi_{11}, \\phi_{12}, \\dots, \\phi_{1P}$ are referred to as *loadings* of the first principal component and $\\phi_1$ denotes the corresponding column vector $\\phi_1 = (\\phi_{11} \\, \\phi_{12}  \\, \\dots \\,  \\phi_{1P})^T$. \n",
    "\n",
    "To derive the actual loadings of the first principal component, we have to note that any such linear combination has its variance given by $Var(\\tilde{\\pmb X} \\phi)  = \\phi^T \\pmb S \\phi$, where $\\pmb S$ denotes the sample covariance matrix of the (centred) explanatory variables. Thus, the vector $\\phi_1$ must be obtained which maximises the quadratic form $\\phi^T \\pmb S \\phi$. To ensure a well-defined solution to this problem, $\\phi$ is required to be a unit-norm vector, i.e. $\\phi^T \\phi = 1$. Put together, the constrained maximisation problem can be written as \n",
    "\n",
    "$$\\max_{\\phi} \\phi^T \\pmb S \\phi - \\lambda (\\phi^T \\phi -1) \\text{  .}$$\n",
    "\n",
    "Solving this problem yields:\n",
    "\n",
    "$$ \\pmb S \\phi - \\lambda \\phi = \\pmb 0 \\iff  \\pmb S \\phi = \\lambda \\phi \\text{  .}$$\n",
    "\n",
    "Thus, $\\phi$ is an eigenvector of the covariance matrix $\\pmb S$ and the scalar $\\lambda$ denotes the corresponding eigenvalue. Since we are interested in the linear combination with the largest variance  $Z_1$, the respective loadings vector $\\phi_1$ (i.e. the eigenvector) is identified by the largest eigenvalue $\\lambda_1$ as \n",
    "\n",
    "$$ Var(\\tilde{\\pmb X} \\phi)  = \\phi^T \\pmb S \\phi = \\lambda \\phi^T \\phi = \\lambda \\, \\text{ ,}$$\n",
    "\n",
    "using the solution of the maximisation problem. Note that this solution of the maximisation problem is unaffected if the eigenvectors $\\phi$ is multiplied by $(-1)$, so the actual signs of the loadings are meaningless - merely their respective magnitudes as well as their sign patterns matter. \n",
    "\n",
    "As $\\pmb S$ is a symmetric $P \\times P$ matrix, a total number of $P$ eigenvalues can be obtained. The corresponding eigenvectors $\\phi_j$ with $j=1, \\dots, P$ can be required to be orthogonal to each other, which is ensured when they satify $\\phi_{j}^T \\phi_{j\\,'} = 1$ for $j=j\\,'$ and zero otherwise. It can be shown that the remaining $2, \\dots, P$ linear combinations can be found as solutions to the problem of successively maximizing the variance subject to the constraint of uncorrelatedness with previously obtained linear combinations.\n",
    "\n",
    "In consequence, we are able to obtain $P$ linear combinations, i.e. principal components, of the $P$ centred explanatory variables - and all of these linear combinations are uncorrelated. Further, they are arranged in descending order according to their variance, which implies that the variablility of the original variables is more concentrated within the first couple of principal components. Dimensionality reduction now means that not all of the principal components are used (otherwise no dimensionality reduction would have been achieved) but instead only the principal components up to $M < P$ are utilised. In a regression framework, this implies conducting Principal Component Regression (PCR): instead of regressing the outcome variable $Y$ on the original explanatory variables $\\pmb X$, we regress it on the principal components $Z_1,\\dots,Z_M$:\n",
    "\n",
    "$$ Y_i = \\gamma_0 + \\gamma_1 Z_{i1} + \\dots + \\gamma_M Z_{iM} \\, \\text{ ,}$$\n",
    "\n",
    "The crucial assumption thereby is that the directions in which the (centred) original variables have the most variability are also the directions that are associated with the outcome variable $Y$. The word \"direction\" is used as the vectors of principal component loadings, $\\phi$, characterise a direction in a multi-dimensional space. Given that this assumption holds, using only $M$ linear combinations that contain most of the original statistical information improves upon the overfitting problem if $M << P$. Referring back to the variance-bias trade-off, we accept that a small part of the original statistical information is not used (i.e. introducting bias) while achieving a reduction of the variance of our predictions when being applied to a new random sample (test data set) which is likely to overcompensate for the introduced bias.  Further, interpretatibility of the model is increased as only a lower number of variables is included - which are also uncorrelated, so multicollinearity is no longer an issue.\n",
    "\n",
    "The questions remains, how many principal components should be included in the regression model. A helpful concept in this context is the *Proportion of Variance Explained* (PVE). We intend to reduce the dimensionality of the data while preserving as much as possible of the original variability. So the PVE states how much of the total variance is captured by an individual principal component. As the explanatory variables are centred, the total variability is calculated as follows:\n",
    "\n",
    "$$ \\sum_{j=1}^{P} Var(\\tilde{X}_j) = \\sum_{j=1}^{P} \\frac{1}{N}\\sum_{i=1}^{N} \\tilde{x}_{ij}^2 \\text{ .}$$\n",
    "\n",
    "Further, the variance attributable to the $m$th principal component is \n",
    "\n",
    "$$ \\frac{1}{N} \\sum_{i=1}^{N} z_{im}^2 = \\frac{1}{N} \\sum_{i=1}^{N} (\\sum_{j=1}^{P} \\phi_{mj} \\tilde{x}_{ij})^2 \\text{ .}$$\n",
    "\n",
    "Hence, the the proportion of total variance explained by the principal component $m$ is given by:\n",
    "\n",
    "$$ \\frac{\\sum_{i=1}^{N} (\\sum_{j=1}^{P} \\phi_{mj} \\tilde{x}_{ij})^2}{\\sum_{j=1}^{P} \\sum_{i=1}^{N} \\tilde{x}_{ij}^2} \\text{ .}$$\n",
    "\n",
    "Each PVE of the individual principal components is a positive number that lies between 0 and 1. In order to obtain the *cumulative PVE* up to prinipal component $M$, this would simply be the sum over the PVE of components $1, \\dots, M$. Both, the PVE and the cumulative are often visualized, where especially plotting the former against the number of principal components receives particular attention and is know as a \"Scree Plot\" (an example will be presented later).\n",
    "\n",
    "To pin down the number of principal components to include in a PCR, a number of rather *ad-hoc* decision rules have been proposed. For instance, choosing only as many principal components as to explain a sizeable fraction of the total variance has been suggested. While it is of course context-dependent, which actual cut-off with respect to the cumulative PVE is appropriate, requiring the principal components to explain at least 70-90\\% of the total variance can be seen as common practice (see Jolliffe, 2002, 112-113). A more visual approach would be to analyse the Scree Plot with the PVE on the y-axis and the number of principal components on the x-axis. By eyeballing one would identify the last principal component after which the PVE of the following ones drops off, which is sometimes referred to as an *elbow* (Hastie/Tibshirani, 2013, 384). A last example of those rather ad-hoc decision rules would be to keep those principal components with a corresponding eigenvalue $\\lambda$ that is larger than the average eigenvalue $\\bar{\\lambda}$, or only larger than $0.7 \\bar{\\lambda}$ (Jolliffe, 2002, 115).\n",
    "\n",
    "A more systematic and, as some would argue, more objective way to identify the number of principal components to include is to choose them via *Cross-Validation*. Our aim is to identify an empirical model which is able to explain $Y$ well. Thus, a well fitted model should be able to give good predictions of the outcome when being applied to different data that is likewise randomly drawn from the population. Overfitting is a potential issue which could lead to a situation in which the model is able to predict $Y$ well on a data set the model was trained on, but does poorly in predicting the outcome when using a test data set. One way to achieve good predictive performance on test data is to use Cross-Validation (CV). Then, the available data is randomly split into $k$ folds, commonly $k = 10$. Initially, the first fold is kept as a validation set, and the model is fit on the rest of the data, i.e. on the other $(k-1)$ folds. The quality of the estimated model $\\hat{f}$ is evaluated on the held-out fold and the corresponding prediction error is calculated as the mean squared error (MSE). This procedure is repeated $k$ times, always keeping another fold as the validation set. The $k$-fold Cross-Validation estimate of the MSE is then simply the average of the obtained measures of the prediction errors: $MSE_1, \\dots, MSE_k$. Referring back to the problem of selecting the appropriate number of principal components, the number would be chosen in order to achieve the lowest CV MSE."
   ]
  },
  {
   "cell_type": "markdown",
   "metadata": {},
   "source": [
    "<a id='lab1'></a>\n",
    "## Lab 1\n",
    "### Visualisation of the General Approach\n"
   ]
  },
  {
   "cell_type": "markdown",
   "metadata": {},
   "source": [
    "The PCA approach is best described when starting with low-dimensional data, such as $P = 2$, as this can easily be visualised. For this purpose, data is drawn from a bivariate normal distribution in which the data generating process features both variables to have differing variances. Further, they have a positive covariance. The centred data as well as the two principal components are presented in the following graph."
   ]
  },
  {
   "cell_type": "code",
   "execution_count": 1,
   "metadata": {},
   "outputs": [
    {
     "name": "stderr",
     "output_type": "stream",
     "text": [
      "Warning message:\n",
      "\"package 'mvtnorm' was built under R version 3.6.2\"Warning message:\n",
      "\"package 'ggplot2' was built under R version 3.6.3\"Warning message:\n",
      "\"package 'gridExtra' was built under R version 3.6.3\"Warning message:\n",
      "\"package 'cowplot' was built under R version 3.6.3\"\n",
      "********************************************************\n",
      "Note: As of version 1.0.0, cowplot does not change the\n",
      "  default ggplot2 theme anymore. To recover the previous\n",
      "  behavior, execute:\n",
      "  theme_set(theme_cowplot())\n",
      "********************************************************\n",
      "\n",
      "Warning message:\n",
      "\"package 'pracma' was built under R version 3.6.3\"Warning message:\n",
      "\"package 'tidyr' was built under R version 3.6.3\""
     ]
    }
   ],
   "source": [
    "library(mvtnorm)\n",
    "library(ggplot2)\n",
    "library(gridExtra)\n",
    "library(cowplot)\n",
    "library(pracma)\n",
    "library(tidyr)"
   ]
  },
  {
   "cell_type": "code",
   "execution_count": 2,
   "metadata": {},
   "outputs": [],
   "source": [
    "prco <- function(X) {\n",
    "    cov <- cov(X)\n",
    "    p <- dim(cov)[1]\n",
    "    \n",
    "    pca <- eigen(cov)\n",
    "    colnames(pca$vectors) <- paste(\"PC\", 1:p, sep=\"\")\n",
    "    rownames(pca$vectors) <- paste(\"X\", 1:p, sep=\"\")\n",
    "    \n",
    "    PVE <- pca$values / sum(apply(X, 2, var))\n",
    "    cPVE <- cumsum(PVE)\n",
    "    importance <- round(rbind(pca$values, PVE, cPVE), 4)\n",
    "    rownames(importance)[1] <- \"Var (Eigenval.)\"\n",
    "    colnames(importance) <- paste(\"PC\", 1:p, sep=\"\")\n",
    "    \n",
    "    vars <- cbind(paste(\"PC\", 1:p, sep=\"\"), pca$values)\n",
    "    colnames(vars) <- c(\"PC\", \"var\")\n",
    "    df_vars <- data.frame(vars)\n",
    "    df_vars$var <- as.numeric(as.character(df_vars$var))\n",
    "    \n",
    "    return(list(values=pca$values, vectors=pca$vectors, df_vars = df_vars, importance=importance))\n",
    "}"
   ]
  },
  {
   "cell_type": "code",
   "execution_count": 3,
   "metadata": {},
   "outputs": [
    {
     "data": {
      "image/png": "[encoded data removed]",
      "text/plain": [
       "plot without title"
      ]
     },
     "metadata": {},
     "output_type": "display_data"
    }
   ],
   "source": [
    "# Bivariate Normal Distribution\n",
    "set.seed(1234)\n",
    "\n",
    "N <- 200\n",
    "sigma <- matrix(c(5, 6, 6, 12), byrow = T, nrow = 2)\n",
    "mu <- c(5, 15)\n",
    "\n",
    "X <- rmvnorm(N, mean = mu, sigma = sigma)\n",
    "colnames(X) <- c(\"X1\", \"X2\")\n",
    "X_demeaned <- scale(X, center=T, scale = F)\n",
    "\n",
    "df_demeaned <- as.data.frame(X_demeaned)\n",
    "\n",
    "pca <- prco(X_demeaned)\n",
    "\n",
    "p1 <-   ggplot(df_demeaned, aes(X1, X2)) + \n",
    "        xlim(-10, 10) +\n",
    "        geom_point() + \n",
    "        geom_abline(aes(slope = pca$vectors[2, 1] / pca$vectors[1, 1], intercept = 0, colour=\"PC1\")) + \n",
    "        geom_abline(aes(slope = pca$vectors[2, 2] / pca$vectors[1, 2], intercept = 0, colour=\"PC2\")) +\n",
    "        theme(plot.title = element_text(hjust = 0.5)) +\n",
    "        labs(color = \"\") + xlab(\"X1 (demeaned)\") + ylab(\"X2 (demeaned)\") +\n",
    "        scale_color_manual(values = c(\"PC1\" = \"red\", \"PC2\" = \"blue\")) +\n",
    "        ggtitle(\"Visualisation of Principal Components\") +\n",
    "        coord_fixed()\n",
    "options(repr.plot.width=5, repr.plot.height=4)\n",
    "p1"
   ]
  },
  {
   "cell_type": "markdown",
   "metadata": {},
   "source": [
    "The positive covariance of the data can be spotted as the point cloud has an upward slope. Since the first principal component is by definition the linear combination of the two variables which captures as much of their variability as possible, it also has a positive slope, thereby capturing the co-movement. The first principal component, depicted in the graph by the red line, has the property that it is the line which minimises the sum of the squared perpendicular distances between the data points and the line. The second principal component (blue line), by construction, must be orthogonal to the first one. Thus, in the two-dimension space, it is perpendicular to the first one. As can already been seen from the graph, the variability in the direction of the first principal component is in this case distinctly larger than the one in the direction of the second one. \n",
    "\n",
    "The numerical values of the principal component loadings are presented below. The first principal component assigns more weight to the second variable X2 than to the first variable X1 (0.86 vs. 0.5), as the former is also the one with a higher variance (see sample covariance matrix below). And indeed, the first principal component captures far more of the total variability than the second one: about 92\\% of the total variability is explained by it and only around 8\\% by the second component."
   ]
  },
  {
   "cell_type": "code",
   "execution_count": 4,
   "metadata": {},
   "outputs": [
    {
     "name": "stdout",
     "output_type": "stream",
     "text": [
      "[1] \"Sample Covariance Matrix:\"\n"
     ]
    },
    {
     "data": {
      "text/html": [
       "<table>\n",
       "<thead><tr><th></th><th scope=col>X1</th><th scope=col>X2</th></tr></thead>\n",
       "<tbody>\n",
       "\t<tr><th scope=row>X1</th><td>5.3894 </td><td> 6.6935</td></tr>\n",
       "\t<tr><th scope=row>X2</th><td>6.6935 </td><td>13.0390</td></tr>\n",
       "</tbody>\n",
       "</table>\n"
      ],
      "text/latex": [
       "\\begin{tabular}{r|ll}\n",
       "  & X1 & X2\\\\\n",
       "\\hline\n",
       "\tX1 & 5.3894  &  6.6935\\\\\n",
       "\tX2 & 6.6935  & 13.0390\\\\\n",
       "\\end{tabular}\n"
      ],
      "text/markdown": [
       "\n",
       "| <!--/--> | X1 | X2 |\n",
       "|---|---|---|\n",
       "| X1 | 5.3894  |  6.6935 |\n",
       "| X2 | 6.6935  | 13.0390 |\n",
       "\n"
      ],
      "text/plain": [
       "   X1     X2     \n",
       "X1 5.3894  6.6935\n",
       "X2 6.6935 13.0390"
      ]
     },
     "metadata": {},
     "output_type": "display_data"
    },
    {
     "name": "stdout",
     "output_type": "stream",
     "text": [
      "[1] \"Principal Components:\"\n"
     ]
    },
    {
     "data": {
      "text/html": [
       "<table>\n",
       "<thead><tr><th></th><th scope=col>PC1</th><th scope=col>PC2</th></tr></thead>\n",
       "<tbody>\n",
       "\t<tr><th scope=row>X1</th><td>0.5019 </td><td>-0.8649</td></tr>\n",
       "\t<tr><th scope=row>X2</th><td>0.8649 </td><td> 0.5019</td></tr>\n",
       "</tbody>\n",
       "</table>\n"
      ],
      "text/latex": [
       "\\begin{tabular}{r|ll}\n",
       "  & PC1 & PC2\\\\\n",
       "\\hline\n",
       "\tX1 & 0.5019  & -0.8649\\\\\n",
       "\tX2 & 0.8649  &  0.5019\\\\\n",
       "\\end{tabular}\n"
      ],
      "text/markdown": [
       "\n",
       "| <!--/--> | PC1 | PC2 |\n",
       "|---|---|---|\n",
       "| X1 | 0.5019  | -0.8649 |\n",
       "| X2 | 0.8649  |  0.5019 |\n",
       "\n"
      ],
      "text/plain": [
       "   PC1    PC2    \n",
       "X1 0.5019 -0.8649\n",
       "X2 0.8649  0.5019"
      ]
     },
     "metadata": {},
     "output_type": "display_data"
    },
    {
     "name": "stdout",
     "output_type": "stream",
     "text": [
      "[1] \"Importance of Components:\"\n"
     ]
    },
    {
     "data": {
      "text/html": [
       "<table>\n",
       "<thead><tr><th></th><th scope=col>PC1</th><th scope=col>PC2</th></tr></thead>\n",
       "<tbody>\n",
       "\t<tr><th scope=row>Var (Eigenval.)</th><td>16.9235</td><td>1.5050 </td></tr>\n",
       "\t<tr><th scope=row>PVE</th><td> 0.9183</td><td>0.0817 </td></tr>\n",
       "\t<tr><th scope=row>cPVE</th><td> 0.9183</td><td>1.0000 </td></tr>\n",
       "</tbody>\n",
       "</table>\n"
      ],
      "text/latex": [
       "\\begin{tabular}{r|ll}\n",
       "  & PC1 & PC2\\\\\n",
       "\\hline\n",
       "\tVar (Eigenval.) & 16.9235 & 1.5050 \\\\\n",
       "\tPVE &  0.9183 & 0.0817 \\\\\n",
       "\tcPVE &  0.9183 & 1.0000 \\\\\n",
       "\\end{tabular}\n"
      ],
      "text/markdown": [
       "\n",
       "| <!--/--> | PC1 | PC2 |\n",
       "|---|---|---|\n",
       "| Var (Eigenval.) | 16.9235 | 1.5050  |\n",
       "| PVE |  0.9183 | 0.0817  |\n",
       "| cPVE |  0.9183 | 1.0000  |\n",
       "\n"
      ],
      "text/plain": [
       "                PC1     PC2   \n",
       "Var (Eigenval.) 16.9235 1.5050\n",
       "PVE              0.9183 0.0817\n",
       "cPVE             0.9183 1.0000"
      ]
     },
     "metadata": {},
     "output_type": "display_data"
    },
    {
     "data": {
      "image/png": "[encoded data removed]",
      "text/plain": [
       "plot without title"
      ]
     },
     "metadata": {},
     "output_type": "display_data"
    }
   ],
   "source": [
    "print(\"Sample Covariance Matrix:\")\n",
    "# Sample cov is invariant to demeaning\n",
    "round(cov(df_demeaned), 4)\n",
    "\n",
    "print(\"Principal Components:\")\n",
    "round(pca$vectors, 4)\n",
    "\n",
    "print(\"Importance of Components:\")\n",
    "pca$importance\n",
    "\n",
    "options(repr.plot.width=4, repr.plot.height=4)\n",
    "ggplot(data = pca$df_vars, aes(x=PC, y=var)) +\n",
    "    geom_bar(stat=\"identity\", fill=\"green\") + ylab(\"Variance (Eigenvalue)\")"
   ]
  },
  {
   "cell_type": "markdown",
   "metadata": {},
   "source": [
    "### Standardisation\n"
   ]
  },
  {
   "cell_type": "markdown",
   "metadata": {},
   "source": [
    "In the following, it shall be demonstrated that PCA with standardised data indeed leads to different principal components than when using data that is merely demeaned. The following plot shows the demeaned data from before on the left side and the standardised version of the same underlying data on the right. As one can see, the slope of the principal components differ across panels. The first principal component with demeaned data assigned more weight to the second variable X2, which is captured by the corresponding red line having a slope larger than one. With standardised data, the first principal component has identical factor loadings for the two variables as the differences in variance across the variables are now levelled.\n",
    "\n",
    "This is because standardisation alters the covariance matrix while demeaning leaves is unaffected. Since the principal components are obtained as the eigenvectors of the covariance matrix, they then also differ. The covariance matrix of the standardised data is in fact the correlation matrix of the underlying data. "
   ]
  },
  {
   "cell_type": "code",
   "execution_count": 5,
   "metadata": {},
   "outputs": [
    {
     "data": {
      "image/png": "[encoded data removed]",
      "text/plain": [
       "plot without title"
      ]
     },
     "metadata": {},
     "output_type": "display_data"
    }
   ],
   "source": [
    "X_std <- scale(X, center = T, scale = T)\n",
    "df_std <- as.data.frame(X_std)\n",
    "pca_std <- prco(X_std)\n",
    "\n",
    "p2 <-   ggplot(df_std, aes(X1, X2)) + \n",
    "        geom_point() + \n",
    "        geom_abline(aes(slope = pca_std$vectors[2, 1] / pca_std$vectors[1, 1], intercept = 0, colour=\"PC1\")) + \n",
    "        geom_abline(aes(slope = pca_std$vectors[2, 2] / pca_std$vectors[1, 2], intercept = 0, colour=\"PC2\")) +\n",
    "        theme(plot.title = element_text(hjust = 0.5)) +\n",
    "        labs(color = \"\") + xlab(\"X1 (stand.)\") + ylab(\"X2 (stand.)\") +\n",
    "        scale_color_manual(values = c(\"PC1\" = \"red\", \"PC2\" = \"blue\")) +\n",
    "        ggtitle(\"PCA with standardised data\") +\n",
    "        coord_fixed()\n",
    "\n",
    "p1 <- p1 + ggtitle(\"PCA with demeaned data\")\n",
    "\n",
    "options(repr.plot.width=10, repr.plot.height=8)\n",
    "grid.arrange(p1, p2, nrow=1)"
   ]
  },
  {
   "cell_type": "markdown",
   "metadata": {},
   "source": [
    "Below, the correlation matrix is displayed. Both variables exhibit a high correlation of about 0.8 inducing factor loadings of the first principal component that equally weight both of the standardised variables. Still, the first component explains about 90\\% of the total variance."
   ]
  },
  {
   "cell_type": "code",
   "execution_count": 6,
   "metadata": {},
   "outputs": [
    {
     "name": "stdout",
     "output_type": "stream",
     "text": [
      "[1] \"Sample Covariance Matrix:\"\n"
     ]
    },
    {
     "data": {
      "text/html": [
       "<table>\n",
       "<thead><tr><th></th><th scope=col>X1</th><th scope=col>X2</th></tr></thead>\n",
       "<tbody>\n",
       "\t<tr><th scope=row>X1</th><td>5.389441 </td><td> 6.693512</td></tr>\n",
       "\t<tr><th scope=row>X2</th><td>6.693512 </td><td>13.039028</td></tr>\n",
       "</tbody>\n",
       "</table>\n"
      ],
      "text/latex": [
       "\\begin{tabular}{r|ll}\n",
       "  & X1 & X2\\\\\n",
       "\\hline\n",
       "\tX1 & 5.389441  &  6.693512\\\\\n",
       "\tX2 & 6.693512  & 13.039028\\\\\n",
       "\\end{tabular}\n"
      ],
      "text/markdown": [
       "\n",
       "| <!--/--> | X1 | X2 |\n",
       "|---|---|---|\n",
       "| X1 | 5.389441  |  6.693512 |\n",
       "| X2 | 6.693512  | 13.039028 |\n",
       "\n"
      ],
      "text/plain": [
       "   X1       X2       \n",
       "X1 5.389441  6.693512\n",
       "X2 6.693512 13.039028"
      ]
     },
     "metadata": {},
     "output_type": "display_data"
    },
    {
     "name": "stdout",
     "output_type": "stream",
     "text": [
      "[1] \"Covariance Matrix of Standardised Data (Correlation Matrix)\"\n"
     ]
    },
    {
     "data": {
      "text/html": [
       "<table>\n",
       "<thead><tr><th></th><th scope=col>X1</th><th scope=col>X2</th></tr></thead>\n",
       "<tbody>\n",
       "\t<tr><th scope=row>X1</th><td>1.0000000</td><td>0.7984717</td></tr>\n",
       "\t<tr><th scope=row>X2</th><td>0.7984717</td><td>1.0000000</td></tr>\n",
       "</tbody>\n",
       "</table>\n"
      ],
      "text/latex": [
       "\\begin{tabular}{r|ll}\n",
       "  & X1 & X2\\\\\n",
       "\\hline\n",
       "\tX1 & 1.0000000 & 0.7984717\\\\\n",
       "\tX2 & 0.7984717 & 1.0000000\\\\\n",
       "\\end{tabular}\n"
      ],
      "text/markdown": [
       "\n",
       "| <!--/--> | X1 | X2 |\n",
       "|---|---|---|\n",
       "| X1 | 1.0000000 | 0.7984717 |\n",
       "| X2 | 0.7984717 | 1.0000000 |\n",
       "\n"
      ],
      "text/plain": [
       "   X1        X2       \n",
       "X1 1.0000000 0.7984717\n",
       "X2 0.7984717 1.0000000"
      ]
     },
     "metadata": {},
     "output_type": "display_data"
    },
    {
     "name": "stdout",
     "output_type": "stream",
     "text": [
      "[1] \"Principal Component Loadings (standardised data):\"\n"
     ]
    },
    {
     "data": {
      "text/html": [
       "<table>\n",
       "<thead><tr><th></th><th scope=col>PC1</th><th scope=col>PC2</th></tr></thead>\n",
       "<tbody>\n",
       "\t<tr><th scope=row>X1</th><td>0.7071068 </td><td>-0.7071068</td></tr>\n",
       "\t<tr><th scope=row>X2</th><td>0.7071068 </td><td> 0.7071068</td></tr>\n",
       "</tbody>\n",
       "</table>\n"
      ],
      "text/latex": [
       "\\begin{tabular}{r|ll}\n",
       "  & PC1 & PC2\\\\\n",
       "\\hline\n",
       "\tX1 & 0.7071068  & -0.7071068\\\\\n",
       "\tX2 & 0.7071068  &  0.7071068\\\\\n",
       "\\end{tabular}\n"
      ],
      "text/markdown": [
       "\n",
       "| <!--/--> | PC1 | PC2 |\n",
       "|---|---|---|\n",
       "| X1 | 0.7071068  | -0.7071068 |\n",
       "| X2 | 0.7071068  |  0.7071068 |\n",
       "\n"
      ],
      "text/plain": [
       "   PC1       PC2       \n",
       "X1 0.7071068 -0.7071068\n",
       "X2 0.7071068  0.7071068"
      ]
     },
     "metadata": {},
     "output_type": "display_data"
    },
    {
     "name": "stdout",
     "output_type": "stream",
     "text": [
      "[1] \"Importance of Principal Components (standardised data):\"\n"
     ]
    },
    {
     "data": {
      "text/html": [
       "<table>\n",
       "<thead><tr><th></th><th scope=col>PC1</th><th scope=col>PC2</th></tr></thead>\n",
       "<tbody>\n",
       "\t<tr><th scope=row>Var (Eigenval.)</th><td>1.7985</td><td>0.2015</td></tr>\n",
       "\t<tr><th scope=row>PVE</th><td>0.8992</td><td>0.1008</td></tr>\n",
       "\t<tr><th scope=row>cPVE</th><td>0.8992</td><td>1.0000</td></tr>\n",
       "</tbody>\n",
       "</table>\n"
      ],
      "text/latex": [
       "\\begin{tabular}{r|ll}\n",
       "  & PC1 & PC2\\\\\n",
       "\\hline\n",
       "\tVar (Eigenval.) & 1.7985 & 0.2015\\\\\n",
       "\tPVE & 0.8992 & 0.1008\\\\\n",
       "\tcPVE & 0.8992 & 1.0000\\\\\n",
       "\\end{tabular}\n"
      ],
      "text/markdown": [
       "\n",
       "| <!--/--> | PC1 | PC2 |\n",
       "|---|---|---|\n",
       "| Var (Eigenval.) | 1.7985 | 0.2015 |\n",
       "| PVE | 0.8992 | 0.1008 |\n",
       "| cPVE | 0.8992 | 1.0000 |\n",
       "\n"
      ],
      "text/plain": [
       "                PC1    PC2   \n",
       "Var (Eigenval.) 1.7985 0.2015\n",
       "PVE             0.8992 0.1008\n",
       "cPVE            0.8992 1.0000"
      ]
     },
     "metadata": {},
     "output_type": "display_data"
    },
    {
     "data": {
      "image/png": "[encoded data removed]",
      "text/plain": [
       "plot without title"
      ]
     },
     "metadata": {},
     "output_type": "display_data"
    }
   ],
   "source": [
    "print(\"Sample Covariance Matrix:\")\n",
    "cov(df_demeaned)\n",
    "\n",
    "print(\"Covariance Matrix of Standardised Data (Correlation Matrix)\")\n",
    "# Standardisation alters original Cov Matrix\n",
    "cov(df_std)\n",
    "\n",
    "print(\"Principal Component Loadings (standardised data):\")\n",
    "pca_std$vectors\n",
    "\n",
    "print(\"Importance of Principal Components (standardised data):\")\n",
    "pca_std$importance\n",
    "\n",
    "options(repr.plot.width=4, repr.plot.height=4)\n",
    "ggplot(data = pca_std$df_var, aes(x=PC, y=var)) +\n",
    "    geom_bar(stat=\"identity\", fill=\"green\") + ylab(\"Variance (Eigenvalue)\")"
   ]
  },
  {
   "cell_type": "markdown",
   "metadata": {},
   "source": [
    "To illustrate this point of standardisation changing the obtained factor loadings more clearly, consider the bivariate case with uncorrelated variables and drastically differing variances. "
   ]
  },
  {
   "cell_type": "code",
   "execution_count": 7,
   "metadata": {},
   "outputs": [
    {
     "name": "stdout",
     "output_type": "stream",
     "text": [
      "[1] \"****************************\"\n",
      "[1] \"*** Demeaned Data **********\"\n",
      "[1] \"****************************\"\n",
      "[1] \"Sample Covariance Matrix:\"\n"
     ]
    },
    {
     "data": {
      "text/html": [
       "<table>\n",
       "<thead><tr><th></th><th scope=col>X1</th><th scope=col>X2</th></tr></thead>\n",
       "<tbody>\n",
       "\t<tr><th scope=row>X1</th><td>11.43334373</td><td>-0.07325336</td></tr>\n",
       "\t<tr><th scope=row>X2</th><td>-0.07325336</td><td> 1.86232795</td></tr>\n",
       "</tbody>\n",
       "</table>\n"
      ],
      "text/latex": [
       "\\begin{tabular}{r|ll}\n",
       "  & X1 & X2\\\\\n",
       "\\hline\n",
       "\tX1 & 11.43334373 & -0.07325336\\\\\n",
       "\tX2 & -0.07325336 &  1.86232795\\\\\n",
       "\\end{tabular}\n"
      ],
      "text/markdown": [
       "\n",
       "| <!--/--> | X1 | X2 |\n",
       "|---|---|---|\n",
       "| X1 | 11.43334373 | -0.07325336 |\n",
       "| X2 | -0.07325336 |  1.86232795 |\n",
       "\n"
      ],
      "text/plain": [
       "   X1          X2         \n",
       "X1 11.43334373 -0.07325336\n",
       "X2 -0.07325336  1.86232795"
      ]
     },
     "metadata": {},
     "output_type": "display_data"
    },
    {
     "name": "stdout",
     "output_type": "stream",
     "text": [
      "[1] \"Principal Components:\"\n"
     ]
    },
    {
     "data": {
      "text/html": [
       "<table>\n",
       "<thead><tr><th></th><th scope=col>PC1</th><th scope=col>PC2</th></tr></thead>\n",
       "<tbody>\n",
       "\t<tr><th scope=row>X1</th><td>-0.999970715</td><td>-0.007652994</td></tr>\n",
       "\t<tr><th scope=row>X2</th><td> 0.007652994</td><td>-0.999970715</td></tr>\n",
       "</tbody>\n",
       "</table>\n"
      ],
      "text/latex": [
       "\\begin{tabular}{r|ll}\n",
       "  & PC1 & PC2\\\\\n",
       "\\hline\n",
       "\tX1 & -0.999970715 & -0.007652994\\\\\n",
       "\tX2 &  0.007652994 & -0.999970715\\\\\n",
       "\\end{tabular}\n"
      ],
      "text/markdown": [
       "\n",
       "| <!--/--> | PC1 | PC2 |\n",
       "|---|---|---|\n",
       "| X1 | -0.999970715 | -0.007652994 |\n",
       "| X2 |  0.007652994 | -0.999970715 |\n",
       "\n"
      ],
      "text/plain": [
       "   PC1          PC2         \n",
       "X1 -0.999970715 -0.007652994\n",
       "X2  0.007652994 -0.999970715"
      ]
     },
     "metadata": {},
     "output_type": "display_data"
    },
    {
     "data": {
      "text/html": [
       "<table>\n",
       "<thead><tr><th></th><th scope=col>PC1</th><th scope=col>PC2</th></tr></thead>\n",
       "<tbody>\n",
       "\t<tr><th scope=row>Var (Eigenval.)</th><td>11.4339</td><td>1.8618 </td></tr>\n",
       "\t<tr><th scope=row>PVE</th><td> 0.8600</td><td>0.1400 </td></tr>\n",
       "\t<tr><th scope=row>cPVE</th><td> 0.8600</td><td>1.0000 </td></tr>\n",
       "</tbody>\n",
       "</table>\n"
      ],
      "text/latex": [
       "\\begin{tabular}{r|ll}\n",
       "  & PC1 & PC2\\\\\n",
       "\\hline\n",
       "\tVar (Eigenval.) & 11.4339 & 1.8618 \\\\\n",
       "\tPVE &  0.8600 & 0.1400 \\\\\n",
       "\tcPVE &  0.8600 & 1.0000 \\\\\n",
       "\\end{tabular}\n"
      ],
      "text/markdown": [
       "\n",
       "| <!--/--> | PC1 | PC2 |\n",
       "|---|---|---|\n",
       "| Var (Eigenval.) | 11.4339 | 1.8618  |\n",
       "| PVE |  0.8600 | 0.1400  |\n",
       "| cPVE |  0.8600 | 1.0000  |\n",
       "\n"
      ],
      "text/plain": [
       "                PC1     PC2   \n",
       "Var (Eigenval.) 11.4339 1.8618\n",
       "PVE              0.8600 0.1400\n",
       "cPVE             0.8600 1.0000"
      ]
     },
     "metadata": {},
     "output_type": "display_data"
    },
    {
     "name": "stdout",
     "output_type": "stream",
     "text": [
      "[1] \"****************************\"\n",
      "[1] \"*** Standardised Data ******\"\n",
      "[1] \"****************************\"\n",
      "[1] \"Covariance Matrix:\"\n"
     ]
    },
    {
     "data": {
      "text/html": [
       "<table>\n",
       "<thead><tr><th></th><th scope=col>X1</th><th scope=col>X2</th></tr></thead>\n",
       "<tbody>\n",
       "\t<tr><th scope=row>X1</th><td> 1.00000000</td><td>-0.01587497</td></tr>\n",
       "\t<tr><th scope=row>X2</th><td>-0.01587497</td><td> 1.00000000</td></tr>\n",
       "</tbody>\n",
       "</table>\n"
      ],
      "text/latex": [
       "\\begin{tabular}{r|ll}\n",
       "  & X1 & X2\\\\\n",
       "\\hline\n",
       "\tX1 &  1.00000000 & -0.01587497\\\\\n",
       "\tX2 & -0.01587497 &  1.00000000\\\\\n",
       "\\end{tabular}\n"
      ],
      "text/markdown": [
       "\n",
       "| <!--/--> | X1 | X2 |\n",
       "|---|---|---|\n",
       "| X1 |  1.00000000 | -0.01587497 |\n",
       "| X2 | -0.01587497 |  1.00000000 |\n",
       "\n"
      ],
      "text/plain": [
       "   X1          X2         \n",
       "X1  1.00000000 -0.01587497\n",
       "X2 -0.01587497  1.00000000"
      ]
     },
     "metadata": {},
     "output_type": "display_data"
    },
    {
     "name": "stdout",
     "output_type": "stream",
     "text": [
      "[1] \"Principal Components:\"\n"
     ]
    },
    {
     "data": {
      "text/html": [
       "<table>\n",
       "<thead><tr><th></th><th scope=col>PC1</th><th scope=col>PC2</th></tr></thead>\n",
       "<tbody>\n",
       "\t<tr><th scope=row>X1</th><td>-0.7071068</td><td>-0.7071068</td></tr>\n",
       "\t<tr><th scope=row>X2</th><td> 0.7071068</td><td>-0.7071068</td></tr>\n",
       "</tbody>\n",
       "</table>\n"
      ],
      "text/latex": [
       "\\begin{tabular}{r|ll}\n",
       "  & PC1 & PC2\\\\\n",
       "\\hline\n",
       "\tX1 & -0.7071068 & -0.7071068\\\\\n",
       "\tX2 &  0.7071068 & -0.7071068\\\\\n",
       "\\end{tabular}\n"
      ],
      "text/markdown": [
       "\n",
       "| <!--/--> | PC1 | PC2 |\n",
       "|---|---|---|\n",
       "| X1 | -0.7071068 | -0.7071068 |\n",
       "| X2 |  0.7071068 | -0.7071068 |\n",
       "\n"
      ],
      "text/plain": [
       "   PC1        PC2       \n",
       "X1 -0.7071068 -0.7071068\n",
       "X2  0.7071068 -0.7071068"
      ]
     },
     "metadata": {},
     "output_type": "display_data"
    },
    {
     "data": {
      "text/html": [
       "<table>\n",
       "<thead><tr><th></th><th scope=col>PC1</th><th scope=col>PC2</th></tr></thead>\n",
       "<tbody>\n",
       "\t<tr><th scope=row>Var (Eigenval.)</th><td>1.0159</td><td>0.9841</td></tr>\n",
       "\t<tr><th scope=row>PVE</th><td>0.5079</td><td>0.4921</td></tr>\n",
       "\t<tr><th scope=row>cPVE</th><td>0.5079</td><td>1.0000</td></tr>\n",
       "</tbody>\n",
       "</table>\n"
      ],
      "text/latex": [
       "\\begin{tabular}{r|ll}\n",
       "  & PC1 & PC2\\\\\n",
       "\\hline\n",
       "\tVar (Eigenval.) & 1.0159 & 0.9841\\\\\n",
       "\tPVE & 0.5079 & 0.4921\\\\\n",
       "\tcPVE & 0.5079 & 1.0000\\\\\n",
       "\\end{tabular}\n"
      ],
      "text/markdown": [
       "\n",
       "| <!--/--> | PC1 | PC2 |\n",
       "|---|---|---|\n",
       "| Var (Eigenval.) | 1.0159 | 0.9841 |\n",
       "| PVE | 0.5079 | 0.4921 |\n",
       "| cPVE | 0.5079 | 1.0000 |\n",
       "\n"
      ],
      "text/plain": [
       "                PC1    PC2   \n",
       "Var (Eigenval.) 1.0159 0.9841\n",
       "PVE             0.5079 0.4921\n",
       "cPVE            0.5079 1.0000"
      ]
     },
     "metadata": {},
     "output_type": "display_data"
    },
    {
     "data": {
      "image/png": "[encoded data removed]",
      "text/plain": [
       "plot without title"
      ]
     },
     "metadata": {},
     "output_type": "display_data"
    }
   ],
   "source": [
    "set.seed(1)\n",
    "N <- 200\n",
    "sigma <- matrix(c(12, 0, 0, 2), byrow = T, nrow = 2)\n",
    "mu <- c(5, 15)\n",
    "\n",
    "X <- rmvnorm(N, mean = mu, sigma = sigma)\n",
    "colnames(X) <- c(\"X1\", \"X2\")\n",
    "X_demeaned <- scale(X, center=T, scale = F)\n",
    "\n",
    "df_demeaned <- as.data.frame(X_demeaned)\n",
    "\n",
    "print(\"****************************\")\n",
    "print(\"*** Demeaned Data **********\")\n",
    "print(\"****************************\")\n",
    "print(\"Sample Covariance Matrix:\")\n",
    "cov(df_demeaned)\n",
    "print(\"Principal Components:\")\n",
    "pca <- prco(X_demeaned)\n",
    "pca$vectors\n",
    "pca$importance\n",
    "\n",
    "p1 <-   ggplot(df_demeaned, aes(X1, X2)) + \n",
    "        xlim(-10, 10) + ylim(-5, 5) +\n",
    "        geom_point() + \n",
    "        geom_abline(aes(slope = pca$vectors[2, 1] / pca$vectors[1, 1], intercept = 0, colour=\"PC1\")) + \n",
    "        geom_abline(aes(slope = pca$vectors[2, 2] / pca$vectors[1, 2], intercept = 0, colour=\"PC2\")) +\n",
    "        theme(plot.title = element_text(hjust = 0.5)) +\n",
    "        labs(color = \"\") + xlab(\"X1 (demeaned)\") + ylab(\"X2 (demeaned)\") +\n",
    "        scale_color_manual(values = c(\"PC1\" = \"red\", \"PC2\" = \"blue\")) +\n",
    "        ggtitle(\"PCA with demeaned data\") +\n",
    "        coord_fixed()\n",
    "\n",
    "print(\"****************************\")\n",
    "print(\"*** Standardised Data ******\")\n",
    "print(\"****************************\")\n",
    "X_std <- scale(X, center = T, scale = T)\n",
    "df_std <- as.data.frame(X_std)\n",
    "pca_std <- prco(X_std)\n",
    "\n",
    "print(\"Covariance Matrix:\")\n",
    "cov(df_std)\n",
    "print(\"Principal Components:\")\n",
    "pca_std$vectors\n",
    "pca_std$importance\n",
    "\n",
    "p2 <-   ggplot(df_std, aes(X1, X2)) + \n",
    "        geom_point() + \n",
    "        geom_abline(aes(slope = pca_std$vectors[2, 1] / pca_std$vectors[1, 1], intercept = 0, colour=\"PC1\")) + \n",
    "        geom_abline(aes(slope = pca_std$vectors[2, 2] / pca_std$vectors[1, 2], intercept = 0, colour=\"PC2\")) +\n",
    "        theme(plot.title = element_text(hjust = 0.5)) +\n",
    "        labs(color = \"\") + xlab(\"X1 (stand.)\") + ylab(\"X2 (stand.)\") +\n",
    "        scale_color_manual(values = c(\"PC1\" = \"red\", \"PC2\" = \"blue\")) +\n",
    "        ggtitle(\"PCA with standardised data\") +\n",
    "        coord_fixed()\n",
    "\n",
    "options(repr.plot.width=10, repr.plot.height=4)\n",
    "plot_grid(p1, p2, align = \"h\", nrow = 1, rel_heights = c(1, 1))"
   ]
  },
  {
   "cell_type": "markdown",
   "metadata": {},
   "source": [
    "As X1 is the variable that has a much larger variance than X2 and the sample covariance between them is almost zero, the first principal component computed based on the demeaned data loads almost exclusively on X1. In other word, the first principal component is in the direction of X1, hence the red line in the left panel is essentially a flat horizontal line. About 86\\% of the total variance is captured by it. In turn, the second principal component must be orthogonal which yields a vertical line. \n",
    "\n",
    "While the point cloud of the standardised data looks the same, the standardisation procedure takes out the difference in variance: the newly generated variables have both a variance of 1. Since the correlation between the variables is almost zero, it follows that the factor loadings of the first principal component obtained with standardised data assign almost equal weight to both of the standardised variables.\n",
    "\n",
    "Thus, in the case of the covariance matrix approach, variables with a high variance will dominate the first principal component and one should be aware of this issue. For instance, it would actually matter whether length is measured in miles or in kilometres as this has implications for the variance of the measurements. With explanatory variables that are measured on different scales, it is therefore crucial to standardise in order to achieve scale invariance. However, one might be inclined to always standardise the variables, even if they are measured on the same scale, just to be precautious. Yet, the differences in variance may in fact be relevant and those high-variance variables might be more important for predicting the outcome. Hence, it is necessary to study the role of PCA in a regression context rather than simply as a tool for exploratory data analyses."
   ]
  },
  {
   "cell_type": "markdown",
   "metadata": {},
   "source": [
    "### Principal Component Regression (PCR)\n",
    "\n",
    "To demonstrate the general procedure, consider the following set-up. We always draw a test and a training data set of equal size $N$. The explanatory variables are obtained as draws from a multivariate normal distribution. As the data is in any case demeaned, the means hardly matter. By contrast, the choice of the underlying covariance matrix is crucial. To ensure randomness of the covariance matrix it is constructed as follows:\n",
    "\n",
    "First, we create a matrix $W$ that has dimensions $p \\times p$ and its elements are all drawn from a standard normal distribution. As this matrix is not of full rank and we aim to obtain a covariance matrix that is positive semi-definite and of full rank, further manipulation is necessary: $ \\Sigma = W W^T + D$ where $D$ is a random diagonal matrix with only positive entries on the diagonal, which is ensured by drawing the diagonal from the standard uniform distribution. \n",
    "\n",
    "In the following, we consider the case of $N=500$ and $P = 20$.\n"
   ]
  },
  {
   "cell_type": "code",
   "execution_count": 8,
   "metadata": {},
   "outputs": [],
   "source": [
    "gen_x <- function(N, mu) {\n",
    "  \n",
    "  p <- length(mu) # number of predictors\n",
    "  \n",
    "  W = replicate(p, rnorm(p))\n",
    "  sigma = W%*%t(W) + diag(runif(p),nrow=p)\n",
    "  \n",
    "  X_train <- rmvnorm(n=N, mean=mu, sigma=sigma)  # randomly draw training data set\n",
    "  X_test <- rmvnorm(n=N, mean=mu, sigma=sigma)  # randomly draw test data set\n",
    "  \n",
    "  return(list(X_train=X_train, X_test = X_test, sigma = sigma))   \n",
    "}"
   ]
  },
  {
   "cell_type": "code",
   "execution_count": 9,
   "metadata": {},
   "outputs": [],
   "source": [
    "gen_y <- function(intercept, effects, X_train, X_test, sigma_x, PC, random, eps_sd) {\n",
    "  p <- dim(sigma_x)[1]\n",
    "  N_train <- dim(X_train)[1]\n",
    "  N_test <- dim(X_test)[1]\n",
    "  \n",
    "  if (random == 1) {\n",
    "\n",
    "    beta_vec <- sample(effects, size= p, replace=T)\n",
    "    y_train <- rep(intercept, N_train) + X_train %*% beta_vec + rnorm(n=N_train, mean=0, sd=eps_sd)\n",
    "    y_test <- rep(intercept, N_test) + X_test %*% beta_vec + rnorm(n=N_test, mean=0, sd=eps_sd)\n",
    "  \n",
    "  } else {\n",
    "    stopifnot(length(effects) == length(PC))\n",
    "    V <- eigen(sigma_x)$vectors[,PC]\n",
    "    y_train <- rep(intercept, N_train) + X_train %*% V %*% effects + rnorm(n=N_train, mean=0, sd=eps_sd)\n",
    "    y_test <- rep(intercept, N_test) + X_test %*% V %*% effects + rnorm(n=N_test, mean=0, sd=eps_sd)\n",
    "  }\n",
    "  return(list(y_train = y_train, y_test = y_test)) \n",
    "}"
   ]
  },
  {
   "cell_type": "code",
   "execution_count": 10,
   "metadata": {},
   "outputs": [],
   "source": [
    "pcr_cv <- function(X, Y, k) {\n",
    "  \n",
    "  stopifnot(nrow(Y) == nrow(X))\n",
    "  \n",
    "  data <- cbind(Y, X)\n",
    "  \n",
    "  fold_i <- sample(rep(1:k, length.out = nrow(X)))\n",
    "  \n",
    "  mse <- matrix(NA, nrow=ncol(X), ncol=k)\n",
    "  \n",
    "  for (x in 1:k) {\n",
    "    val_i <- which(fold_i == x)\n",
    "    train <- data[-val_i,]\n",
    "    val <- data[val_i,]\n",
    "    \n",
    "    pca <- prco(train[,-1])\n",
    "    \n",
    "    for (j in 1:ncol(X)) {\n",
    "      Z_train <- cbind(rep(1, nrow(train)),train[,-1] %*% pca$vectors[,1:j])\n",
    "      Z_val <- cbind(rep(1, nrow(val)),val[,-1] %*% pca$vectors[,1:j])\n",
    "      \n",
    "      beta_hat <- solve(t(Z_train)%*%Z_train) %*% t(Z_train) %*% train[,1]\n",
    "      mse[j, x] <- mean((Z_val %*% beta_hat - val[,1]) ** 2)\n",
    "    }\n",
    "  }\n",
    "  \n",
    "  mse_cv <- cbind(1:ncol(X), rowMeans(mse))\n",
    "  colnames(mse_cv) <- c(\"M\", \"CV-MSE\")\n",
    "  \n",
    "  M <- match(min(mse_cv[,\"CV-MSE\"]), mse_cv[,\"CV-MSE\"])\n",
    "  pca_full_train <- prco(X)\n",
    "  cv_vectors <- pca_full_train$vectors[,1:M]\n",
    "  \n",
    "  Z <- cbind(rep(1, nrow(X)),X %*% cv_vectors)\n",
    "  beta_hat <- solve(t(Z)%*%Z) %*% t(Z) %*% Y\n",
    "  mse_train <- mean((Z %*% beta_hat - Y) ** 2)\n",
    "  \n",
    "  importance <- pca_full_train$importance[,1:M]\n",
    "  \n",
    "  return(list(mse_cv = mse_cv, mse_train = mse_train, beta_hat = beta_hat, M=M, cv_vectors=cv_vectors, importance=importance))\n",
    "}"
   ]
  },
  {
   "cell_type": "code",
   "execution_count": 11,
   "metadata": {},
   "outputs": [],
   "source": [
    "pcr_comp <- function(X, Y, M) {\n",
    "    pca <- prco(X)\n",
    "    Z <- cbind(rep(1, nrow(X)),X %*% pca$vectors[,1:M])\n",
    "    beta_hat <- solve(t(Z)%*%Z) %*% t(Z) %*% Y\n",
    "    mse_train <- mean((Z %*% beta_hat - Y) ** 2)\n",
    "    \n",
    "    importance <- pca$importance[,1:M]\n",
    "    \n",
    "    return(list(mse_train = mse_train, beta_hat = beta_hat, vectors=pca$vectors[,1:M], importance=importance))\n",
    "}"
   ]
  },
  {
   "cell_type": "code",
   "execution_count": 12,
   "metadata": {},
   "outputs": [],
   "source": [
    "N <- 500\n",
    "p <- 20\n",
    "set.seed(3)\n",
    "X <- gen_x(N = N, sample(10:20, p, replace = T))\n",
    "X_train_d <- scale(X$X_train, center = T, scale = F)\n",
    "X_test_d <- scale(X$X_test, center = T, scale = F)\n",
    "\n",
    "y  <- gen_y(intercept=2, effects=rep(2, 5), X_train = X$X_train, X_test = X$X_test, sigma_x=X$sigma, PC = c(1, 2, 3, 4, 5),random = 0, eps_sd=1) \n",
    "\n",
    "y_train <- y$y_train\n",
    "y_test <- y$y_test\n",
    "\n",
    "pca <- prco(X_train_d)"
   ]
  },
  {
   "cell_type": "markdown",
   "metadata": {},
   "source": [
    "In the case of \"unsupervised learning\", the number of principal components to include would be determined without regard to the outcome variable $Y$. Thus, the previously discussed ad-hoc approaches are considered. Consistently, they would suggest $M=10$, so to include the principal components up to number 10: This is the one where arguably an *elbow* is identifiable from the Scree Plot (see left graph below) and where the cumulative PVE reaches about 90\\% (see right graph below). Also, this would be the last principal component with an eigenvalue larger than $0.7 \\bar{\\lambda}$."
   ]
  },
  {
   "cell_type": "code",
   "execution_count": 13,
   "metadata": {},
   "outputs": [
    {
     "data": {
      "text/html": [
       "<table>\n",
       "<thead><tr><th></th><th scope=col>PC1</th><th scope=col>PC2</th><th scope=col>PC3</th><th scope=col>PC4</th><th scope=col>PC5</th><th scope=col>PC6</th><th scope=col>PC7</th><th scope=col>PC8</th><th scope=col>PC9</th><th scope=col>PC10</th><th scope=col>PC11</th><th scope=col>PC12</th><th scope=col>PC13</th><th scope=col>PC14</th><th scope=col>PC15</th><th scope=col>PC16</th><th scope=col>PC17</th><th scope=col>PC18</th><th scope=col>PC19</th><th scope=col>PC20</th></tr></thead>\n",
       "<tbody>\n",
       "\t<tr><th scope=row>Var (Eigenval.)</th><td>66.7512</td><td>60.5089</td><td>52.9347</td><td>44.2527</td><td>42.6050</td><td>36.2178</td><td>32.1428</td><td>20.4739</td><td>16.7488</td><td>16.0852</td><td>10.9944</td><td>9.2573 </td><td>5.5978 </td><td>4.5052 </td><td>3.6399 </td><td>2.6003 </td><td>1.6471 </td><td>0.8152 </td><td>0.7556 </td><td>0.4647 </td></tr>\n",
       "\t<tr><th scope=row>PVE</th><td> 0.1556</td><td> 0.1410</td><td> 0.1234</td><td> 0.1032</td><td> 0.0993</td><td> 0.0844</td><td> 0.0749</td><td> 0.0477</td><td> 0.0390</td><td> 0.0375</td><td> 0.0256</td><td>0.0216 </td><td>0.0130 </td><td>0.0105 </td><td>0.0085 </td><td>0.0061 </td><td>0.0038 </td><td>0.0019 </td><td>0.0018 </td><td>0.0011 </td></tr>\n",
       "\t<tr><th scope=row>cPVE</th><td> 0.1556</td><td> 0.2966</td><td> 0.4200</td><td> 0.5232</td><td> 0.6225</td><td> 0.7069</td><td> 0.7819</td><td> 0.8296</td><td> 0.8686</td><td> 0.9061</td><td> 0.9317</td><td>0.9533 </td><td>0.9664 </td><td>0.9769 </td><td>0.9854 </td><td>0.9914 </td><td>0.9953 </td><td>0.9972 </td><td>0.9989 </td><td>1.0000 </td></tr>\n",
       "</tbody>\n",
       "</table>\n"
      ],
      "text/latex": [
       "\\begin{tabular}{r|llllllllllllllllllll}\n",
       "  & PC1 & PC2 & PC3 & PC4 & PC5 & PC6 & PC7 & PC8 & PC9 & PC10 & PC11 & PC12 & PC13 & PC14 & PC15 & PC16 & PC17 & PC18 & PC19 & PC20\\\\\n",
       "\\hline\n",
       "\tVar (Eigenval.) & 66.7512 & 60.5089 & 52.9347 & 44.2527 & 42.6050 & 36.2178 & 32.1428 & 20.4739 & 16.7488 & 16.0852 & 10.9944 & 9.2573  & 5.5978  & 4.5052  & 3.6399  & 2.6003  & 1.6471  & 0.8152  & 0.7556  & 0.4647 \\\\\n",
       "\tPVE &  0.1556 &  0.1410 &  0.1234 &  0.1032 &  0.0993 &  0.0844 &  0.0749 &  0.0477 &  0.0390 &  0.0375 &  0.0256 & 0.0216  & 0.0130  & 0.0105  & 0.0085  & 0.0061  & 0.0038  & 0.0019  & 0.0018  & 0.0011 \\\\\n",
       "\tcPVE &  0.1556 &  0.2966 &  0.4200 &  0.5232 &  0.6225 &  0.7069 &  0.7819 &  0.8296 &  0.8686 &  0.9061 &  0.9317 & 0.9533  & 0.9664  & 0.9769  & 0.9854  & 0.9914  & 0.9953  & 0.9972  & 0.9989  & 1.0000 \\\\\n",
       "\\end{tabular}\n"
      ],
      "text/markdown": [
       "\n",
       "| <!--/--> | PC1 | PC2 | PC3 | PC4 | PC5 | PC6 | PC7 | PC8 | PC9 | PC10 | PC11 | PC12 | PC13 | PC14 | PC15 | PC16 | PC17 | PC18 | PC19 | PC20 |\n",
       "|---|---|---|---|---|---|---|---|---|---|---|---|---|---|---|---|---|---|---|---|---|\n",
       "| Var (Eigenval.) | 66.7512 | 60.5089 | 52.9347 | 44.2527 | 42.6050 | 36.2178 | 32.1428 | 20.4739 | 16.7488 | 16.0852 | 10.9944 | 9.2573  | 5.5978  | 4.5052  | 3.6399  | 2.6003  | 1.6471  | 0.8152  | 0.7556  | 0.4647  |\n",
       "| PVE |  0.1556 |  0.1410 |  0.1234 |  0.1032 |  0.0993 |  0.0844 |  0.0749 |  0.0477 |  0.0390 |  0.0375 |  0.0256 | 0.0216  | 0.0130  | 0.0105  | 0.0085  | 0.0061  | 0.0038  | 0.0019  | 0.0018  | 0.0011  |\n",
       "| cPVE |  0.1556 |  0.2966 |  0.4200 |  0.5232 |  0.6225 |  0.7069 |  0.7819 |  0.8296 |  0.8686 |  0.9061 |  0.9317 | 0.9533  | 0.9664  | 0.9769  | 0.9854  | 0.9914  | 0.9953  | 0.9972  | 0.9989  | 1.0000  |\n",
       "\n"
      ],
      "text/plain": [
       "                PC1     PC2     PC3     PC4     PC5     PC6     PC7     PC8    \n",
       "Var (Eigenval.) 66.7512 60.5089 52.9347 44.2527 42.6050 36.2178 32.1428 20.4739\n",
       "PVE              0.1556  0.1410  0.1234  0.1032  0.0993  0.0844  0.0749  0.0477\n",
       "cPVE             0.1556  0.2966  0.4200  0.5232  0.6225  0.7069  0.7819  0.8296\n",
       "                PC9     PC10    PC11    PC12   PC13   PC14   PC15   PC16  \n",
       "Var (Eigenval.) 16.7488 16.0852 10.9944 9.2573 5.5978 4.5052 3.6399 2.6003\n",
       "PVE              0.0390  0.0375  0.0256 0.0216 0.0130 0.0105 0.0085 0.0061\n",
       "cPVE             0.8686  0.9061  0.9317 0.9533 0.9664 0.9769 0.9854 0.9914\n",
       "                PC17   PC18   PC19   PC20  \n",
       "Var (Eigenval.) 1.6471 0.8152 0.7556 0.4647\n",
       "PVE             0.0038 0.0019 0.0018 0.0011\n",
       "cPVE            0.9953 0.9972 0.9989 1.0000"
      ]
     },
     "metadata": {},
     "output_type": "display_data"
    },
    {
     "name": "stdout",
     "output_type": "stream",
     "text": [
      "[1] \"Mean Eigenvalue (Variance)\"\n",
      "[1] 21.44993\n",
      "[1] \"0.7 * (Mean Eigenvalue)\"\n",
      "[1] 15.01495\n"
     ]
    },
    {
     "data": {
      "image/png": "[encoded data removed]",
      "text/plain": [
       "plot without title"
      ]
     },
     "metadata": {},
     "output_type": "display_data"
    }
   ],
   "source": [
    "PVE <- pca$importance[\"PVE\",]\n",
    "cPVE <- pca$importance[\"cPVE\",]\n",
    "PC <- 1:p\n",
    "\n",
    "p1 <- ggplot(data.frame(PC, PVE), aes(x = PC, y = PVE)) + \n",
    "      theme(plot.title = element_text(hjust = 0.5)) +\n",
    "      geom_point() + geom_line() + ylab(\"Proportion of Variance Explained (PVE)\") +\n",
    "      geom_vline(xintercept = 10, color=\"red\") +\n",
    "      ggtitle(\"Scree Plot\") + scale_x_continuous(breaks = 1:p)\n",
    "\n",
    "p2 <- ggplot(data.frame(PC, cPVE), aes(x = PC, y = cPVE)) + \n",
    "      theme(plot.title = element_text(hjust = 0.5)) +\n",
    "      geom_point() + geom_line() + ylab(\"cum. Prop. of Variance Explained\") +\n",
    "      geom_vline(xintercept = 10, color=\"red\") +\n",
    "      ggtitle(\"Cumulative Prop. of Variance Explained\") + scale_x_continuous(breaks = 1:p) + scale_y_continuous(breaks = seq(0,1, by = 0.2))\n",
    "\n",
    "plot_grid(p1, p2, align = \"h\", nrow = 1, rel_heights = c(1, 1))\n",
    "\n",
    "pca$importance\n",
    "print(\"Mean Eigenvalue (Variance)\")\n",
    "print(mean(pca$values))\n",
    "print(\"0.7 * (Mean Eigenvalue)\")\n",
    "print(0.7 * mean(pca$values))"
   ]
  },
  {
   "cell_type": "markdown",
   "metadata": {},
   "source": [
    "Again, note that these approaches select $M$ without any consideration for $Y$ and only based on the assumption, that the most relevant statistical information is captured by the first couple of principal components which encapsulate a reasonably large farction of the original variability. \n",
    "\n",
    "The benefit of simulated data is now that the the relationship of the explanatory variables with $Y$ can directly be controlled. Therefore, consider the following way of generating $Y$. Suppose we relate $Y$ to the demeaned (or standardised) variables $\\tilde{X}$:\n",
    "\n",
    "$$ Y = \\tilde{\\pmb X} \\beta + \\epsilon \\text{ ,}$$\n",
    "\n",
    "note that the statistical inference is not affected by demeaning or standardisation the explanatory variables as the estimates are simply adjusted accrodingly. As the matrix of all principal components (eigenvectors), $\\pmb \\phi$, is an orthogonal matrix which implies that the inverse of it is identical to its transposed, so $ \\pmb \\phi^T = \\pmb \\phi ^{-1}$, hence: $\\pmb \\phi \\pmb \\phi^T = \\pmb I = \\pmb \\phi^T \\pmb \\phi$. Thus, the structural equation can be re-written:\n",
    "\n",
    "$$ Y = \\tilde{\\pmb X} \\pmb \\phi \\pmb \\phi^T \\beta + \\epsilon$$\n",
    "\n",
    "and substituting $ \\pmb Z = \\tilde{\\pmb X} \\pmb \\phi $ yields\n",
    "\n",
    "$$ Y = \\pmb Z \\theta + \\epsilon \\text{ ,} $$\n",
    "\n",
    "where $\\theta = \\pmb \\phi^T \\beta$. Now assume, that $\\beta$ is only in the direction of the $j$-th eigenvector $\\phi_j$, which is $\\phi_j = \\alpha \\beta$ with the scalar $\\alpha \\neq 0$. Hence, $\\theta_j = \\phi_j^T \\beta = \\alpha \\beta^T \\beta$ and $\\theta_{j \\, '} = \\phi_{j \\, '}^T \\beta = 0$ for $j \\neq j \\, '$. Thus, the outcome is fully determined by the principal component $Z_j$:\n",
    "\n",
    "$$ Y = \\theta_j Z_j + \\epsilon = \\theta_j \\tilde{\\pmb X} \\phi_j + \\epsilon \\text{ .}$$\n",
    "\n",
    "The other principal components do not affect the outcome at all as their coefficients are set to zero. This reasoning can be extended to allow the outcome $Y$ to be determined by two or more principal components.\n",
    "\n",
    "For the simulation this implies the following. Based on the \"true\" underlying covariance matrix $\\Sigma$, which is randomly generated, the \"true\" eigenvectors can be extracted. However, it is not necessarily the case that these \"true\" eigenvectors also match the empirically obtained principal components loadings as the random sampling of the explanatory variables from a multivariate normal distribution induces *noise*."
   ]
  },
  {
   "cell_type": "code",
   "execution_count": 14,
   "metadata": {},
   "outputs": [
    {
     "name": "stdout",
     "output_type": "stream",
     "text": [
      "[1] \"Number of Principal Components chosen by CV:\"\n"
     ]
    },
    {
     "data": {
      "text/html": [
       "15"
      ],
      "text/latex": [
       "15"
      ],
      "text/markdown": [
       "15"
      ],
      "text/plain": [
       "[1] 15"
      ]
     },
     "metadata": {},
     "output_type": "display_data"
    },
    {
     "data": {
      "image/png": "[encoded data removed]",
      "text/plain": [
       "plot without title"
      ]
     },
     "metadata": {},
     "output_type": "display_data"
    }
   ],
   "source": [
    "set.seed(12)\n",
    "pcr <- pcr_cv(X=X_train_d, Y=y_train, k=10)\n",
    "\n",
    "print(\"Number of Principal Components chosen by CV:\")\n",
    "pcr$M\n",
    "data <- data.frame(pcr$mse_cv)\n",
    "\n",
    "ggplot(data, aes(x = M, y = CV.MSE)) + \n",
    "      theme(plot.title = element_text(hjust = 0.5)) +\n",
    "      geom_point() + geom_line() + ylab(\"CV-MSE\") + geom_vline(xintercept = pcr$M, color=\"red\") +\n",
    "      geom_vline(xintercept = 5, color=\"blue\", linetype=\"dashed\") +\n",
    "      ggtitle(\"Cross-Validation MSE per number of included PCs\") + scale_x_continuous(breaks = 1:20)"
   ]
  },
  {
   "cell_type": "markdown",
   "metadata": {},
   "source": [
    "The minimal CV-MSE based on 10-fold CV is obtained for $M=15$ and, thus, way more principal components are included as justified based on the true data generating process, where the outcome $Y$ was related only to the first 5 eigenvectors of the \"true\" covariance matrix. This is also larger as the number of principal components suggested by the ad-hoc approaches - but as already discussed, they are dervied without any regard for the outcome variable. It has to be emphasized that taking the minimum criterion with respect to the CV-MSE leaves room for some random interferences. As can be seen from the plot, after the 6th PC the CV-MSE is essentially flat, i.e. the additional principal components included do not improve the fit. However, just by chance it may occur that an additional PC picks up on some random noise which results in a slightly better performance. This explains why taking the absolute minimum based on CV may not be reasonable. Instead, it is very much suggested to plot the CV-MSE and identify the appropriate number of principal components to include using eyeballing. In this case, it would probably lead to including 7 or 8 PCs rather than 15, achieving a larger degree of dimensionality reduction.\n",
    "\n",
    "But why is the CV-MSE still distinctly higher with 5 principal compnents than with 6, although the data generating process of $Y$ is based on 5 eigenvectors? While also the CV-procedure also induces some randomness when randomly splitting the training sample into $k$ folds, this can rather be explained by the noise introduced in the sampling process when randomly drawing the explanatory variables from the multivariate normal distribution, as already pointed to above. To illustrate this, we repeat the same procedure with the only modification of choosing $N = 50.000$ instead of $N = 500$."
   ]
  },
  {
   "cell_type": "code",
   "execution_count": 15,
   "metadata": {},
   "outputs": [
    {
     "name": "stdout",
     "output_type": "stream",
     "text": [
      "[1] \"Number of Principal Components chosen by CV:\"\n"
     ]
    },
    {
     "data": {
      "text/html": [
       "18"
      ],
      "text/latex": [
       "18"
      ],
      "text/markdown": [
       "18"
      ],
      "text/plain": [
       "[1] 18"
      ]
     },
     "metadata": {},
     "output_type": "display_data"
    },
    {
     "data": {
      "text/html": [
       "<table>\n",
       "<tbody>\n",
       "\t<tr><th scope=row>M</th><td>  1.0000</td><td>  2.0000</td><td>  3.0000</td><td>  4.0000</td><td>5.0000  </td><td>6.0000  </td><td>7.0000  </td><td>8.0000  </td><td>9.0000  </td><td>10.0000 </td><td>11.000  </td><td>12.0000 </td><td>13.000  </td><td>14.0000 </td><td>15.0000 </td><td>16.0000 </td><td>17.0000 </td><td>18.0000 </td><td>19.0000 </td><td>20.0000 </td></tr>\n",
       "\t<tr><th scope=row>CV-MSE</th><td>756.5056</td><td>602.9194</td><td>347.9348</td><td>144.8953</td><td>4.1426  </td><td>1.0329  </td><td>1.0142  </td><td>1.0093  </td><td>1.0051  </td><td> 1.0041 </td><td> 1.003  </td><td> 1.0021 </td><td> 1.002  </td><td> 1.0018 </td><td> 1.0018 </td><td> 1.0015 </td><td> 1.0015 </td><td> 1.0015 </td><td> 1.0016 </td><td> 1.0016 </td></tr>\n",
       "</tbody>\n",
       "</table>\n"
      ],
      "text/latex": [
       "\\begin{tabular}{r|llllllllllllllllllll}\n",
       "\tM &   1.0000 &   2.0000 &   3.0000 &   4.0000 & 5.0000   & 6.0000   & 7.0000   & 8.0000   & 9.0000   & 10.0000  & 11.000   & 12.0000  & 13.000   & 14.0000  & 15.0000  & 16.0000  & 17.0000  & 18.0000  & 19.0000  & 20.0000 \\\\\n",
       "\tCV-MSE & 756.5056 & 602.9194 & 347.9348 & 144.8953 & 4.1426   & 1.0329   & 1.0142   & 1.0093   & 1.0051   &  1.0041  &  1.003   &  1.0021  &  1.002   &  1.0018  &  1.0018  &  1.0015  &  1.0015  &  1.0015  &  1.0016  &  1.0016 \\\\\n",
       "\\end{tabular}\n"
      ],
      "text/markdown": [
       "\n",
       "| M |   1.0000 |   2.0000 |   3.0000 |   4.0000 | 5.0000   | 6.0000   | 7.0000   | 8.0000   | 9.0000   | 10.0000  | 11.000   | 12.0000  | 13.000   | 14.0000  | 15.0000  | 16.0000  | 17.0000  | 18.0000  | 19.0000  | 20.0000  |\n",
       "| CV-MSE | 756.5056 | 602.9194 | 347.9348 | 144.8953 | 4.1426   | 1.0329   | 1.0142   | 1.0093   | 1.0051   |  1.0041  |  1.003   |  1.0021  |  1.002   |  1.0018  |  1.0018  |  1.0015  |  1.0015  |  1.0015  |  1.0016  |  1.0016  |\n",
       "\n"
      ],
      "text/plain": [
       "       [,1]     [,2]     [,3]     [,4]     [,5]   [,6]   [,7]   [,8]   [,9]  \n",
       "M        1.0000   2.0000   3.0000   4.0000 5.0000 6.0000 7.0000 8.0000 9.0000\n",
       "CV-MSE 756.5056 602.9194 347.9348 144.8953 4.1426 1.0329 1.0142 1.0093 1.0051\n",
       "       [,10]   [,11]  [,12]   [,13]  [,14]   [,15]   [,16]   [,17]   [,18]  \n",
       "M      10.0000 11.000 12.0000 13.000 14.0000 15.0000 16.0000 17.0000 18.0000\n",
       "CV-MSE  1.0041  1.003  1.0021  1.002  1.0018  1.0018  1.0015  1.0015  1.0015\n",
       "       [,19]   [,20]  \n",
       "M      19.0000 20.0000\n",
       "CV-MSE  1.0016  1.0016"
      ]
     },
     "metadata": {},
     "output_type": "display_data"
    },
    {
     "data": {
      "image/png": "[encoded data removed]",
      "text/plain": [
       "plot without title"
      ]
     },
     "metadata": {},
     "output_type": "display_data"
    }
   ],
   "source": [
    "N_l <- 50000\n",
    "set.seed(3)\n",
    "X_l <- gen_x(N = N_l, sample(10:20, p, replace = T))\n",
    "X_l_train_d <- scale(X_l$X_train, center = T, scale = F)\n",
    "X_l_test_d <- scale(X_l$X_test, center = T, scale = F)\n",
    "\n",
    "y_l  <- gen_y(intercept=2, effects=rep(2, 5), X_train = X_l$X_train, X_test = X_l$X_test, sigma_x=X_l$sigma, PC = c(1, 2, 3, 4, 5),random = 0, eps_sd=1) \n",
    "y_l_train <- y_l$y_train\n",
    "\n",
    "pcr_l <- pcr_cv(X=X_l_train_d, Y=y_l_train, k=10)\n",
    "\n",
    "print(\"Number of Principal Components chosen by CV:\")\n",
    "pcr_l$M\n",
    "data <- data.frame(pcr_l$mse_cv)\n",
    "round(t(pcr_l$mse_cv),4)\n",
    "\n",
    "ggplot(data, aes(x = M, y = CV.MSE)) + \n",
    "      theme(plot.title = element_text(hjust = 0.5)) +\n",
    "      geom_point() + geom_line() + ylab(\"CV-MSE\") + geom_vline(xintercept = pcr_l$M, color=\"red\") +\n",
    "      geom_vline(xintercept = 5, color=\"blue\", linetype=\"dashed\") +\n",
    "      ggtitle(\"Cross-Validation MSE per number of included PCs\") + scale_x_continuous(breaks = 1:20)"
   ]
  },
  {
   "cell_type": "markdown",
   "metadata": {},
   "source": [
    "Visually, the CV-MSE starts becoming a flat horizontal line when the \"true\" number of principal components is reached at $M = 5$. With such sample sizes, eyeballing the CV-MSE might be more likely to identify an \"appropriate\" number of principal components to include. The minimum criterion, however, may not ensure such identifcation: in the case at hand, $M=18$ would be chosen. Further note, the CV-MSE with 6 principal components is distincly smaller than CV-MSE with 5 principal components. Given the large sample size, the indentification issue improves, but still, the empirically obtained principal components do not exactly resemble the \"true\" eigenvectors used when generating $Y$."
   ]
  },
  {
   "cell_type": "markdown",
   "metadata": {},
   "source": [
    "Returning to the case with $N = 500$, we would like to evaluate the performance on the held-out test data set. Therefore, we compare the Test-MSE of OLS to the one obtained with CV (i.e. with 15 principal components). Additionally, the Test-MSEs are displayed for including all available components (i.e. from including only the first principal component up to including all principal components)."
   ]
  },
  {
   "cell_type": "code",
   "execution_count": 16,
   "metadata": {},
   "outputs": [
    {
     "data": {
      "text/html": [
       "<table>\n",
       "<thead><tr><th scope=col>Test-MSE OLS</th><th scope=col>Test-MSE PCR/CV</th></tr></thead>\n",
       "<tbody>\n",
       "\t<tr><td>1.0496</td><td>3.4815</td></tr>\n",
       "</tbody>\n",
       "</table>\n"
      ],
      "text/latex": [
       "\\begin{tabular}{ll}\n",
       " Test-MSE OLS & Test-MSE PCR/CV\\\\\n",
       "\\hline\n",
       "\t 1.0496 & 3.4815\\\\\n",
       "\\end{tabular}\n"
      ],
      "text/markdown": [
       "\n",
       "| Test-MSE OLS | Test-MSE PCR/CV |\n",
       "|---|---|\n",
       "| 1.0496 | 3.4815 |\n",
       "\n"
      ],
      "text/plain": [
       "     Test-MSE OLS Test-MSE PCR/CV\n",
       "[1,] 1.0496       3.4815         "
      ]
     },
     "metadata": {},
     "output_type": "display_data"
    },
    {
     "data": {
      "text/html": [
       "<table>\n",
       "<tbody>\n",
       "\t<tr><th scope=row>M</th><td>  1</td><td>  2</td><td>  3</td><td>  4</td><td>  5</td><td> 6 </td><td>7  </td><td>8  </td><td>9  </td><td>10 </td><td>11 </td><td>12 </td><td>13 </td><td>14 </td><td>15 </td><td>16 </td><td>17 </td><td>18 </td><td>19 </td><td>20 </td></tr>\n",
       "\t<tr><th scope=row>Test-MSE</th><td>696</td><td>541</td><td>411</td><td>226</td><td>226</td><td>26 </td><td>8  </td><td>4  </td><td>4  </td><td> 4 </td><td> 4 </td><td> 4 </td><td> 4 </td><td> 4 </td><td> 3 </td><td> 3 </td><td> 3 </td><td> 3 </td><td> 3 </td><td> 3 </td></tr>\n",
       "</tbody>\n",
       "</table>\n"
      ],
      "text/latex": [
       "\\begin{tabular}{r|llllllllllllllllllll}\n",
       "\tM &   1 &   2 &   3 &   4 &   5 &  6  & 7   & 8   & 9   & 10  & 11  & 12  & 13  & 14  & 15  & 16  & 17  & 18  & 19  & 20 \\\\\n",
       "\tTest-MSE & 696 & 541 & 411 & 226 & 226 & 26  & 8   & 4   & 4   &  4  &  4  &  4  &  4  &  4  &  3  &  3  &  3  &  3  &  3  &  3 \\\\\n",
       "\\end{tabular}\n"
      ],
      "text/markdown": [
       "\n",
       "| M |   1 |   2 |   3 |   4 |   5 |  6  | 7   | 8   | 9   | 10  | 11  | 12  | 13  | 14  | 15  | 16  | 17  | 18  | 19  | 20  |\n",
       "| Test-MSE | 696 | 541 | 411 | 226 | 226 | 26  | 8   | 4   | 4   |  4  |  4  |  4  |  4  |  4  |  3  |  3  |  3  |  3  |  3  |  3  |\n",
       "\n"
      ],
      "text/plain": [
       "         [,1] [,2] [,3] [,4] [,5] [,6] [,7] [,8] [,9] [,10] [,11] [,12] [,13]\n",
       "M          1    2    3    4    5   6   7    8    9    10    11    12    13   \n",
       "Test-MSE 696  541  411  226  226  26   8    4    4     4     4     4     4   \n",
       "         [,14] [,15] [,16] [,17] [,18] [,19] [,20]\n",
       "M        14    15    16    17    18    19    20   \n",
       "Test-MSE  4     3     3     3     3     3     3   "
      ]
     },
     "metadata": {},
     "output_type": "display_data"
    },
    {
     "name": "stdout",
     "output_type": "stream",
     "text": [
      "[1] \"Training-MSE OLS:\"\n"
     ]
    },
    {
     "data": {
      "text/html": [
       "1.03529248008105"
      ],
      "text/latex": [
       "1.03529248008105"
      ],
      "text/markdown": [
       "1.03529248008105"
      ],
      "text/plain": [
       "[1] 1.035292"
      ]
     },
     "metadata": {},
     "output_type": "display_data"
    },
    {
     "name": "stdout",
     "output_type": "stream",
     "text": [
      "[1] \"Training-MSE with M=20:\"\n"
     ]
    },
    {
     "data": {
      "text/html": [
       "1.03529248008105"
      ],
      "text/latex": [
       "1.03529248008105"
      ],
      "text/markdown": [
       "1.03529248008105"
      ],
      "text/plain": [
       "[1] 1.035292"
      ]
     },
     "metadata": {},
     "output_type": "display_data"
    }
   ],
   "source": [
    "# OLS\n",
    "X_t <- cbind(rep(1, nrow(X$X_train)), X$X_train)\n",
    "beta_ols <- solve(t(X_t) %*% X_t) %*% t(X_t) %*% y_train\n",
    "mse_train_ols <- mean((cbind(rep(1, nrow(X$X_train)), X$X_train) %*% beta_ols - y_train)**2)\n",
    "mse_test_ols <- mean((cbind(rep(1, nrow(X$X_test)), X$X_test) %*% beta_ols - y_test)**2)\n",
    "\n",
    "# PCR with 15 PCs (CV solution)\n",
    "Z <- cbind(rep(1, nrow(X$X_test)),X_test_d  %*% pcr$cv_vectors)\n",
    "mse_test_pcrCV <- mean((Z %*% pcr$beta_hat - y_test) ** 2)\n",
    "\n",
    "res1 <- matrix(c(mse_test_ols, mse_test_pcrCV), nrow = 1)\n",
    "colnames(res1) <- c(\"Test-MSE OLS\", \"Test-MSE PCR/CV\")\n",
    "\n",
    "# Test MSEs for M= 1 , ..., 20\n",
    "mse_m <- matrix(NA, ncol=20, nrow=2)\n",
    "for (m in 1:20) {\n",
    "    pcr_m <- pcr_comp(X = X_train_d, Y=y_train, M=m)\n",
    "    Z <- cbind(rep(1, nrow(X$X_test)),X_test_d  %*% pcr_m$vectors)\n",
    "    mse_m[1, m] <- m\n",
    "    mse_m[2, m] <- mean((Z %*% pcr_m$beta_hat - y_test) ** 2) \n",
    "}\n",
    "\n",
    "rownames(mse_m) <- c(\"M\", \"Test-MSE\")\n",
    "\n",
    "round(res1, 4)\n",
    "round(mse_m, 0)\n",
    "\n",
    "print(\"Training-MSE OLS:\")\n",
    "mse_train_ols\n",
    "print(\"Training-MSE with M=20:\")\n",
    "pcr_comp(X = X_train_d, Y=y_train, M=20)$mse_train\n"
   ]
  },
  {
   "cell_type": "markdown",
   "metadata": {},
   "source": [
    "Clearly, the OLS Test-MSE performs better than any Principal Component Regression. Notably, even PCR with $M=20$, i.e. no dimensionality reduction, yields a higher Test-MSE than OLS. Such a finding may cast doubts about the reliability of the employed functions. However, both, OLS and PCR with $M=20$, yield the same MSE when being applied to the training data, backing the validity of the functions.\n",
    "\n",
    "This result could be due to the fact that $P << N$ anyway since $N=500$ and $P=20$, so overfitting is likely not to be a major issue. Therefore, it is worth investigating this more thoroughly in a short simulating study featuring situations with different relations of $M$ to $P$."
   ]
  },
  {
   "cell_type": "code",
   "execution_count": 17,
   "metadata": {},
   "outputs": [],
   "source": [
    "sim_func <- function(N, P, intercept, effects, PC, random_effects, eps_sd, k, M_true) {\n",
    "  X <- gen_x(N = N, sample(10:20, size=P, replace = T))\n",
    "  X_train_d <- scale(X$X_train, center = T, scale = F)\n",
    "  X_test_d <- scale(X$X_test, center = T, scale = F)\n",
    "  \n",
    "  y  <- gen_y(intercept=intercept, effects=effects, PC = PC,random = random_effects, eps_sd=eps_sd, X_train = X$X_train, X_test = X$X_test, sigma_x=X$sigma) \n",
    "  y_train <- y$y_train\n",
    "  y_test <- y$y_test\n",
    "  \n",
    "  # PCR / CV\n",
    "  pcr <- pcr_cv(X=X_train_d, Y=y_train, k=k)\n",
    "  Z <- cbind(rep(1, nrow(X$X_test)),X_test_d  %*% pcr$cv_vectors)\n",
    "  mse_test_pcr <- mean((Z %*% pcr$beta_hat - y_test) ** 2)\n",
    "\n",
    "  # OLS  \n",
    "  X_t <- cbind(rep(1, nrow(X$X_test)), X$X_train)\n",
    "  beta_ols <- solve(t(X_t) %*% X_t) %*% t(X_t) %*% y_train\n",
    "  mse_test_ols <- mean((cbind(rep(1, nrow(X$X_test)), X$X_test) %*% beta_ols - y_test) ** 2)\n",
    "  \n",
    "  return(list(mse_test_ols = mse_test_ols, mse_test_pcr = mse_test_pcr,  M = pcr$M))\n",
    "}"
   ]
  },
  {
   "cell_type": "code",
   "execution_count": 18,
   "metadata": {},
   "outputs": [
    {
     "name": "stdout",
     "output_type": "stream",
     "text": [
      "        N  MSE_OLS   MSE_PCR selected M (CV)\n",
      " [1,] 100 4.337097 1889.5534        71.13333\n",
      " [2,] 150 2.024601  894.0520        71.43333\n",
      " [3,] 200 1.677073  657.9526        71.16667\n",
      " [4,] 250 1.437503  635.5263        70.96667\n",
      " [5,] 300 1.394630  615.0815        71.36667\n",
      " [6,] 350 1.292753  443.9391        70.86667\n",
      " [7,] 400 1.226653  266.9790        71.00000\n",
      " [8,] 450 1.198496  341.1359        70.23333\n",
      " [9,] 500 1.164872  148.3759        71.03333\n"
     ]
    }
   ],
   "source": [
    "reps <- 30\n",
    "res <- matrix(NA, nrow=9, ncol=4)\n",
    "colnames(res) <- c(\"N\",\"MSE_OLS\", \"MSE_PCR\", \"selected M (CV)\")\n",
    "\n",
    "x <- 1\n",
    "for (n in seq(100, 500, by=50)) {\n",
    "  simulation <-\n",
    "    replicate(reps, sim_func(\n",
    "      N = n, \n",
    "      P = 75, \n",
    "      intercept= 0, \n",
    "      effects = sample(5:10, size=5, replace=T), \n",
    "      PC = 1:5, \n",
    "      random_effects = 0, \n",
    "      eps_sd = 1, \n",
    "      k = 5))\n",
    "  \n",
    "  sim <-  mapply(simulation, FUN = as.numeric)\n",
    "  sim <- matrix(data = sim, ncol = reps)\n",
    "  mean_values <- rowMeans(sim)\n",
    "  \n",
    "  res[x, 1] <- n\n",
    "  res[x, 2] <- mean_values[1]\n",
    "  res[x, 3] <- mean_values[2]\n",
    "  res[x, 4] <- mean_values[3]\n",
    "\n",
    "  x <- x + 1 \n",
    "}\n",
    "\n",
    "print(res)"
   ]
  },
  {
   "cell_type": "code",
   "execution_count": null,
   "metadata": {},
   "outputs": [],
   "source": []
  },
  {
   "cell_type": "markdown",
   "metadata": {},
   "source": [
    "But even with $P=75$ and $N$ starting from 100, the OLS Test-MSE clearly dominates the Test-MSE of PCR with the number of components chosen by CV. Similarly to the discussion above, the CV approach based on the absolute minimum of the CV-MSE yields only a slight dimensionality reduction as still more than 70 principal components are retained on average over the 30 replications of this simulation study. So even in this situation deemed suitable for the PCR, its performance in predicting the outcome is inferior to the OLS approach."
   ]
  },
  {
   "cell_type": "markdown",
   "metadata": {},
   "source": [
    "<a id='application'></a>\n",
    "## 3.) Empirical Application: The Construction of a Wealth Index using PCA\n",
    "\n",
    "So far, we discussed the motivation for using Principal Component Analysis, its properties and its usage in the regression context. This section aims to illustrate a way that PCA is currently utilised in economics, specifically in development economics. There, the dimensionality reduction feature of PCA is exploited to construct a proxy variable indicating household wealth or long-run economic status from several survey items related to aspects such as asset ownership, materials used for housing construction or the kind of drinking water supply. The created wealth index is then employed to study the extent to which economic inequality prevails or in order to relate household welfare to another variable such as educational outcomes of children (e.g. McKenzie, 2005, or Filmer/Pritchett, 2001). In a most recent example, Brock (2020) constructs such an index using PCA to study the association of \"unfair\" wealth inequality and fairness beliefs based on survey data collected predominantly in former communist countries. This section proceeds by outlining the probelem motivating the use of PCA in this context as well as potential pitfalls.\n",
    "\n",
    "*(a) Motivation und Conceptual Framework*\n",
    "\n",
    "Development economists are often interested in the economic status of a household to study its effect on various aspects or just to gain descriptive evidence of economic inequality. While it can be debated what exactly is captured by the concept of economic status, it is commonly assumed that there is a single underlying dimension that determines the economic status of a household. An example of such a univariate concept would be Friedman's permanent income hypothesis (Friedman, 1957). He distinguishes permanent and transitory income and claims that it is the former which defines the long-run economic status of a household. According to Friedman, permanent income, which arises from human and production capital, predominantly explains consumption expenditure patterns - at least in an economy without credit constraints. \n",
    "\n",
    "According to this theory, one would be inclined to measure the economic status of a household using income or consumption expenditures over a longer time frame to proxy for the theoretical concept of permanent income which is itself not directly measurable. In the development context, however, there are two issues that render this infeasible in many cases. First, survey data collected in developing countries often goes along with reporting errors that rule out the usage of income or consumption data. Secondly, and more fundamentally, surveys conducted in developing countries commonly do not even contain questions with respect to those aspects. One example is the Demographic and Health Survey (DHS): conducted in a broad range of developing countries with a nationally-representative household samples, these data are frequently used in development studies but do not generally contain information on household consumption expenditure or income.\n",
    "\n",
    "Nevertheless, those survey data collected in developing countries usually include information regarding an household's ownership of certain assets, such as a bicycle or a refrigerator, or with respect to housing standards, e.g. the materials used for housing construction, or other aspects related to the standard of living, such as the form of drinking water supply infrastructure. Therefore, the idea is to combine those separate survey items in order to construct a single proxy variable for economic status, usually referred to as wealth index. While those survey questions might be less prone to reporting errors compared to questions regarding income or expenditure, the issue of measurement error prevails as the underlying fundamental factor is in any case only imperfectly captured. Practically, the question remains how the different items shall be combined to form a single index variable. It is not obvious which weights to assign to different items. The most simple approach would be to assign equal weights to all items such as just summing them up. While at first glance this could be viewed as a pragmatic approach, it is in fact completely arbitrary: why should owning a bicyle receive the same weight as owning a car? Another way of assigning weights could be to use monetary values which is practically infeasible as only the pure existence of an asset in an household is elicited with no information on quantity or quality.\n",
    "\n",
    "Filmer and Pritchett (2001) were among the first to address this issue of determining appropriate weights based on PCA. Intuitively, PCA identifies predominant variables that underlie the covariance structure of the data. If we assume that it is in fact the unobservable (latent) factor \"economic status\" that explains the maximum variation in the variables capturing asset ownership and living standards, it is appropriate to treat the first principal component as an index of household wealth. To make this more explicit, one can adapt a simple framework from structural equation modelling. Again, assume that we collected data on $i = 1, \\dots, N$ households with $j = 1, \\dots, P$ survey items each. The realisations of the variables $x_1,\\dots,x_j,\\dots, x_P$ would be determined by the common latent factor $\\xi \\,$:\n",
    "\n",
    "$$ x_{ij} = \\xi_i \\omega_j + \\Delta_{ij} \\text{ , } $$\n",
    "\n",
    "where $\\xi_i$ is the unobserved economic status of household $i$, $\\omega_{j}$ is the factor loading specific to variable $j$ and $\\Delta_i = (\\Delta_{i1}, \\dots, \\Delta_{iP})$ denotes the error terms of household $i$ and variables $j=1, \\dots, P$. Note that this framework will later be picked up in a short simulation study.\n",
    "\n",
    "*(b) Pitfalls when Constructing a Wealth Index based on PCA*\n",
    "\n",
    "In this subsection, the potential pitafalls of constructing a wealth index using PCA shall only be discussed very briefly. Their are emphasised in more detail in the following section.\n",
    "\n",
    "*(i) \"Perverse\" Ranking of PCA Scores*\n",
    "\n",
    "First, and in fact worrisome, it has to be noted that the PCA approach does not guarantee an ordinal ranking. Wittenberg and Leibbrandt (2017) show in a numerical example with two dummy variables indicating ownership of distinct assets that the PCA scores can, under certain circumstances, bring about a \"perverse\" ranking in which one asset receives negative weights and would be viewed as a \"bad\" rather than a good. In this case, holding no asset at all would yield a higher score than holding this \"bad\" and similarly, holding both goods is inferior to holding only the \"good\" good. Obviously, this violates the common view in economics in which an ordinal ranking should be obtained which ensures that holding more goods in absolute terms is associated with higher wealth. As already statet, this issue is picked up below.\n",
    "\n",
    "*(ii) Discrete Variables*\n",
    "\n",
    "The second issue relates to the discreteness of the variables elicited in the survey. While asset ownership is usually encoded in dummy variables, the variables related to housing or drinking water supply are ordinal, where categories can be ordered to reflect some kind of natural ranking of the quality of the materials used for housing construction or the convenience of the access to drinking water. Further, there may also be some variables that can be considered continuous (metric variables). Purely categorical variables without natural ordering are rather rare and shall not be considered in the following. Certainly, when applying PCA to a mixture of binary, ordinal and continuous variables, those variables need to be standardised before. But still, PCA is designated to be applied to continuous variables that are (at least approximately) multivariate normal. Obviously, discrete data are not in line with these distributional assumptions. Apart from not being continuous, they also tend to exhibit high kurtosis and skewness, especially if data points are not evenly spread across the categories of the variables.\n",
    "\n",
    "There are also different approaches in the respective literature whether ordinal variables should be converted into dummy variables indicating the different categories (one-hot encoding). This procedure was proposed by Filmer and Pritchett (2001) and later criticised by Kolenikov and Angeles (2009). As the dummy variables relating to the same ordinal variable are negatively correlated, a spurious correlation is introduced which makes it harder for the PCA to retrieve the underlying latent factor \"economic status\". Nevertheless, the impact of this spurious dependency due to dummy coding is expected to decline with the number of categories. Further, the use of dummy encoding discards all the infomation contained in the ordinal ranking which cannot be efficient (Kolenikov and Angeles, 2009, 138). The alternative would be to include the ordinal variables in the PCA procedure as they are. This will be further illustrated in the simulation study in the following section.\n",
    "\n",
    "*(iii) Multiple Latent Factors*\n",
    "\n",
    "Lastly, the assumption that the covariance structure of the data is driven by the latent factor \"economic status\" is essentially untestable. Put differently, it is not guaranteed that the obtained first principal component actually retrieves a ranking according to household wealth. The existence of a second latent factor could invalidate the whole approach. This will also be emphasised later on."
   ]
  },
  {
   "cell_type": "markdown",
   "metadata": {},
   "source": [
    "<a id='lab2'></a>\n",
    "## Lab 2\n",
    "\n",
    "*(i) \"Perverse\" Ranking of PCA Scores*\n",
    "\n",
    "First, consider the simple numercial example with $N=100$ households being asked about their ownership status of two different assets $X_1$ and $X_2$. The distribution and the corresponding correlation matrix is displayed below."
   ]
  },
  {
   "cell_type": "code",
   "execution_count": 19,
   "metadata": {},
   "outputs": [
    {
     "name": "stdout",
     "output_type": "stream",
     "text": [
      "[1] \"Frequencies:\"\n"
     ]
    },
    {
     "data": {
      "text/plain": [
       "   X2\n",
       "X1   0  1\n",
       "  0 10 20\n",
       "  1 50 20"
      ]
     },
     "metadata": {},
     "output_type": "display_data"
    },
    {
     "name": "stdout",
     "output_type": "stream",
     "text": [
      "[1] \"Correlation Matrix:\"\n"
     ]
    },
    {
     "data": {
      "text/html": [
       "<table>\n",
       "<thead><tr><th></th><th scope=col>X1</th><th scope=col>X2</th></tr></thead>\n",
       "<tbody>\n",
       "\t<tr><th scope=row>X1</th><td> 1.0000000</td><td>-0.3563483</td></tr>\n",
       "\t<tr><th scope=row>X2</th><td>-0.3563483</td><td> 1.0000000</td></tr>\n",
       "</tbody>\n",
       "</table>\n"
      ],
      "text/latex": [
       "\\begin{tabular}{r|ll}\n",
       "  & X1 & X2\\\\\n",
       "\\hline\n",
       "\tX1 &  1.0000000 & -0.3563483\\\\\n",
       "\tX2 & -0.3563483 &  1.0000000\\\\\n",
       "\\end{tabular}\n"
      ],
      "text/markdown": [
       "\n",
       "| <!--/--> | X1 | X2 |\n",
       "|---|---|---|\n",
       "| X1 |  1.0000000 | -0.3563483 |\n",
       "| X2 | -0.3563483 |  1.0000000 |\n",
       "\n"
      ],
      "text/plain": [
       "   X1         X2        \n",
       "X1  1.0000000 -0.3563483\n",
       "X2 -0.3563483  1.0000000"
      ]
     },
     "metadata": {},
     "output_type": "display_data"
    }
   ],
   "source": [
    "X1 <- c(rep(1, 70), rep(0, 30))\n",
    "X2 <- c(rep(0, 50), rep(1, 20), rep(0, 10), rep(1, 20))\n",
    "X <- cbind(X1, X2)\n",
    "\n",
    "print(\"Frequencies:\")\n",
    "table(X1, X2)\n",
    "print(\"Correlation Matrix:\")\n",
    "cor(X)"
   ]
  },
  {
   "cell_type": "markdown",
   "metadata": {},
   "source": [
    "The two variables are negatively correlated. Printed below are the corresponding principal components obtained after standardising the data. The first principal component assigns a negative sign to the first variable, the \"bad\". Note that as the sign patterns of the principal components loadings are arbitrary, one could also switch that and consider the second variable as the \"bad\".\n",
    "\n",
    "Clearly, the ranking of the PCA scores does not satisfy monotonicity as it is commonly required in economics: having more \"goods\" must be better than have less. Instead, one obtains the \"perverse\" ranking: $(1, 0) \\prec (1, 1) \\prec (0,0) \\prec (0, 1)$. PCA correctly identifies the negative correlation between the assets and as it is aimed at finding the linear combination with maximal variance, it solves this issue by interpreting one good as a \"bad\"."
   ]
  },
  {
   "cell_type": "code",
   "execution_count": 20,
   "metadata": {},
   "outputs": [
    {
     "name": "stdout",
     "output_type": "stream",
     "text": [
      "[1] \"Principal Components:\"\n"
     ]
    },
    {
     "data": {
      "text/html": [
       "<table>\n",
       "<thead><tr><th scope=col>PC1</th><th scope=col>PC2</th></tr></thead>\n",
       "<tbody>\n",
       "\t<tr><td>-0.7071068</td><td>-0.7071068</td></tr>\n",
       "\t<tr><td> 0.7071068</td><td>-0.7071068</td></tr>\n",
       "</tbody>\n",
       "</table>\n"
      ],
      "text/latex": [
       "\\begin{tabular}{ll}\n",
       " PC1 & PC2\\\\\n",
       "\\hline\n",
       "\t -0.7071068 & -0.7071068\\\\\n",
       "\t  0.7071068 & -0.7071068\\\\\n",
       "\\end{tabular}\n"
      ],
      "text/markdown": [
       "\n",
       "| PC1 | PC2 |\n",
       "|---|---|\n",
       "| -0.7071068 | -0.7071068 |\n",
       "|  0.7071068 | -0.7071068 |\n",
       "\n"
      ],
      "text/plain": [
       "     PC1        PC2       \n",
       "[1,] -0.7071068 -0.7071068\n",
       "[2,]  0.7071068 -0.7071068"
      ]
     },
     "metadata": {},
     "output_type": "display_data"
    },
    {
     "name": "stdout",
     "output_type": "stream",
     "text": [
      "[1] \"Wealth Index based on 1st PC:\"\n"
     ]
    },
    {
     "data": {
      "text/html": [
       "<table>\n",
       "<thead><tr><th scope=col>X1</th><th scope=col>X2</th><th scope=col>PC Score</th></tr></thead>\n",
       "<tbody>\n",
       "\t<tr><td>1         </td><td>0         </td><td>-1.0350459</td></tr>\n",
       "\t<tr><td>1         </td><td>1         </td><td> 0.4010947</td></tr>\n",
       "\t<tr><td>0         </td><td>0         </td><td> 0.5002530</td></tr>\n",
       "\t<tr><td>0         </td><td>1         </td><td> 1.9363937</td></tr>\n",
       "</tbody>\n",
       "</table>\n"
      ],
      "text/latex": [
       "\\begin{tabular}{lll}\n",
       " X1 & X2 & PC Score\\\\\n",
       "\\hline\n",
       "\t 1          & 0          & -1.0350459\\\\\n",
       "\t 1          & 1          &  0.4010947\\\\\n",
       "\t 0          & 0          &  0.5002530\\\\\n",
       "\t 0          & 1          &  1.9363937\\\\\n",
       "\\end{tabular}\n"
      ],
      "text/markdown": [
       "\n",
       "| X1 | X2 | PC Score |\n",
       "|---|---|---|\n",
       "| 1          | 0          | -1.0350459 |\n",
       "| 1          | 1          |  0.4010947 |\n",
       "| 0          | 0          |  0.5002530 |\n",
       "| 0          | 1          |  1.9363937 |\n",
       "\n"
      ],
      "text/plain": [
       "     X1 X2 PC Score  \n",
       "[1,] 1  0  -1.0350459\n",
       "[2,] 1  1   0.4010947\n",
       "[3,] 0  0   0.5002530\n",
       "[4,] 0  1   1.9363937"
      ]
     },
     "metadata": {},
     "output_type": "display_data"
    }
   ],
   "source": [
    "print(\"Principal Components:\")\n",
    "PCs <- eigen(cor(X))$vectors\n",
    "colnames(PCs) <- c(\"PC1\", \"PC2\")\n",
    "PCs\n",
    "\n",
    "print(\"Wealth Index based on 1st PC:\")\n",
    "X <- cbind(X, scale(X, center=T, scale=T) %*% PCs[,1])\n",
    "colnames(X)[3] <- \"PC Score\"\n",
    "X[c(1, 51, 71, 81),]"
   ]
  },
  {
   "cell_type": "markdown",
   "metadata": {},
   "source": [
    "Wittenberg and Leibbrandt (2017) note that this happens quite often in practice. They illustrate the example of ownership of cattle in South Africa which is frequently negatively correlated with other asset types. As an explanation, they note that cattle is usually a \"rural\" asset while other assets need the connection to the elctricity grid which is often not warranted in rural areas."
   ]
  },
  {
   "cell_type": "markdown",
   "metadata": {},
   "source": [
    "*(ii) Discrete Variables*\n",
    "\n",
    "The second issue to be illustrated in this section is the effect of discretisation on the performance of PCA in identifying the underlying common factor \"household economic status\". Therefore, we need to set up a data generating process. Drawing on Kolenikov and Angeles (2009) as well as Yoon and Krivobokova (2017), consider the following set-up.\n",
    "\n",
    "We assume that there is a latent factor $\\xi$, in our context household economic status, which determines variables indicating asset ownership or other aspects of living standards. To elicit the effect of the discrete nature of those variables, we suppose that the relationship can be described as the latent factor determining continuous variables $x_j^\\ast$ which are then discretised and become the observed variables $x_j$. Thus, \n",
    "\n",
    "$$ x_{ij}^\\ast = \\xi_i \\omega_j + \\Delta_{ij} \\text{ , } i = 1, \\dots , N, j = 1, \\dots, P  \\text{ , }$$\n",
    "\n",
    "where the latent factor $\\xi_i \\sim N(0,1)$, its factor loadings $\\omega_j = 1 / \\sqrt P, j= 1, \\dots, P$ and $\\Delta_i = (\\Delta_{i1}, \\dots, \\Delta_{iP}) \\sim N_P(0_P, \\pmb I_P / (4P))$. Hence, the signal-to-noise ratio is $ \\sqrt{\\sum_{j=1}^P Var(\\xi_i \\omega_j) / \\sum_{j=1}^P Var(\\Delta_{ij})} = 2$. \n",
    "\n",
    "Then, a certain fraction of the variables $X_1^\\ast, \\dots, X_P^\\ast$ is discretised. The discretisation if $X_j^\\ast$ with unique categories $m_j$ is conducted as follows:\n",
    "\n",
    "$$ x_{ij} = \\begin{cases}\n",
    "            m_j - 1 \\text{ , if  } \\tau_{j, m_j -1} < x_{ij}^\\ast \\\\\n",
    "            m_j - 2 \\text{ , if  } \\tau_{j, m_j -2} < x_{ij}^\\ast \\leq \\tau_{j, m_j -1} \\\\\n",
    "            \\vdots \\\\\n",
    "            1 \\quad \\quad \\text{ , if  } \\tau_{j, 1} < x_{ij}^\\ast \\leq \\tau_{j, 2} \\\\\n",
    "            0 \\quad \\quad \\text{ , if  } x_{ij}^\\ast \\leq \\tau_{j, 1}  \\\\\n",
    "          \\end{cases} \\text{   ,}$$\n",
    "          \n",
    "where $\\tau_j = (\\tau_{j,1} , \\dots, \\tau_{j, m_j -1})$ are randomly generated thresholds for $x_{ij}^\\ast$ with $\\tau_j = (\\tau_{j,1} , \\dots, \\tau_{j, m_j -1}) = (F^{-1}(u_{j,1}), \\dots, F^{-1}(u_{j,m_j -1}))$, where $F$ is the empirical cumulative distribution function of $x_{ij}^\\ast$ and $u_{j,1}, \\dots, u_{j, m_j -1}$ are random draws from the uniform distribution on $[0,1]$ sorted in ascending order. The number of categories $m_j$ are random draws from the Poisson distribution to which then 2 is added to ensure at least two distinct categories in a variable. The parameters are generally set as follows: $N=1000$, $P=50$ of which 80\\% arediscrete variables and the rest is continuous.  The baseline mean of the Poisson distribution is set to $\\lambda_{Pois} = 1$ which ensures a large number of dummy variables and otherwise ordinal variables that have a relatively small number of categories. \n",
    "\n",
    "Given this data generating process, two distinct questions shall be answered: How well does the wealth index based on PCA capture the distribution of the latent factor? And what is the effect of discretisation, to which extent does it worsen the performance of PCA?\n",
    "\n",
    "The first question is addressed using two measures. The first measure is Spearman's rank correlation of the wealth index with the underlying latent factor. The second measure is the overall misclassification rate. For this, household get assigned their quintile both based on their \"true\" economic status as well as based on the obtained wealth index. The overall miscalssification rate then gives the fraction of households for which the quintile rank does not match.\n",
    "\n",
    "The second question is addressed by comparing three different wealth indices. The first one is obtained by applying PCA to the variables before discretisation. This functions as a baseline since it resembles the case without bias due to discretisation - but is of course only feasible in a simulation study and not in practice. The other two indices deal with the discrete nature of the actually observable variables: the ordinal approach does not perform any manipulations on the discrete variables (except for standardization which is done in all three cases) and lastly dummy approach, i.e. the one with one-hot encoding of the ordinal variables as proposed by Filmer and Pritchett (2001).\n",
    "\n",
    "We start out short simulation study by varying the fraction of discrete variables from only 10\\% of the 50 variables (i.e. 5 out of 50) to 90\\% (i.e. 45 out 50). It is expected that the performance of the dummy and the ordinal approach should drop off compared to the baseline. The corresponding boxplot graphs based on 50 replications are presented below. "
   ]
  },
  {
   "cell_type": "code",
   "execution_count": 21,
   "metadata": {},
   "outputs": [],
   "source": [
    "dgp <- function(N, K, nts_r = 2, factors = 1, var_2 = 0.01) {\n",
    "  \n",
    "  loadings <- 1 / sqrt(K)\n",
    "  sigma_delta <- diag(rep(1/((nts_r^2)*K), K), nrow=K, ncol=K)\n",
    "  sigma_m <- rmvnorm(n=N, mean = rep(0, K), sigma = sigma_delta)\n",
    "  \n",
    "  if (factors == 1) {\n",
    "    \n",
    "    xi <- rnorm(N, mean = 0, sd = 1)\n",
    "    x_star_m <- loadings * matrix(data = rep(xi, K), nrow=N, ncol=K, byrow=F) + sigma_m\n",
    "    \n",
    "  } else {\n",
    "    \n",
    "    loadings2 <- orth(loadings)\n",
    "    stopifnot(length(unique(loadings2))==1)\n",
    "    loadings2 <- loadings2[1]\n",
    "\n",
    "    xi_1_2 <- rmvnorm(N, mean=rep(0, 2), sigma=matrix(c(1, 0, 0, var_2), nrow=2, ncol=2, byrow=T))\n",
    "    xi <- xi_1_2[,1]\n",
    "    \n",
    "    x_star_m <- loadings * matrix(data = rep(xi, K), nrow=N, ncol=K, byrow=F) + loadings2 * matrix(data = rep(xi_1_2[,2], K), nrow=N, ncol=K, byrow=F) + sigma_m\n",
    "    \n",
    "  }\n",
    "  \n",
    "  colnames(x_star_m) <- paste(\"x_star\", 1:K, sep=\"\")\n",
    "  \n",
    "  return(list(x_star=x_star_m, xi = xi))\n",
    "}"
   ]
  },
  {
   "cell_type": "code",
   "execution_count": 22,
   "metadata": {},
   "outputs": [],
   "source": [
    "discretisation <- function(fract_discrete, x_star_m, lambda_pois) {\n",
    "  N <- dim(x_star_m)[1]\n",
    "  K <- dim(x_star_m)[2]\n",
    "  \n",
    "  x_discrete <- 1:floor(fract_discrete*K)\n",
    "  x_continuous <- (floor(fract_discrete*K) + 1):K\n",
    "  \n",
    "  m <- rpois(length(x_discrete), lambda = lambda_pois) + 2\n",
    "  \n",
    "  x <- cbind(x_star_m, matrix(NA, nrow=N, ncol=length(x_discrete)))\n",
    "  \n",
    "  for (j in x_discrete) {\n",
    "    mj <- m[j]\n",
    "    u <- sort(runif((mj-1), min=0.0, max=1))\n",
    "    \n",
    "    x[,K+j][x[,j] <= quantile(x[,j], u[1])] <- 0\n",
    "      \n",
    "      for (num in 1:length(u)) {\n",
    "        x[,K+j][x[,j] > quantile(x[,j], u[num])] <- num\n",
    "      }\n",
    "  }\n",
    "  \n",
    "  if (floor(fract_discrete*K) < K) {\n",
    "    x <-  cbind(x, x_star_m[,x_continuous])\n",
    "  }\n",
    "  \n",
    "  colnames(x)[(K+1):(K+K)] <- paste(\"X\", 1:K, sep=\"\")\n",
    "\n",
    "  return(x)\n",
    "}"
   ]
  },
  {
   "cell_type": "code",
   "execution_count": 23,
   "metadata": {},
   "outputs": [],
   "source": [
    "sim_func2 <- function(N, K, factors, nts_r, var_2, fract_discrete, lambda_pois) {\n",
    "    \n",
    "  data <- dgp(N=N, K=K, nts_r = nts_r, factors = factors, var_2 = var_2)\n",
    "  x_star <- data$x_star\n",
    "  xi <- data$xi\n",
    "  \n",
    "  x <- discretisation(fract_discrete = fract_discrete, x_star_m = x_star, lambda_pois = lambda_pois)\n",
    "  x_obs <- x[,(K+1):(K+K)]\n",
    "  \n",
    "  # baseline: PCA on (unobservable) continuous variables x*\n",
    "  x_star_std <- scale(x_star)\n",
    "  cont_pca <- prco(x_star_std)\n",
    "  cont_pca_scores <- x_star_std %*% cont_pca$vectors[,1]\n",
    "  rank_cor_baseline <- cor.test(xi, cont_pca_scores, method=\"spearman\")$estimate\n",
    "  if (rank_cor_baseline < 0) {\n",
    "    rank_cor_baseline <- - rank_cor_baseline\n",
    "    cont_pca_scores <- cont_pca_scores * -1\n",
    "  }\n",
    "\n",
    "  # ordinal PCA: treat variables as if they were continuous\n",
    "  x_obs_std <- scale(x_obs)\n",
    "  ord_pca <- prco(x_obs_std)\n",
    "  ord_pca_scores <- x_obs_std %*% ord_pca$vectors[,1]\n",
    "  rank_cor_ord <- cor.test(xi, ord_pca_scores, method=\"spearman\")$estimate\n",
    "  if (rank_cor_ord < 0) {\n",
    "    rank_cor_ord <- - rank_cor_ord\n",
    "    ord_pca_scores <- ord_pca_scores * -1\n",
    "  }\n",
    "\n",
    "  # dummy PCA\n",
    "  discrete_vars <- 1:floor(fract_discrete*K)\n",
    "  \n",
    "  if (floor(fract_discrete*K) < K) {\n",
    "    x_dummy <- x_obs[,-discrete_vars]\n",
    "  } else {\n",
    "    x_dummy <- matrix(NA, nrow=N, ncol=0)\n",
    "  }\n",
    "  \n",
    "  for (var in discrete_vars) {\n",
    "    if (length(unique(x_obs[,var])) == 2) { # already dummy variables\n",
    "      x_dummy <- cbind(x_obs[, var], x_dummy)\n",
    "      colnames(x_dummy)[1] <- paste0(\"X\", var)\n",
    "    } else { # ordinal vars\n",
    "      for (val in unique(x_obs[,var])) {\n",
    "        D_new <- as.numeric(x_obs[, var] == val)\n",
    "        x_dummy <- cbind(D_new, x_dummy)\n",
    "        colnames(x_dummy)[1] <- paste0(\"X\", var, \"_\", val)\n",
    "      }\n",
    "    }\n",
    "  }\n",
    "  \n",
    "  x_dummy_std <- scale(x_dummy)\n",
    "\n",
    "  dum_pca <- prco(x_dummy_std)\n",
    "  dum_pca_scores <- x_dummy_std %*% dum_pca$vectors[,1]\n",
    "  rank_cor_dum <- cor.test(xi, dum_pca_scores, method=\"spearman\")$estimate\n",
    "  if (rank_cor_dum < 0) {\n",
    "    rank_cor_dum <- - rank_cor_dum\n",
    "    dum_pca_scores <- -1 * dum_pca_scores\n",
    "  }\n",
    "  \n",
    "  # Quintile Mis-Classification\n",
    "  scores <- cbind(xi, cont_pca_scores, ord_pca_scores, dum_pca_scores)\n",
    "\n",
    "  quintiles <- matrix(NA, ncol=ncol(scores), nrow=N)\n",
    "  \n",
    "  for (x in 1:ncol(scores)) {\n",
    "    # quintiles[,x] <- as.numeric(scores[,x], g=5)\n",
    "    # quintiles[,x] <- as.numeric(cut(scores[,x], quantile(scores[,x],probs=seq(0,1,0.2)), include.lowest = T))\n",
    "    quintiles[,x] <- as.numeric(cut_number(scores[,x], n=5))\n",
    "  }\n",
    "  \n",
    "  misclass_baseline <- 1- mean(quintiles[,1] == quintiles[,2])\n",
    "  misclass_ord <- 1 - mean(quintiles[,1] == quintiles[,3])\n",
    "  misclass_dum <- 1 - mean(quintiles[,1] == quintiles[,4])\n",
    "\n",
    "  return(list(rank_cor_baseline=rank_cor_baseline,\n",
    "              rank_cor_ord = rank_cor_ord,\n",
    "              rank_cor_dum = rank_cor_dum,\n",
    "              misclass_baseline = misclass_baseline,\n",
    "              misclass_ord = misclass_ord,\n",
    "              misclass_dum = misclass_dum))\n",
    "}"
   ]
  },
  {
   "cell_type": "code",
   "execution_count": 24,
   "metadata": {},
   "outputs": [],
   "source": [
    "set.seed(1)\n",
    "reps <- 50\n",
    "res <- matrix(NA,ncol=reps+2, nrow=0)\n",
    "\n",
    "\n",
    "for (x in seq(0.1, 0.9, by=0.1)) {\n",
    "  simulation <- replicate(reps, sim_func2(\n",
    "    N = 1000, \n",
    "    K = 50, \n",
    "    factors = 1, \n",
    "    nts_r = 2, \n",
    "    var_2 = 0, \n",
    "    fract_discrete = x, \n",
    "    lambda_pois = 1\n",
    "  ))\n",
    "  \n",
    "  sim <-  mapply(simulation, FUN = as.numeric)\n",
    "  sim <- matrix(data = sim, ncol = reps)\n",
    "  \n",
    "  res <- rbind(res, cbind(rep(x, 6), 1:6, sim))\n",
    "}\n",
    "\n",
    "colnames(res) <- c(\"parameter\", \"method\", paste(\"rep\", 1:reps, sep=\"\"))\n",
    "\n",
    "rank_cor <- data.frame(res[which(res[,'method'] < 4),])\n",
    "quintile_mis <- data.frame(res[which(res[,'method'] > 3),])\n",
    "\n",
    "rank_cor_l <- gather(data=rank_cor, key=rep, rank_cor, -c(\"parameter\", \"method\"))\n",
    "quintile_mis_l <- gather(data=quintile_mis, key=rep, quintile_mis, -c(\"parameter\", \"method\"))"
   ]
  },
  {
   "cell_type": "code",
   "execution_count": 25,
   "metadata": {},
   "outputs": [
    {
     "data": {
      "image/png": "[encoded data removed]",
      "text/plain": [
       "plot without title"
      ]
     },
     "metadata": {},
     "output_type": "display_data"
    }
   ],
   "source": [
    "p1 <- ggplot(quintile_mis_l, aes(x=factor(parameter), y=quintile_mis, fill=factor(method))) + \n",
    "  geom_boxplot() + scale_fill_discrete(name= \"PCA on\", labels = c(\"Continuous\", \"Ordinal\", \"Dummy\")) +\n",
    "  labs(color = \"\") + xlab(\"Fraction of Discrete Variables\") + ylab(\"Overall Misclassification Rate\") + ylim(0,0.15) + labs(\"PCA on\") +\n",
    "  ggtitle(\"Overall Misclassification Rate\")\n",
    "  \n",
    "p2 <- ggplot(rank_cor_l, aes(x=factor(parameter), y=rank_cor, fill=factor(method))) + \n",
    "  geom_boxplot()  + xlab(\"Fraction of Discrete Variables\") + ylab(\"Rank Correlation\") + ylim(0.991,1) + labs(\"PCA on\") +\n",
    "  scale_fill_discrete(name= \"PCA on\", labels = c(\"Continuous\", \"Ordinal\", \"Dummy\")) + ggtitle(\"Spearman's Rank Correlation\")\n",
    "\n",
    "\n",
    "options(repr.plot.width=10, repr.plot.height=4)\n",
    "plot_grid(p1, p2, align = \"h\", nrow = 1, rel_heights = c(1, 1))"
   ]
  },
  {
   "cell_type": "markdown",
   "metadata": {},
   "source": [
    "Naturally, the baseline approach (in red) is not affected by increasing the fraction of discrete variables: the median is at about 7.5\\% of the households being misclassified with respect to their quintile rank and the median with respect to the general rank correlation is somewhat below 0.9975. The other two approaches yield very similar results when the fraction of discrete variables is at 10\\% but their performance deteriorates when this proportion is increased. As expected, the dummy approach performs slightly worse than the ordinal one. But still, the differences to the baseline are rather small: the difference between the medians of baseline and dummy approach is about 0.005 with respect to the rank correlation and about 5 percentage points regarding the overall misclassification rate.\n",
    "\n",
    "In the next step, it shall be investigated how varying the mean of the Poisson distribution influences the performance of the PCA approaches on discrete data as well as the difference in performance btween both of them. With $\\lambda_{Pois} = 1$, in expectation about 35\\% of the discrete variables should be pure dummy variables and an almost equal share should be ordinal variables with three categories. It can be expected that the performance difference between the two approaches is slightly larger than for higher $\\lambda_{Pois}$ as there is a sizable share of ordinal variables with only a low number of categories - in this case the harm done by the dummy encoding through introducing spurious correlations should be larger than with a larger share of variables that have many categories where the spurious dependencies vanish. Overall, the performance difference between the baseline and the ordinal approach is expected to become smaller with larger $\\lambda_{Pois}$ since treating the ordinal variables as continuous is much less of a problem when the variables have many categories."
   ]
  },
  {
   "cell_type": "code",
   "execution_count": 26,
   "metadata": {},
   "outputs": [],
   "source": [
    "set.seed(1)\n",
    "reps <- 50\n",
    "res <- matrix(NA,ncol=reps+2, nrow=0)\n",
    "  \n",
    "for (x in 1:5) {\n",
    "    simulation <- replicate(reps, sim_func2(\n",
    "      N = 1000, \n",
    "      K = 50, \n",
    "      factors = 1, \n",
    "      nts_r = 2, \n",
    "      var_2 = 0, \n",
    "      fract_discrete = 0.8, \n",
    "      lambda_pois = x\n",
    "    ))\n",
    "    \n",
    "    sim <-  mapply(simulation, FUN = as.numeric)\n",
    "    sim <- matrix(data = sim, ncol = reps)\n",
    "    \n",
    "    res <- rbind(res, cbind(rep(x, 6), 1:6, sim))\n",
    "}\n",
    "  \n",
    "colnames(res) <- c(\"parameter\", \"method\", paste(\"rep\", 1:reps, sep=\"\"))\n",
    "  \n",
    "rank_cor <- data.frame(res[which(res[,'method'] < 4),])\n",
    "quintile_mis <- data.frame(res[which(res[,'method'] > 3),])\n",
    "  \n",
    "rank_cor_l <- gather(data=rank_cor, key=rep, rank_cor, -c(\"parameter\", \"method\"))\n",
    "quintile_mis_l <- gather(data=quintile_mis, key=rep, quintile_mis, -c(\"parameter\", \"method\"))"
   ]
  },
  {
   "cell_type": "code",
   "execution_count": 27,
   "metadata": {},
   "outputs": [
    {
     "data": {
      "image/png": "[encoded data removed]",
      "text/plain": [
       "plot without title"
      ]
     },
     "metadata": {},
     "output_type": "display_data"
    }
   ],
   "source": [
    "p1 <- ggplot(quintile_mis_l, aes(x=factor(parameter), y=quintile_mis, fill=factor(method))) + \n",
    "  geom_boxplot() + scale_fill_discrete(name= \"PCA on\", labels = c(\"Continuous\", \"Ordinal\", \"Dummy\")) +\n",
    "  labs(color = \"\") + xlab(\"Lambda (Mean of Poisson Distr.)\") + ylab(\"Overall Misclassification Rate\") + ylim(0,0.15) + labs(\"PCA on\") +\n",
    "  ggtitle(\"Overall Misclassification Rate\")\n",
    "  \n",
    "p2 <- ggplot(rank_cor_l, aes(x=factor(parameter), y=rank_cor, fill=factor(method))) + \n",
    "  geom_boxplot()  + xlab(\"Lambda (Mean of Poisson Distr.)\") + ylab(\"Rank Correlation\") + ylim(0.9915,1) + labs(\"PCA on\") +\n",
    "  scale_fill_discrete(name= \"PCA on\", labels = c(\"Continuous\", \"Ordinal\", \"Dummy\")) + ggtitle(\"Spearman's Rank Correlation\")\n",
    "\n",
    "\n",
    "options(repr.plot.width=10, repr.plot.height=4)\n",
    "plot_grid(p1, p2, align = \"h\", nrow = 1, rel_heights = c(1, 1))"
   ]
  },
  {
   "cell_type": "markdown",
   "metadata": {},
   "source": [
    "It can be seen from the graphs that the expected patterns materialised in the simulation study. The overall performance of the two approaches applied to the discrete variables improves with increasing $\\lambda_{Pois}$ and also the performance difference between them is reduced.\n",
    "\n",
    "So far, we focussed very much on the second question: the effect of discretisation on the performance of PCA when creating a wealth index. While the difference in performance among the ordinal and the dummy approach is not found to be paramount given the presented data generating process, it can still be concluded that the ordinal approach, i.e. treating ordinal variables as if they were continuous, is to be preferred compared to dummy encoding which was proposed by Filmer and Pritchett (2001). Overall, their performance drops off compared to performing PCA on the hypothetical continuous variables before discretisation when the fraction of discrete variables is high and when the discrete variables have only a small number of categories.\n",
    "\n",
    "*(iii) Multiple Latent Factors*\n",
    "\n",
    "Lastly, it shall be illustrated what happens once there is a second latent factor introduced besides household economic status. The data generating process is therefore  manipulated as follows:\n",
    "\n",
    "$$ x_{ij}^\\ast = \\xi_{1i} \\omega_{1j} + \\xi_{2i} \\omega_{2j} + \\Delta_{ij} \\text{ , } i = 1, \\dots , N, j = 1, \\dots, P  \\text{ , }$$\n",
    "\n",
    "where $\\xi_2$ denotes an additional latent factor. This might be something like differences in taste or even whether the household is located in an urban or a rural area. Both factors are drawn from a bivariate normal distribution $(\\xi_{1i},  \\xi_{2i}) \\sim N(0_2, \\begin{pmatrix} 1 & 0 \\\\ 0 & \\sigma^2 \\end{pmatrix})$. The factor loadings $\\omega_{1j}$ are the same as before but the loadings of the second factor, $\\omega_{2j}$, are such that $\\parallel \\, \\, \\omega_1 \\parallel \\, = \\, \\parallel \\, \\omega_2 \\parallel \\, = 1$ and $\\omega_1 \\perp \\omega_2$. The distribution of $\\Delta_i = (\\Delta_{i1}, \\dots, \\Delta_{iP}) \\sim N_P(0_P, \\pmb I_P / (4P))$ is also the same as before.\n",
    "\n",
    "Since we already established that PCA applied to the discrete variables generally performs worse than PCA on the hypothetical continuous variables, we only consider the latter approach. This simulation exercise is solely intended to emphasise the impact of the presence of a second latent factor on the PCA-based wealth index. Clearly, the expectation is that the PCA will no longer be able to capture the latent factor of interest (household wealth) once there is a relevant second factor as the PCA procedure mechanically picks up on the additional variability introduced it.\n",
    "\n",
    "\n"
   ]
  },
  {
   "cell_type": "code",
   "execution_count": 28,
   "metadata": {},
   "outputs": [],
   "source": [
    "\n",
    "set.seed(1)\n",
    "reps <- 50\n",
    "res <- matrix(NA,ncol=reps+2, nrow=0)\n",
    "\n",
    "\n",
    "for (x in c(0.01, 0.05, 0.1, 0.5, 1.5, 5)) {\n",
    "  simulation <- replicate(reps, sim_func2(\n",
    "    N = 1000, \n",
    "    K = 50, \n",
    "    factors = 2, \n",
    "    nts_r = 2, \n",
    "    var_2 = x, \n",
    "    fract_discrete = 0.8, \n",
    "    lambda_pois = 1\n",
    "  ))\n",
    "  \n",
    "  sim <-  mapply(simulation, FUN = as.numeric)\n",
    "  sim <- matrix(data = sim, ncol = reps)\n",
    "  \n",
    "  res <- rbind(res, cbind(rep(x, 6), 1:6, sim))\n",
    "}\n",
    "\n",
    "colnames(res) <- c(\"parameter\", \"method\", paste(\"rep\", 1:reps, sep=\"\"))\n",
    "\n",
    "rank_cor <- data.frame(res[which(res[,'method'] == 1),])\n",
    "quintile_mis <- data.frame(res[which(res[,'method'] == 4),])\n",
    "\n",
    "rank_cor_l <- gather(data=rank_cor, key=rep, rank_cor, -c(\"parameter\", \"method\"))\n",
    "quintile_mis_l <- gather(data=quintile_mis, key=rep, quintile_mis, -c(\"parameter\", \"method\"))"
   ]
  },
  {
   "cell_type": "code",
   "execution_count": 29,
   "metadata": {},
   "outputs": [
    {
     "data": {
      "image/png": "[encoded data removed]",
      "text/plain": [
       "plot without title"
      ]
     },
     "metadata": {},
     "output_type": "display_data"
    }
   ],
   "source": [
    "p1 <- ggplot(quintile_mis_l, aes(x=factor(parameter), y=quintile_mis, fill=factor(method))) + \n",
    "  geom_boxplot() + scale_fill_discrete(name= \"PCA on\", labels = c(\"Continuous\")) +\n",
    "  labs(color = \"\") + xlab(\"Var(second factor)\") + ylab(\"Overall Misclassification Rate\") + labs(\"PCA on\") +\n",
    "  ggtitle(\"Overall Misclassification Rate\")\n",
    "  \n",
    "p2 <- ggplot(rank_cor_l, aes(x=factor(parameter), y=rank_cor, fill=factor(method))) + \n",
    "  geom_boxplot()  + xlab(\"Var(second factor)\") + ylab(\"Rank Correlation\") + labs(\"PCA on\") +\n",
    "  scale_fill_discrete(name= \"PCA on\", labels = c(\"Continuous\")) + ggtitle(\"Spearman's Rank Correlation\")\n",
    "\n",
    "\n",
    "options(repr.plot.width=10, repr.plot.height=4)\n",
    "plot_grid(p1, p2, align = \"h\", nrow = 1, rel_heights = c(1, 1))"
   ]
  },
  {
   "cell_type": "markdown",
   "metadata": {},
   "source": [
    "Already a variance of 0.01 is enough such that on average more than 50\\% of the households get assigned a wrong wealth quintile. This number increases to around 80\\% once the variance of the second factor is five times larger than the one of the first factor. Similarly, the rank correlation drops off from about 0.8 to around 0.1. In conclusion, it can be said that PCA employed to construct a wealth index based on asset ownership data and other variables indicating living conditions is highly dependent on the assumption that the latent factor to be measured is by far the most important determinant of the covariance structure of the data. Once this assumption is violated, the wealth index can no longer be expected to yield adequate results.   "
   ]
  },
  {
   "cell_type": "markdown",
   "metadata": {},
   "source": [
    "<a id='fazit'></a>\n",
    "## Conclusion"
   ]
  },
  {
   "cell_type": "markdown",
   "metadata": {},
   "source": [
    "This project introduced Principal Component Analysis (PCA) and outlined a range of issues that deserve attention. First of all, the decision whether or not to standardise the variables on which PCA is employed is crucial. The PCA procedure is not scale invariant, so it may be advisable to do so in the case of variables that are measured on largely differing scales. Yet, if differences in variances are also related to the outcome, it may not be wise to standardise. Secondly, choosing the appropriate number of principal components to include in a Principal Component Regression (PCR) should not only be based on rather ad-hoc measures such as rules of thumb regarding the Proportion of Variance Explained. Those do not at all take into account the outcome variable and it is not guaranteed that the statistical information needed to predict the outcome is actually contained in the first couple of principal components. Supervised learning techniques are helpful in this regard, but the actual choice should not solely be based on an algorithm (e.g. selecting the number of principal components that yields the absolutely lowest Cross-Validation MSE). Instead, the researcher should plot the CV-MSE and determine the number of principal components to include also on the basis of eyeballing. Lastly, dimensionality reduction does not come without a cost: the predictive performance of PCR may be inferior to OLS.\n",
    "\n",
    "The second part of this project was devoted to a particular application of PCA in economics: the construction of a wealth index. In the absence of survey data on household income or consumption expenditures, development economists are often restricted to survey items regarding the ownership of specific assets or the general living standards. PCA may serve as a tool to assign appropriate weights to those variables which allows to combine them into a wealth index which ought to approximate the economic status of a household. Potential pitfalls of this approach were discussed and demonstrated - either in the form of a numerical example or through a simulation study. First, the obtained wealth index based on PCA can imply a \"perverse\" ranking: it is possible that an asset is classified as a \"bad\" such that owning no asset at all would yield a higher PCA score than owning such a \"bad\" good. Secondly, the discrete nature of the variables can be problematic as PCA is designated to be applied to approximately normally distributed data. An extensive simulation study confirmed that it is preferable to treat ordinal variables as if they were continuous rather than encoding them in dummy variables. Overall, the bias due to the discretisation vanishes when the discrete variables have many categories. Lastly, simulated data was utilised to demonstrate the sensitivity of the PCA approach when there is a second latent factor besides household economic status which underlies the data. Even without any covariance and given a comparatively small variance of the second factor, the obtained wealth index does no longer appropriately proxy for household economic status."
   ]
  },
  {
   "cell_type": "markdown",
   "metadata": {},
   "source": [
    "<a id='refs'></a>\n",
    "## References\n",
    "\n",
    "Brock, J. M. (2020). Unfair inequality, governance and individual beliefs. Journal of Comparative Economics. Forthcoming.\n",
    "\n",
    "Filmer, D., & Pritchett, L. H. (2001). Estimating wealth effects without expenditure data - or tears: an application to educational enrollments in states of India. Demography, 38(1), 115-132.\n",
    "\n",
    "James, G., Witten, D., Hastie, T., & Tibshirani, R. (2013). An introduction to statistical learning. Springer.\n",
    "\n",
    "Jolliffe, I.T. (2002). Principal Component Analysis (2nd ed.). Springer.\n",
    "\n",
    "Jolliffe, I. T., & Cadima, J. (2016). Principal component analysis: A review and recent developments. Philosophical Transactions of the Royal Society A: Mathematical, Physical and Engineering Sciences, 374(2065).\n",
    "\n",
    "McKenzie, D. J. (2005). Measuring inequality with asset indicators. Journal of Population Economics, 18(2), 229-260.\n",
    "\n",
    "Kolenikov, S., & Angeles, G. (2009). Socioeconomic status measurement with discrete proxy variables: Is principal component analysis a reliable answer?. Review of Income and Wealth, 55(1), 128-165.\n",
    "\n",
    "Wittenberg, M., & Leibbrandt, M. (2017). Measuring inequality by asset indices: A general approach with application to South Africa. Review of Income and Wealth, 63(4), 706-730.\n",
    "\n",
    "Yoon, J., & Krivobokova, T. (2017). Treatments of non-metric variables in partial least squares and principal component analysis. Journal of Applied Statistics, 45(6), 971-987."
   ]
  }
 ],
 "metadata": {
  "kernelspec": {
   "display_name": "R",
   "language": "R",
   "name": "ir"
  },
  "language_info": {
   "codemirror_mode": "r",
   "file_extension": ".r",
   "mimetype": "text/x-r-source",
   "name": "R",
   "pygments_lexer": "r",
   "version": "3.6.1"
  }
 },
 "nbformat": 4,
 "nbformat_minor": 4
}
